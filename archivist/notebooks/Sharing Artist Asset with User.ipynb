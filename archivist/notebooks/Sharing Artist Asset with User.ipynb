{
 "cells": [
  {
   "cell_type": "markdown",
   "id": "06af7bf9-c332-4095-b660-e4f019f6c6c0",
   "metadata": {},
   "source": [
    "## Sharing Artist Asset with User"
   ]
  },
  {
   "cell_type": "code",
   "execution_count": 1,
   "id": "e043a00f-2761-46dd-a141-c3d677e02900",
   "metadata": {},
   "outputs": [],
   "source": [
    "# Creates an Access Policy that shares \"read-only\" permission with user (within a single tenancy).\n",
    "#\n",
    "# Main function, establishes a connection to DATATRAILS using an App Registration then uses that\n",
    "# to create an Access Policy.\n",
    "#\n",
    "# Note: The purpose of DATATRAILS Jupyter Notebooks is to provide simplified examples that one can easily execute and digest.\n",
    "# The DATATRAILS Python SDK is authored to work cleanly with more advanced coding techniques.\n",
    "#\n",
    "# DATATRAILS Python SDK: https://github.com/datatrails/datatrails-python\n",
    "#"
   ]
  },
  {
   "cell_type": "code",
   "execution_count": 2,
   "id": "5f5e7543-b56d-41da-ab52-67fcd6a75fb8",
   "metadata": {},
   "outputs": [],
   "source": [
    "import random\n",
    "import string\n",
    "\n",
    "from json import dumps as json_dumps\n",
    "from os import getenv\n",
    "from warnings import filterwarnings\n",
    "\n",
    "from dotenv import load_dotenv\n",
    "\n",
    "from archivist.archivist import Archivist\n",
    "from archivist.proof_mechanism import ProofMechanism\n",
    "from archivist.logger import set_logger\n",
    "from archivist.constants import ASSET_BEHAVIOURS"
   ]
  },
  {
   "cell_type": "code",
   "execution_count": 3,
   "id": "f7a4f573-b6e0-41a4-baaf-4048a974d1d2",
   "metadata": {},
   "outputs": [],
   "source": [
    "%reload_ext dotenv\n",
    "%dotenv -o notebooks.env"
   ]
  },
  {
   "cell_type": "code",
   "execution_count": 4,
   "id": "381f7cc7-51fa-414e-8f39-5d85f13c458d",
   "metadata": {},
   "outputs": [],
   "source": [
    "# DATATRAILS_URL, DATATRAILS_APPREG_CLIENT, DATATRAILS_APPREG_SECRET are environment variables that represent connection parameters.\n",
    "#\n",
    "# DATATRAILS_URL = represents the url to the DATATRAILS application\n",
    "# DATATRAILS_APPREG_CLIENT = represents the client ID from an Application Registration\n",
    "# DATATRAILS_APPREG_SECRET = represents the client secret from an Application Registration\n",
    "DATATRAILS_URL = getenv(\"DATATRAILS_URL\")\n",
    "DATATRAILS_APPREG_CLIENT = getenv(\"DATATRAILS_APPREG_CLIENT\")\n",
    "DATATRAILS_APPREG_SECRET = getenv(\"DATATRAILS_APPREG_SECRET\")"
   ]
  },
  {
   "cell_type": "code",
   "execution_count": 5,
   "id": "c1d61219-d2f6-4d1f-a6ce-d3ffff93a4d2",
   "metadata": {},
   "outputs": [
    {
     "name": "stdout",
     "output_type": "stream",
     "text": [
      "Connecting to DATATRAILS\n",
      "DATATRAILS_URL https://app.datatrails.ai\n"
     ]
    }
   ],
   "source": [
    "\"\"\"\n",
    "Main function of Access Policy creation.\n",
    "\n",
    "* Connect to DATATRAILS with client ID and client secret\n",
    "* Creates an Access Policy\n",
    "* Prints response of Access Policy creation\n",
    "\"\"\"\n",
    "\n",
    "# Optional call to set the logger level.  The argument can be either\n",
    "# \"INFO\" or \"DEBUG\".  For more sophisticated logging control see our\n",
    "# documentation.\n",
    "set_logger(\"INFO\")\n",
    "\n",
    "# Initialize connection to DATATRAILS\n",
    "print(\"Connecting to DATATRAILS\")\n",
    "print(\"DATATRAILS_URL\", DATATRAILS_URL)\n",
    "arch = Archivist(\n",
    "    DATATRAILS_URL, (DATATRAILS_APPREG_CLIENT, DATATRAILS_APPREG_SECRET), max_time=300\n",
    ")"
   ]
  },
  {
   "cell_type": "code",
   "execution_count": 6,
   "id": "becb2201-43b0-46e3-9216-2a4cc1a6f1f8",
   "metadata": {},
   "outputs": [],
   "source": [
    "def create_access(arch):\n",
    "    \"\"\"\n",
    "    Creates an Access Policy that shares read only data for Artists with another user within a single tenancy\n",
    "    \"\"\"\n",
    "    props = {\n",
    "        \"display_name\": \"Sharing Artist Asset\",\n",
    "        \"description\": \"Sharing Artist Asset with User\",\n",
    "    }\n",
    "    filters = [{\"or\": [\"attributes.arc_display_type=Artists\"]}]\n",
    "    access_permissions = [\n",
    "        {\n",
    "            \"asset_attributes_read\": [\"*\"],\n",
    "            \"asset_attributes_write\": [],\n",
    "            \"behaviours\": ASSET_BEHAVIOURS,\n",
    "            \"event_arc_display_type_read\": [\"*\"],\n",
    "            \"event_arc_display_type_write\": [],\n",
    "            \"include_attributes\": [],\n",
    "            \"subjects\": [],\n",
    "            \"user_attributes\": [{\"or\": [\"email=datatrails.test@gmail.com\"]}],\n",
    "        }\n",
    "    ]\n",
    "\n",
    "    return arch.access_policies.create(props, filters, access_permissions)"
   ]
  },
  {
   "cell_type": "code",
   "execution_count": 7,
   "id": "23ce2d75-3557-4e58-9fbd-0a1c24fe185b",
   "metadata": {},
   "outputs": [
    {
     "name": "stderr",
     "output_type": "stream",
     "text": [
      "Refresh token\n"
     ]
    },
    {
     "name": "stdout",
     "output_type": "stream",
     "text": [
      "ACCESS_POLICY {\n",
      "    \"identity\": \"access_policies/318599ad-272f-4c58-b0ac-5773f38c705a\",\n",
      "    \"display_name\": \"Sharing Artist Asset\",\n",
      "    \"filters\": [\n",
      "        {\n",
      "            \"or\": [\n",
      "                \"attributes.arc_display_type=Artists\"\n",
      "            ]\n",
      "        }\n",
      "    ],\n",
      "    \"access_permissions\": [\n",
      "        {\n",
      "            \"subjects\": [],\n",
      "            \"behaviours\": [\n",
      "                \"RecordEvidence\"\n",
      "            ],\n",
      "            \"include_attributes\": [],\n",
      "            \"user_attributes\": [\n",
      "                {\n",
      "                    \"or\": [\n",
      "                        \"email=datatrails.test@gmail.com\"\n",
      "                    ]\n",
      "                }\n",
      "            ],\n",
      "            \"asset_attributes_read\": [\n",
      "                \"*\"\n",
      "            ],\n",
      "            \"asset_attributes_write\": [],\n",
      "            \"event_arc_display_type_read\": [\n",
      "                \"*\"\n",
      "            ],\n",
      "            \"event_arc_display_type_write\": []\n",
      "        }\n",
      "    ],\n",
      "    \"tenant\": \"tenant/0a62f7c9-fd7b-4791-8041-01218d839ec1\",\n",
      "    \"description\": \"Sharing Artist Asset with User\"\n",
      "}\n"
     ]
    }
   ],
   "source": [
    "# Creates an Access Policy and prints result\n",
    "access_policy = create_access(arch)\n",
    "print(\"ACCESS_POLICY\", json_dumps(access_policy, indent=4))"
   ]
  }
 ],
 "metadata": {
  "kernelspec": {
   "display_name": "Python 3 (ipykernel)",
   "language": "python",
   "name": "python3"
  },
  "language_info": {
   "codemirror_mode": {
    "name": "ipython",
    "version": 3
   },
   "file_extension": ".py",
   "mimetype": "text/x-python",
   "name": "python",
   "nbconvert_exporter": "python",
   "pygments_lexer": "ipython3",
   "version": "3.8.15"
  }
 },
 "nbformat": 4,
 "nbformat_minor": 5
}
