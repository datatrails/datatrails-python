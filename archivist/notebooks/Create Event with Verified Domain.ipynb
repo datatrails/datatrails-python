{
 "cells": [
  {
   "cell_type": "markdown",
   "id": "5950c6ba",
   "metadata": {},
   "source": [
    "Create Event With Verified Domain\n",
    "============================\n"
   ]
  },
  {
   "cell_type": "code",
   "execution_count": 1,
   "id": "c85b9e96",
   "metadata": {},
   "outputs": [],
   "source": [
    "# Create an event for an asset given url to Archivist and user Token.\n",
    "#\n",
    "# The module contains four functions: main, create_asset, create_event and\n",
    "# get_verified_domain.\n",
    "#\n",
    "# The main function would initialize an archivist connection using the url and\n",
    "# the credentials, called \"arch\".\n",
    "\n",
    "# create_asset will execute 'assets.create', which is a archivist connection function\n",
    "# to create a new asset for the archivist through archivist connection. The main funciton then\n",
    "# calls create_event and pass in \"arch\" and the created asset to create a new event for the asset.\n",
    "\n",
    "# In both cases the verified domain name is displayed."
   ]
  },
  {
   "cell_type": "code",
   "execution_count": 2,
   "id": "001b25e3",
   "metadata": {},
   "outputs": [],
   "source": [
    "from json import dumps as json_dumps\n",
    "from os import getenv\n",
    "from warnings import filterwarnings\n",
    "\n",
    "from dotenv import load_dotenv\n",
    "\n",
    "from archivist.archivist import Archivist\n",
    "from archivist.logger import set_logger\n",
    "\n",
    "filterwarnings(\"ignore\", message=\"Unverified HTTPS request\")"
   ]
  },
  {
   "cell_type": "code",
   "execution_count": 3,
   "id": "7158f0a4",
   "metadata": {},
   "outputs": [],
   "source": [
    "%reload_ext dotenv\n",
    "%dotenv -o notebooks.env"
   ]
  },
  {
   "cell_type": "code",
   "execution_count": 4,
   "id": "a877ffed",
   "metadata": {},
   "outputs": [],
   "source": [
    "# URL, CLIENT, SECRET are environment variables that represent connection parameters.\n",
    "#\n",
    "# URL = represents the url to the DataTrails application\n",
    "# CLIENT = represents the client ID from an Application Registration\n",
    "# SECRET = represents the client secret from an Application Registration\n",
    "DATATRAILS_URL = getenv(\"DATATRAILS_URL\")\n",
    "DATATRAILS_APPREG_CLIENT = getenv(\"DATATRAILS_APPREG_CLIENT\")\n",
    "DATATRAILS_APPREG_SECRET = getenv(\"DATATRAILS_APPREG_SECRET\")"
   ]
  },
  {
   "cell_type": "code",
   "execution_count": 5,
   "id": "c5f7d4e5",
   "metadata": {},
   "outputs": [
    {
     "name": "stdout",
     "output_type": "stream",
     "text": [
      "Connecting to DATATRAILS\n",
      "DATATRAILS_URL https://app.datatrails.ai\n"
     ]
    }
   ],
   "source": [
    "\"\"\"\n",
    "Main function of Asset and Event creation.\n",
    "\n",
    "* Connect to DataTrails with client ID and client secret\n",
    "* Creates an Asset and two Events\n",
    "* Prints response of Asset and Event creation\n",
    "\"\"\"\n",
    "\n",
    "# Optional call to set the logger level.  The argument can be either\n",
    "# \"INFO\" or \"DEBUG\".  For more sophisticated logging control see our\n",
    "# documentation.\n",
    "set_logger(\"INFO\")\n",
    "\n",
    "# Initialize connection to DATATRAILS\n",
    "print(\"Connecting to DATATRAILS\")\n",
    "print(\"DATATRAILS_URL\", DATATRAILS_URL)\n",
    "arch = Archivist(\n",
    "    DATATRAILS_URL, (DATATRAILS_APPREG_CLIENT, DATATRAILS_APPREG_SECRET), max_time=300\n",
    ")"
   ]
  },
  {
   "cell_type": "code",
   "execution_count": 6,
   "id": "acdf240c",
   "metadata": {},
   "outputs": [],
   "source": [
    "def get_verified_domain(arch, entity):\n",
    "    \"\"\"Get the verified domain for the asset/event.\n",
    "\n",
    "    Args:\n",
    "        arch: archivist connection.\n",
    "        entity: an asset or event\n",
    "\n",
    "    Returns:\n",
    "        verified_domain: name of the verified domain\n",
    "                         for the asset or event.\n",
    "\n",
    "    \"\"\"\n",
    "\n",
    "    tenancy = arch.tenancies.publicinfo(entity[\"tenant_identity\"])\n",
    "    return tenancy.get(\"verified_domain\", \"\")"
   ]
  },
  {
   "cell_type": "code",
   "execution_count": 7,
   "id": "8889c68d",
   "metadata": {},
   "outputs": [],
   "source": [
    "def create_event(arch, asset):\n",
    "    \"\"\"Create an event for the passed-in asset.\n",
    "\n",
    "    Args:\n",
    "        arch: archivist connection.\n",
    "        asset: an asset created using aconn\n",
    "\n",
    "    Returns:\n",
    "        new_event: a new event for the asset.\n",
    "\n",
    "    \"\"\"\n",
    "\n",
    "    # props can be defined for different behaviours and the attributes associated with\n",
    "    # different behaviours are also different.\n",
    "    props = {\n",
    "        \"operation\": \"Record\",\n",
    "        # This event is used to record evidence.\n",
    "        \"behaviour\": \"RecordEvidence\",\n",
    "        # Optional Client-claimed time at which the maintenance was performed\n",
    "        \"timestamp_declared\": \"2019-11-27T14:44:19Z\",\n",
    "        # Optional Client-claimed identity of person performing the operation\n",
    "        \"principal_declared\": {\n",
    "            \"issuer\": \"idp.synsation.io/1234\",\n",
    "            \"subject\": \"phil.b\",\n",
    "            \"email\": \"phil.b@synsation.io\",\n",
    "        },\n",
    "    }\n",
    "    attrs = {\n",
    "        # Required Details of the RecordEvidence request\n",
    "        \"arc_description\": \"Safety conformance approved for version 1.6.\",\n",
    "        # Required The evidence to be retained in the asset history\n",
    "        \"arc_evidence\": \"DVA Conformance Report attached\",\n",
    "        # Example Client can add any additional information in further attributes,\n",
    "        # including free text or attachments\n",
    "        \"conformance_report\": \"blobs/e2a1d16c-03cd-45a1-8cd0-690831df1273\",\n",
    "    }\n",
    "\n",
    "    return arch.events.create(asset[\"identity\"], props=props, attrs=attrs, confirm=True)\n",
    "\n",
    "    # alternatively if some work can be done whilst the event is confirmed then this call can be\n",
    "    # replaced by a two-step alternative:\n",
    "\n",
    "    # event = arch.events.create(asset[\"identity\"], props=props, attrs=attrs, confirm=False)\n",
    "\n",
    "    # ... do something else here\n",
    "    # and then wait for confirmation\n",
    "\n",
    "    # self.arch.events.wait_for_confirmation(event['identity'])"
   ]
  },
  {
   "cell_type": "code",
   "execution_count": 8,
   "id": "ba24d143",
   "metadata": {},
   "outputs": [],
   "source": [
    "def create_asset(arch):\n",
    "    \"\"\"Create an asset using Archivist Connection.\n",
    "\n",
    "    Args:\n",
    "        arch: archivist connection.\n",
    "\n",
    "    Returns:\n",
    "        newasset: a new asset created.\n",
    "\n",
    "    \"\"\"\n",
    "    attrs = {\n",
    "        \"arc_display_name\": \"display_name\",  # Asset's display name in the user interface\n",
    "        \"arc_description\": \"display_description\",  # Asset's description in the user interface\n",
    "        \"arc_display_type\": \"display_type\",  # Arc_display_type is a free text field\n",
    "        # allowing the creator of\n",
    "        # an asset to specify the asset\n",
    "        # type or class. Be careful when setting this:\n",
    "        # assets are grouped by type and\n",
    "        # sharing policies can be\n",
    "        # configured to share assets based on\n",
    "        # their arc_display_type.\n",
    "        # So a mistake here can result in asset data being\n",
    "        # under- or over-shared.\n",
    "        \"some_custom_attribute\": \"value\",  # You can add any custom value as long as\n",
    "        # it does not start with arc_\n",
    "    }\n",
    "    # The first argument is the attributes of the asset\n",
    "    # The second argument is wait for confirmation:\n",
    "    #   If @confirm@ is True then this function will not\n",
    "    #   return until the asset is confirmed and ready\n",
    "    #   to accept events (or an error occurs)\n",
    "    return arch.assets.create(attrs=attrs, confirm=True)"
   ]
  },
  {
   "cell_type": "code",
   "execution_count": 9,
   "id": "b7482420",
   "metadata": {
    "scrolled": true
   },
   "outputs": [
    {
     "name": "stderr",
     "output_type": "stream",
     "text": [
      "Refresh token\n"
     ]
    },
    {
     "name": "stdout",
     "output_type": "stream",
     "text": [
      "Asset {\n",
      "    \"at_time\": \"2023-01-16T11:53:18Z\",\n",
      "    \"attributes\": {\n",
      "        \"arc_description\": \"display_description\",\n",
      "        \"arc_display_name\": \"display_name\",\n",
      "        \"arc_display_type\": \"display_type\",\n",
      "        \"some_custom_attribute\": \"value\"\n",
      "    },\n",
      "    \"behaviours\": [\n",
      "        \"Builtin\",\n",
      "        \"AssetCreator\",\n",
      "        \"RecordEvidence\"\n",
      "    ],\n",
      "    \"chain_id\": \"827586838445807967\",\n",
      "    \"confirmation_status\": \"CONFIRMED\",\n",
      "    \"identity\": \"assets/0047715f-368e-4a62-aa04-48e6fa974e85\",\n",
      "    \"owner\": \"0xe889E67FdBa658C6f27ccBDa98D9d1B5500Dbbce\",\n",
      "    \"public\": false,\n",
      "    \"storage_integrity\": \"TENANT_STORAGE\",\n",
      "    \"tenant_identity\": \"tenant/9bfb80ee-81f6-40dc-b5c7-1c7fb2fb9866\",\n",
      "    \"tracked\": \"TRACKED\"\n",
      "}\n",
      "Verified domain '  '\n"
     ]
    }
   ],
   "source": [
    "# Create a new asset\n",
    "asset = create_asset(arch)\n",
    "print(\"Asset\", json_dumps(asset, sort_keys=True, indent=4))\n",
    "print(\"Verified domain '\", get_verified_domain(arch, asset), \"'\")"
   ]
  },
  {
   "cell_type": "code",
   "execution_count": 10,
   "id": "bb5b0651",
   "metadata": {},
   "outputs": [
    {
     "name": "stdout",
     "output_type": "stream",
     "text": [
      "Event {\n",
      "    \"asset_attributes\": {},\n",
      "    \"asset_identity\": \"assets/0047715f-368e-4a62-aa04-48e6fa974e85\",\n",
      "    \"behaviour\": \"RecordEvidence\",\n",
      "    \"block_number\": 0,\n",
      "    \"confirmation_status\": \"CONFIRMED\",\n",
      "    \"event_attributes\": {\n",
      "        \"arc_description\": \"Safety conformance approved for version 1.6.\",\n",
      "        \"arc_evidence\": \"DVA Conformance Report attached\",\n",
      "        \"conformance_report\": \"blobs/e2a1d16c-03cd-45a1-8cd0-690831df1273\"\n",
      "    },\n",
      "    \"from\": \"0xe889E67FdBa658C6f27ccBDa98D9d1B5500Dbbce\",\n",
      "    \"identity\": \"assets/0047715f-368e-4a62-aa04-48e6fa974e85/events/f94ae41a-fe0d-4c2c-9486-46eeb2579a1f\",\n",
      "    \"operation\": \"Record\",\n",
      "    \"principal_accepted\": {\n",
      "        \"display_name\": \"Test Notebooks\",\n",
      "        \"email\": \"\",\n",
      "        \"issuer\": \"https://app.datatrails.ai/appidpv1\",\n",
      "        \"subject\": \"437bd138-dade-4346-aadd-dfdfee51ddf4\"\n",
      "    },\n",
      "    \"principal_declared\": {\n",
      "        \"display_name\": \"\",\n",
      "        \"email\": \"phil.b@synsation.io\",\n",
      "        \"issuer\": \"idp.synsation.io/1234\",\n",
      "        \"subject\": \"phil.b\"\n",
      "    },\n",
      "    \"tenant_identity\": \"tenant/9bfb80ee-81f6-40dc-b5c7-1c7fb2fb9866\",\n",
      "    \"timestamp_accepted\": \"2023-01-16T11:53:21Z\",\n",
      "    \"timestamp_committed\": \"2023-01-16T11:53:21.760625716Z\",\n",
      "    \"timestamp_declared\": \"2019-11-27T14:44:19Z\",\n",
      "    \"transaction_id\": \"\",\n",
      "    \"transaction_index\": 0\n",
      "}\n",
      "Verified domain '  '\n"
     ]
    }
   ],
   "source": [
    "# Create a new event\n",
    "event = create_event(arch, asset)\n",
    "print(\"Event\", json_dumps(event, sort_keys=True, indent=4))\n",
    "print(\"Verified domain '\", get_verified_domain(arch, event), \"'\")"
   ]
  },
  {
   "cell_type": "code",
   "execution_count": 11,
   "id": "f8ac6dda",
   "metadata": {},
   "outputs": [
    {
     "name": "stdout",
     "output_type": "stream",
     "text": [
      "Event {\n",
      "    \"asset_attributes\": {},\n",
      "    \"asset_identity\": \"assets/0047715f-368e-4a62-aa04-48e6fa974e85\",\n",
      "    \"behaviour\": \"RecordEvidence\",\n",
      "    \"block_number\": 0,\n",
      "    \"confirmation_status\": \"CONFIRMED\",\n",
      "    \"event_attributes\": {\n",
      "        \"arc_description\": \"Safety conformance approved for version 1.6.\",\n",
      "        \"arc_evidence\": \"DVA Conformance Report attached\",\n",
      "        \"conformance_report\": \"blobs/e2a1d16c-03cd-45a1-8cd0-690831df1273\"\n",
      "    },\n",
      "    \"from\": \"0xe889E67FdBa658C6f27ccBDa98D9d1B5500Dbbce\",\n",
      "    \"identity\": \"assets/0047715f-368e-4a62-aa04-48e6fa974e85/events/f94ae41a-fe0d-4c2c-9486-46eeb2579a1f\",\n",
      "    \"operation\": \"Record\",\n",
      "    \"principal_accepted\": {\n",
      "        \"display_name\": \"Test Notebooks\",\n",
      "        \"email\": \"\",\n",
      "        \"issuer\": \"https://app.datatrails.ai/appidpv1\",\n",
      "        \"subject\": \"437bd138-dade-4346-aadd-dfdfee51ddf4\"\n",
      "    },\n",
      "    \"principal_declared\": {\n",
      "        \"display_name\": \"\",\n",
      "        \"email\": \"phil.b@synsation.io\",\n",
      "        \"issuer\": \"idp.synsation.io/1234\",\n",
      "        \"subject\": \"phil.b\"\n",
      "    },\n",
      "    \"tenant_identity\": \"tenant/9bfb80ee-81f6-40dc-b5c7-1c7fb2fb9866\",\n",
      "    \"timestamp_accepted\": \"2023-01-16T11:53:21Z\",\n",
      "    \"timestamp_committed\": \"2023-01-16T11:53:21.760625716Z\",\n",
      "    \"timestamp_declared\": \"2019-11-27T14:44:19Z\",\n",
      "    \"transaction_id\": \"\",\n",
      "    \"transaction_index\": 0\n",
      "}\n",
      "Verified domain '  '\n"
     ]
    }
   ],
   "source": [
    "# Fetch the event\n",
    "event = arch.events.read(event[\"identity\"])\n",
    "print(\"Event\", json_dumps(event, sort_keys=True, indent=4))\n",
    "print(\"Verified domain '\", get_verified_domain(arch, event), \"'\")"
   ]
  },
  {
   "cell_type": "code",
   "execution_count": 12,
   "id": "2bde1472",
   "metadata": {},
   "outputs": [],
   "source": []
  }
 ],
 "metadata": {
  "kernelspec": {
   "display_name": "Python 3 (ipykernel)",
   "language": "python",
   "name": "python3"
  },
  "language_info": {
   "codemirror_mode": {
    "name": "ipython",
    "version": 3
   },
   "file_extension": ".py",
   "mimetype": "text/x-python",
   "name": "python",
   "nbconvert_exporter": "python",
   "pygments_lexer": "ipython3",
   "version": "3.8.15"
  }
 },
 "nbformat": 4,
 "nbformat_minor": 5
}
