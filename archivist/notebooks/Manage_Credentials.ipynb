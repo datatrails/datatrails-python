{
 "cells": [
  {
   "cell_type": "markdown",
   "id": "350e6df8",
   "metadata": {},
   "source": [
    "Manage Credentials\n",
    "================\n"
   ]
  },
  {
   "cell_type": "code",
   "execution_count": 1,
   "id": "79ec6439",
   "metadata": {},
   "outputs": [],
   "source": [
    "# Management of authorization credentials\n",
    "#\n",
    "# Demonstrating the use of the JWT or application credentials.\n",
    "# All variables are retrieved from the environment for demonstration purposes.\n",
    "#\n",
    "# Part 1 - creating an Archivist Instance using a JWT\n",
    "# Part 2 - creating an Archivist Instance using an application id and secret\n",
    "\n",
    "from os import getenv\n",
    "\n",
    "from archivist.archivist import Archivist"
   ]
  },
  {
   "cell_type": "code",
   "execution_count": 2,
   "id": "bc989557",
   "metadata": {},
   "outputs": [],
   "source": [
    "%reload_ext dotenv\n",
    "%dotenv -o notebooks.env"
   ]
  },
  {
   "cell_type": "code",
   "execution_count": 3,
   "id": "05b3c08d",
   "metadata": {},
   "outputs": [
    {
     "name": "stdout",
     "output_type": "stream",
     "text": [
      "DATATRAILS_URL https://app.datatrails.ai\n"
     ]
    }
   ],
   "source": [
    "# Retrieve the URL\n",
    "\n",
    "DATATRAILS_URL = getenv(\"DATATRAILS_URL\")\n",
    "print(\"DATATRAILS_URL\", DATATRAILS_URL)"
   ]
  },
  {
   "cell_type": "code",
   "execution_count": 4,
   "id": "e07100c6",
   "metadata": {},
   "outputs": [],
   "source": [
    "# Part 1. Using a JWT token\n",
    "#\n",
    "# The following steps detail how to use a full JWT bearer token."
   ]
  },
  {
   "cell_type": "code",
   "execution_count": 5,
   "id": "0bcf6c82",
   "metadata": {},
   "outputs": [
    {
     "name": "stdout",
     "output_type": "stream",
     "text": [
      "auth_token None\n"
     ]
    }
   ],
   "source": [
    "# extract JWT from environment\n",
    "\n",
    "auth_token = getenv(\"DATATRAILS_AUTHTOKEN\")\n",
    "print(\"auth_token\", auth_token)"
   ]
  },
  {
   "cell_type": "code",
   "execution_count": 6,
   "id": "ceefc550",
   "metadata": {},
   "outputs": [
    {
     "name": "stdout",
     "output_type": "stream",
     "text": [
      "Archivist(https://app.datatrails.ai)\n"
     ]
    }
   ],
   "source": [
    "# Using the JWT to create an Archivist instance\n",
    "\n",
    "with Archivist(DATATRAILS_URL, auth_token) as arch:\n",
    "    print(arch)"
   ]
  },
  {
   "cell_type": "code",
   "execution_count": 7,
   "id": "097756e3",
   "metadata": {},
   "outputs": [
    {
     "name": "stdout",
     "output_type": "stream",
     "text": [
      "DATATRAILS_APPREG_CLIENT cccccccccccccccccccccccccccccccccccc\n",
      "DATATRAILS_APPREG_SECRET ssssssssssssssssssssssssssssssssssssssssssssssssssssssssssssssss\n"
     ]
    }
   ],
   "source": [
    "# Part 2 Usng an application client id and secret\n",
    "#\n",
    "# To create a new application refer to https://app.datatrails.ai/developers and scroll down to the\n",
    "# AppRegistrations POST /archivist/iam/v1/application. Click on 'Try It Out', fill in the request body with a\n",
    "# required display name. Custom claims can be deleted from the example in most cases.\n",
    "\n",
    "DATATRAILS_APPREG_CLIENT = getenv(\"DATATRAILS_APPREG_CLIENT\")\n",
    "print(\"DATATRAILS_APPREG_CLIENT\", DATATRAILS_APPREG_CLIENT)\n",
    "\n",
    "DATATRAILS_APPREG_SECRET = getenv(\"DATATRAILS_APPREG_SECRET\")\n",
    "print(\"DATATRAILS_APPREG_SECRET\", DATATRAILS_APPREG_SECRET)"
   ]
  },
  {
   "cell_type": "code",
   "execution_count": 8,
   "id": "f328d435",
   "metadata": {},
   "outputs": [
    {
     "name": "stdout",
     "output_type": "stream",
     "text": [
      "Archivist(https://app.datatrails.ai)\n"
     ]
    }
   ],
   "source": [
    "# Using the application id and secret to create an Archivist instance\n",
    "\n",
    "with Archivist(\n",
    "    DATATRAILS_URL, (DATATRAILS_APPREG_CLIENT, DATATRAILS_APPREG_SECRET)\n",
    ") as arch:\n",
    "    print(arch)"
   ]
  },
  {
   "cell_type": "code",
   "execution_count": 9,
   "id": "cfb47ff4",
   "metadata": {},
   "outputs": [
    {
     "name": "stdout",
     "output_type": "stream",
     "text": [
      "Archivist(https://app.datatrails.ai)\n"
     ]
    }
   ],
   "source": [
    "# For convenience all this functionality has been emcapsulated in a convenience function\n",
    "from archivist.utils import get_auth\n",
    "\n",
    "auth = get_auth(\n",
    "    auth_token=getenv(\"DATATRAILS_AUTHTOKEN\"),\n",
    "    client_id=getenv(\"DATATRAILS_APPREG_CLIENT\"),\n",
    "    client_secret=getenv(\"DATATRAILS_APPREG_SECRET\"),\n",
    ")\n",
    "with Archivist(DATATRAILS_URL, auth) as arch:\n",
    "    print(arch)"
   ]
  },
  {
   "cell_type": "code",
   "execution_count": null,
   "id": "0429ac88-6bb5-495b-bac0-8fe6ab4c3133",
   "metadata": {},
   "outputs": [],
   "source": []
  }
 ],
 "metadata": {
  "kernelspec": {
   "display_name": "Python 3 (ipykernel)",
   "language": "python",
   "name": "python3"
  },
  "language_info": {
   "codemirror_mode": {
    "name": "ipython",
    "version": 3
   },
   "file_extension": ".py",
   "mimetype": "text/x-python",
   "name": "python",
   "nbconvert_exporter": "python",
   "pygments_lexer": "ipython3",
   "version": "3.8.15"
  }
 },
 "nbformat": 4,
 "nbformat_minor": 5
}
