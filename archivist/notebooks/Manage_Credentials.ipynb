{
 "cells": [
  {
   "cell_type": "markdown",
   "id": "350e6df8",
   "metadata": {},
   "source": [
    "Manage Credentials\n",
    "================\n"
   ]
  },
  {
   "cell_type": "code",
   "execution_count": 1,
   "id": "79ec6439",
   "metadata": {},
   "outputs": [],
   "source": [
    "# Management of authorization credentials\n",
    "#\n",
    "# Demonstrating the use of the JWT or application credentials.\n",
    "# All variables are retrieved from the environment for demonstration purposes.\n",
    "#\n",
    "# Part 1 - creating an Archivist Instance using a JWT\n",
    "# Part 2 - creating an Archivist Instance using an application id and secret\n",
    "\n",
    "from os import getenv\n",
    "\n",
    "from archivist.archivist import Archivist"
   ]
  },
  {
   "cell_type": "code",
   "execution_count": 2,
   "id": "05b3c08d",
   "metadata": {},
   "outputs": [
    {
     "name": "stdout",
     "output_type": "stream",
     "text": [
      "URL https://app.rkvst.io\n"
     ]
    }
   ],
   "source": [
    "# Retrieve the URL\n",
    "\n",
    "URL = getenv(\"RKVST_URL\")\n",
    "print(\"URL\", URL)"
   ]
  },
  {
   "cell_type": "code",
   "execution_count": 3,
   "id": "e07100c6",
   "metadata": {},
   "outputs": [],
   "source": [
    "# Part 1. Using a JWT token\n",
    "#\n",
    "# The following steps detail how to use a full JWT bearer token."
   ]
  },
  {
   "cell_type": "code",
   "execution_count": 4,
   "id": "0bcf6c82",
   "metadata": {},
   "outputs": [
    {
     "name": "stdout",
     "output_type": "stream",
     "text": [
      "auth_token xxxxxxxxxxxxxxxxxxxxxxxxxxxxxxxxxxxxxxxxxxxxxxxxxxxxxxxxxxxxxxxxxxxxxxxxxxxxxxxxxxxxxxxxxxxxxxxxxxxxxxxxxxxxxxxxxxxxxxxxxxxxxxxxxxxxxxxxxxxxxxxxxxxxxxxxxxxxxxxxxxxxxxxxxxxxxxxxxxxxxxxxxxxxxxxxxxxxxxxxxxxxxxxxxxxxxxxxxxxxxxxxxxxxxxxxxxxxxxxxxxxxxxxxxxxxxxxxxxxxxxxxxxxxxxxxxxxxxxxxxxxxxxxxxxxxxxxxxxxxxxxxxxxxxxxxxxxxxxxxxxxxxxxxxxxxxxxxxxxxxxxxxxxxxxxxxxxxxxxxxxxxxxxxxxxxxxxxxxxxxxxxxxxxxxxxxxxxxxxxxxxxxxxxxxxxxxxxxxxxxxxxxxxxxxxxxxxxxxxxxxxxxxxxxxxxxxxxxxxxxxxxxxxxxxxxxxxxxxxxxxxxxxxxxxxxxxxxxxxxxxxxxxxxxxxxxxxxxxxxxxxxxxxxxxxxxxxxxxxxxxxxxxxxxxxxxxxxxxxxxxxxxxxxxxxxxxxxxxxxxxxxxxxxxxxxxxxxxxxxxxxxxxxxxxxxxxxxxxxxxxxxxxxxxxxxxxxxxxxxxxxxxxxxxxxxxxxxxxxxxxxxxxxxxxxxxxxxxxxxxxxxxxxxxxxxxxxxxxxxxxxxxxxxxxxxxxxxxxxxxxxxxxxxxxxxxxxxxxxxxxxxxxxxxxxxxxxxxxxxxxxxxxxxxxxxxxxxxxxxxxxxxxxxxxxxxxxxxxxxxxxxxxxxxxxxxxxxxxxxxxxxxxxxxxxxxxxxxxxxxxxxxxxxxxxxxxxxxxxxxxxxxxxxxxxxxxxxxxxxxxxxxxxxxxxxxxxxxxxxxxxxxxxxxxxxxxxxxxxxxxxxxxxxxxxxxxxxxxxxxxxxxxxxxxxxxxxxxxxxxxxxxxxxxxxxxxxxxxxxxxxxxxxxxxxxxxxxxxxxxxxxxxxxxxxxxxxxxxxxxxxxxxxxxxxxxxxxxxxxxxxxxxxxxxxxxxxxxxxxxxxxxxxxxxxxxxxxxxxxxxxxxxxxxxxxxxxxxxxxxxxxxxxxxxxxxxxxxxxxxxxxxxxxxxxxxxxxxxxxxxxxxxxxxxxxxxxxxxxxxxxxxxxxxxxxxxxxxxxxxxxxxxxxxxxxxxxxxxxxxxxxxxxxxxxxxxxxxxxxxxxxxxxxxxxxxxxxxxxxxxxx\n"
     ]
    }
   ],
   "source": [
    "# extract JWT from environment\n",
    "\n",
    "auth_token = getenv(\"RKVST_AUTHTOKEN\")\n",
    "print(\"auth_token\", auth_token)"
   ]
  },
  {
   "cell_type": "code",
   "execution_count": 5,
   "id": "ceefc550",
   "metadata": {},
   "outputs": [
    {
     "name": "stdout",
     "output_type": "stream",
     "text": [
      "Archivist(https://app.rkvst.io)\n"
     ]
    }
   ],
   "source": [
    "# Using the JWT to create an Archivist instance\n",
    "\n",
    "with Archivist(URL, auth_token) as arch:\n",
    "    print(arch)"
   ]
  },
  {
   "cell_type": "code",
   "execution_count": 6,
   "id": "097756e3",
   "metadata": {},
   "outputs": [
    {
     "name": "stdout",
     "output_type": "stream",
     "text": [
      "client_id yyyyyyyyyyyyyyyyyyyyyyyyyyyyyyyyyyyy\n",
      "client_secret zzzzzzzzzzzzzzzzzzzzzzzzzzzzzzzzzzzzzzzzzzzzzzzzzzzzzzzzzzzzzzzz\n"
     ]
    }
   ],
   "source": [
    "# Part 2 Usng an application client id and secret\n",
    "#\n",
    "# To create a new application refer to https://app.rkvst.io/developers and scroll down to the\n",
    "# AppRegistrations POST /archivist/iam/v1/application. Click on 'Try It Out', fill in the request body with a\n",
    "# required display name. Custom claims can be deleted from the example in most cases.\n",
    "\n",
    "client_id = getenv(\"RKVST_APPREG_CLIENT\")\n",
    "print(\"client_id\", client_id)\n",
    "\n",
    "client_secret = getenv(\"RKVST_APPREG_SECRET\")\n",
    "print(\"client_secret\", client_secret)"
   ]
  },
  {
   "cell_type": "code",
   "execution_count": 7,
   "id": "f328d435",
   "metadata": {},
   "outputs": [
    {
     "name": "stdout",
     "output_type": "stream",
     "text": [
      "Archivist(https://app.rkvst.io)\n"
     ]
    }
   ],
   "source": [
    "# Using the application id and secret to create an Archivist instance\n",
    "\n",
    "with Archivist(URL, (client_id, client_secret)) as arch:\n",
    "    print(arch)"
   ]
  },
  {
   "cell_type": "code",
   "execution_count": 8,
   "id": "cfb47ff4",
   "metadata": {},
   "outputs": [
    {
     "name": "stdout",
     "output_type": "stream",
     "text": [
      "Archivist(https://app.rkvst.io)\n"
     ]
    }
   ],
   "source": [
    "# For convenience all this functionality has been emcapsulated in a convenience function\n",
    "from archivist.utils import get_auth\n",
    "\n",
    "auth = get_auth(\n",
    "    auth_token=getenv(\"RKVST_AUTHTOKEN\"),\n",
    "    client_id=getenv(\"RKVST_APPREG_CLIENT\"),\n",
    "    client_secret=getenv(\"RKVST_APPREG_SECRET\"),\n",
    ")\n",
    "with Archivist(URL, auth) as arch:\n",
    "    print(arch)"
   ]
  }
 ],
 "metadata": {
  "kernelspec": {
   "display_name": "Python 3 (ipykernel)",
   "language": "python",
   "name": "python3"
  },
  "language_info": {
   "codemirror_mode": {
    "name": "ipython",
    "version": 3
   },
   "file_extension": ".py",
   "mimetype": "text/x-python",
   "name": "python",
   "nbconvert_exporter": "python",
   "pygments_lexer": "ipython3",
   "version": "3.7.15"
  }
 },
 "nbformat": 4,
 "nbformat_minor": 5
}
