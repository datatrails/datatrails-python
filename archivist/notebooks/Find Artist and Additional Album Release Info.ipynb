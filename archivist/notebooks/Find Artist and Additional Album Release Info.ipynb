{
 "cells": [
  {
   "cell_type": "markdown",
   "id": "fb467649",
   "metadata": {},
   "source": [
    "## Find Artist and Additional Album Release Info"
   ]
  },
  {
   "cell_type": "code",
   "execution_count": 1,
   "id": "43758e9b",
   "metadata": {},
   "outputs": [],
   "source": [
    "# Find an Asset and create Events\n",
    "#\n",
    "# Main function, establishes a connection to DataTrails using an App Registration then uses that\n",
    "# to find an Asset and create Events.\n",
    "#\n",
    "# Note: The purpose of DataTrails Jupyter Notebooks is to provide simplified examples that one can easily execute and digest.\n",
    "# The DataTrails Python SDK is authored to work cleanly with more advanced coding techniques.\n",
    "#\n",
    "# DataTrails Python SDK: https://github.com/datatrails/datatrails-python\n",
    "#"
   ]
  },
  {
   "cell_type": "code",
   "execution_count": 2,
   "id": "40624149",
   "metadata": {},
   "outputs": [],
   "source": [
    "from json import dumps as json_dumps\n",
    "from os import getenv\n",
    "from warnings import filterwarnings\n",
    "\n",
    "from dotenv import load_dotenv\n",
    "\n",
    "from archivist.archivist import Archivist\n",
    "from archivist.proof_mechanism import ProofMechanism\n",
    "from archivist.logger import set_logger"
   ]
  },
  {
   "cell_type": "code",
   "execution_count": 3,
   "id": "9ce08e42",
   "metadata": {},
   "outputs": [],
   "source": [
    "%reload_ext dotenv\n",
    "%dotenv -o notebooks.env"
   ]
  },
  {
   "cell_type": "code",
   "execution_count": 4,
   "id": "a76365aa",
   "metadata": {},
   "outputs": [],
   "source": [
    "# DATATRAILS_URL, DATATRAILS_APPREG_CLIENT, DATATRAILS_APPREG_SECRET are environment variables that represent connection parameters.\n",
    "#\n",
    "# DATATRAILS_URL = represents the url to the DataTrails application\n",
    "# DATATRAILS_APPREG_CLIENT = represents the client ID from an Application Registration\n",
    "# DATATRAILS_APPREG_SECRET = represents the client secret from an Application Registration\n",
    "# DATATRAILS_UNIQUE_ID = is an environment variable that is a unique identifier\n",
    "DATATRAILS_URL = getenv(\"DATATRAILS_URL\")\n",
    "DATATRAILS_APPREG_CLIENT = getenv(\"DATATRAILS_APPREG_CLIENT\")\n",
    "DATATRAILS_APPREG_SECRET = getenv(\"DATATRAILS_APPREG_SECRET\")\n",
    "DATATRAILS_UNIQUE_ID = getenv(\"DATATRAILS_UNIQUE_ID\")\n",
    "if not DATATRAILS_UNIQUE_ID:\n",
    "    raise Exception(\"DATATRAILS_UNIQUE_ID is undefined\")"
   ]
  },
  {
   "cell_type": "code",
   "execution_count": 5,
   "id": "a834f2cd",
   "metadata": {},
   "outputs": [
    {
     "name": "stdout",
     "output_type": "stream",
     "text": [
      "Connecting to DATATRAILS\n",
      "DATATRAILS_URL https://app.datatrails.ai\n"
     ]
    }
   ],
   "source": [
    "\"\"\"\n",
    "Main function of Asset and Event creation.\n",
    "\n",
    "* Connect to DataTrails with client ID and client secret\n",
    "* Creates an Asset and two Events\n",
    "* Prints response of Asset and Event creation\n",
    "\"\"\"\n",
    "\n",
    "# Optional call to set the logger level.  The argument can be either\n",
    "# \"INFO\" or \"DEBUG\".  For more sophisticated logging control see our\n",
    "# documentation.\n",
    "set_logger(\"INFO\")\n",
    "\n",
    "# Initialize connection to DATATRAILS\n",
    "print(\"Connecting to DATATRAILS\")\n",
    "print(\"DATATRAILS_URL\", DATATRAILS_URL)\n",
    "arch = Archivist(\n",
    "    DATATRAILS_URL, (DATATRAILS_APPREG_CLIENT, DATATRAILS_APPREG_SECRET), max_time=300\n",
    ")"
   ]
  },
  {
   "cell_type": "code",
   "execution_count": 6,
   "id": "aa63d95a",
   "metadata": {},
   "outputs": [],
   "source": [
    "def get_artist(arch, name, artistid):\n",
    "    \"\"\"\n",
    "    Finds existing Artist asset by name and unique id\n",
    "    \"\"\"\n",
    "    attrs = {\n",
    "        \"arc_display_type\": \"Artists\",\n",
    "        \"arc_display_name\": name,\n",
    "        \"artistid\": artistid,\n",
    "    }\n",
    "\n",
    "    return arch.assets.read_by_signature(attrs=attrs)"
   ]
  },
  {
   "cell_type": "code",
   "execution_count": 7,
   "id": "66df6ebc",
   "metadata": {},
   "outputs": [],
   "source": [
    "def create_release(arch, asset, album_name, release):\n",
    "    \"\"\"\n",
    "    Creates an Event for existing Artist asset\n",
    "    \"\"\"\n",
    "    props = {\"operation\": \"Record\", \"behaviour\": \"RecordEvidence\"}\n",
    "    attrs = {\n",
    "        \"arc_description\": \"Artist Information for existing Artist\",\n",
    "        \"arc_display_type\": \"Album Release for existing Artist\",\n",
    "        \"album_name\": album_name,\n",
    "        \"relase_year\": release,\n",
    "    }\n",
    "\n",
    "    return arch.events.create(asset[\"identity\"], props=props, attrs=attrs)"
   ]
  },
  {
   "cell_type": "code",
   "execution_count": 8,
   "id": "0055fe00",
   "metadata": {},
   "outputs": [
    {
     "name": "stdout",
     "output_type": "stream",
     "text": [
      "Finding Asset\n"
     ]
    },
    {
     "name": "stderr",
     "output_type": "stream",
     "text": [
      "Refresh token\n"
     ]
    },
    {
     "name": "stdout",
     "output_type": "stream",
     "text": [
      "Asset {\n",
      "    \"identity\": \"assets/17a59a16-3d5c-4d58-8ea6-1b86465ff32f\",\n",
      "    \"behaviours\": [\n",
      "        \"RecordEvidence\",\n",
      "        \"Builtin\",\n",
      "        \"AssetCreator\",\n",
      "    ],\n",
      "    \"attributes\": {\n",
      "        \"genre\": \"Soul\",\n",
      "        \"stage_name\": \"Adele\",\n",
      "        \"arc_description\": \"British Soul Singer\",\n",
      "        \"arc_display_name\": \"Adele Laurie Blue Adkins\",\n",
      "        \"arc_display_type\": \"Artists\",\n",
      "        \"arc_primary_image\": {\n",
      "            \"arc_blob_identity\": \"blobs/a39ed534-d1b3-4b23-84e0-01a2cceea9a2\",\n",
      "            \"arc_display_name\": \"arc_primary_image\",\n",
      "            \"arc_file_name\": \"pexels-andrea-turner-707697.jpeg\",\n",
      "            \"arc_attribute_type\": \"arc_attachment\",\n",
      "            \"arc_blob_hash_alg\": \"SHA256\",\n",
      "            \"arc_blob_hash_value\": \"cf0dd630dcfb6e2eac65c362bf7d5ff382a4241ebf45a69a2541ee43320d4af6\"\n",
      "        },\n",
      "        \"artistid\": \"989130159\"\n",
      "    },\n",
      "    \"confirmation_status\": \"CONFIRMED\",\n",
      "    \"tracked\": \"TRACKED\",\n",
      "    \"owner\": \"0x5284e740A744F075E402f7fB0c4485532ddf4Af8\",\n",
      "    \"at_time\": \"2023-06-02T21:33:34Z\",\n",
      "    \"storage_integrity\": \"TENANT_STORAGE\",\n",
      "    \"proof_mechanism\": \"SIMPLE_HASH\",\n",
      "    \"chain_id\": \"8275868384\",\n",
      "    \"public\": false,\n",
      "    \"tenant_identity\": \"tenant/0a62f7c9-fd7b-4791-8041-01218d839ec1\"\n",
      "}\n"
     ]
    }
   ],
   "source": [
    "# Finding existing artist by name and artist id\n",
    "print(\"Finding Asset\")\n",
    "asset = get_artist(arch, \"Adele Laurie Blue Adkins\", DATATRAILS_UNIQUE_ID)\n",
    "print(\"Asset\", json_dumps(asset, indent=4))"
   ]
  },
  {
   "cell_type": "code",
   "execution_count": 9,
   "id": "8ac5add2",
   "metadata": {},
   "outputs": [
    {
     "name": "stdout",
     "output_type": "stream",
     "text": [
      "Creating Events for existing Asset\n",
      "Event for Album 25 {\n",
      "    \"identity\": \"assets/17a59a16-3d5c-4d58-8ea6-1b86465ff32f/events/90c34f0f-79c5-41c9-9ff7-76deaaaa4f64\",\n",
      "    \"asset_identity\": \"assets/17a59a16-3d5c-4d58-8ea6-1b86465ff32f\",\n",
      "    \"event_attributes\": {\n",
      "        \"relase_year\": \"2015\",\n",
      "        \"album_name\": \"25\",\n",
      "        \"arc_description\": \"Artist Information for existing Artist\",\n",
      "        \"arc_display_type\": \"Album Release for existing Artist\"\n",
      "    },\n",
      "    \"asset_attributes\": {},\n",
      "    \"operation\": \"Record\",\n",
      "    \"behaviour\": \"RecordEvidence\",\n",
      "    \"timestamp_declared\": \"2023-06-02T21:33:40Z\",\n",
      "    \"timestamp_accepted\": \"2023-06-02T21:33:40Z\",\n",
      "    \"timestamp_committed\": \"2023-06-02T21:33:40.813694893Z\",\n",
      "    \"principal_declared\": {\n",
      "        \"issuer\": \"https://app.datatrails.ai/appidpv1\",\n",
      "        \"subject\": \"43a271b9-5b25-4740-aa9f-1cbd51ed3625\",\n",
      "        \"display_name\": \"mwilder26\",\n",
      "        \"email\": \"\"\n",
      "    },\n",
      "    \"principal_accepted\": {\n",
      "        \"issuer\": \"https://app.datatrails.ai/appidpv1\",\n",
      "        \"subject\": \"43a271b9-5b25-4740-aa9f-1cbd51ed3625\",\n",
      "        \"display_name\": \"mwilder26\",\n",
      "        \"email\": \"\"\n",
      "    },\n",
      "    \"confirmation_status\": \"CONFIRMED\",\n",
      "    \"transaction_id\": \"\",\n",
      "    \"block_number\": 0,\n",
      "    \"transaction_index\": 0,\n",
      "    \"from\": \"0x5284e740A744F075E402f7fB0c4485532ddf4Af8\",\n",
      "    \"tenant_identity\": \"tenant/0a62f7c9-fd7b-4791-8041-01218d839ec1\"\n",
      "}\n",
      "Event for Album 30 {\n",
      "    \"identity\": \"assets/17a59a16-3d5c-4d58-8ea6-1b86465ff32f/events/69145272-d3a8-4590-810c-49a6419d8fc0\",\n",
      "    \"asset_identity\": \"assets/17a59a16-3d5c-4d58-8ea6-1b86465ff32f\",\n",
      "    \"event_attributes\": {\n",
      "        \"arc_display_type\": \"Album Release for existing Artist\",\n",
      "        \"relase_year\": \"2021\",\n",
      "        \"album_name\": \"30\",\n",
      "        \"arc_description\": \"Artist Information for existing Artist\"\n",
      "    },\n",
      "    \"asset_attributes\": {},\n",
      "    \"operation\": \"Record\",\n",
      "    \"behaviour\": \"RecordEvidence\",\n",
      "    \"timestamp_declared\": \"2023-06-02T21:33:42Z\",\n",
      "    \"timestamp_accepted\": \"2023-06-02T21:33:42Z\",\n",
      "    \"timestamp_committed\": \"2023-06-02T21:33:42.205724430Z\",\n",
      "    \"principal_declared\": {\n",
      "        \"issuer\": \"https://app.datatrails.ai/appidpv1\",\n",
      "        \"subject\": \"43a271b9-5b25-4740-aa9f-1cbd51ed3625\",\n",
      "        \"display_name\": \"mwilder26\",\n",
      "        \"email\": \"\"\n",
      "    },\n",
      "    \"principal_accepted\": {\n",
      "        \"issuer\": \"https://app.datatrails.ai/appidpv1\",\n",
      "        \"subject\": \"43a271b9-5b25-4740-aa9f-1cbd51ed3625\",\n",
      "        \"display_name\": \"mwilder26\",\n",
      "        \"email\": \"\"\n",
      "    },\n",
      "    \"confirmation_status\": \"CONFIRMED\",\n",
      "    \"transaction_id\": \"\",\n",
      "    \"block_number\": 0,\n",
      "    \"transaction_index\": 0,\n",
      "    \"from\": \"0x5284e740A744F075E402f7fB0c4485532ddf4Af8\",\n",
      "    \"tenant_identity\": \"tenant/0a62f7c9-fd7b-4791-8041-01218d839ec1\"\n",
      "}\n"
     ]
    }
   ],
   "source": [
    "# Create two Events that contain album release information for existing Artist\n",
    "print(\"Creating Events for existing Asset\")\n",
    "event_one = create_release(arch, asset, album_name=\"25\", release=\"2015\")\n",
    "print(\"Event for Album 25\", json_dumps(event_one, indent=4))\n",
    "event_two = create_release(arch, asset, album_name=\"30\", release=\"2021\")\n",
    "print(\"Event for Album 30\", json_dumps(event_two, indent=4))"
   ]
  }
 ],
 "metadata": {
  "kernelspec": {
   "display_name": "Python 3 (ipykernel)",
   "language": "python",
   "name": "python3"
  },
  "language_info": {
   "codemirror_mode": {
    "name": "ipython",
    "version": 3
   },
   "file_extension": ".py",
   "mimetype": "text/x-python",
   "name": "python",
   "nbconvert_exporter": "python",
   "pygments_lexer": "ipython3",
   "version": "3.8.15"
  },
  "vscode": {
   "interpreter": {
    "hash": "aee8b7b246df8f9039afb4144a1f6fd8d2ca17a180786b69acc140d282b71a49"
   }
  }
 },
 "nbformat": 4,
 "nbformat_minor": 5
}
