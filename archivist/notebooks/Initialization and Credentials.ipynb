{
 "cells": [
  {
   "cell_type": "markdown",
   "id": "98edb92d-b177-4dec-b047-1c2cfae82752",
   "metadata": {},
   "source": [
    "# Initialization and Credentials\n"
   ]
  },
  {
   "cell_type": "code",
   "execution_count": 6,
   "id": "08eb7c4b-d5fb-4822-8663-22a88d3a0420",
   "metadata": {},
   "outputs": [
    {
     "name": "stdout",
     "output_type": "stream",
     "text": [
      "Requirement already satisfied: datatrails-archivist in /home/paul/git/datatrails-python/datatrails-venv/lib/python3.10/site-packages (0.33.2.post1+git.8e1ac7c7.dirty)\n",
      "Requirement already satisfied: requests-toolbelt~=1.0 in /home/paul/git/datatrails-python/datatrails-venv/lib/python3.10/site-packages (from datatrails-archivist) (1.0.0)\n",
      "Requirement already satisfied: certifi in /home/paul/git/datatrails-python/datatrails-venv/lib/python3.10/site-packages (from datatrails-archivist) (2024.8.30)\n",
      "Requirement already satisfied: Jinja2~=3.1 in /home/paul/git/datatrails-python/datatrails-venv/lib/python3.10/site-packages (from datatrails-archivist) (3.1.4)\n",
      "Requirement already satisfied: pyaml-env~=1.2 in /home/paul/git/datatrails-python/datatrails-venv/lib/python3.10/site-packages (from datatrails-archivist) (1.2.1)\n",
      "Requirement already satisfied: backoff~=2.2.1 in /home/paul/git/datatrails-python/datatrails-venv/lib/python3.10/site-packages (from datatrails-archivist) (2.2.1)\n",
      "Requirement already satisfied: flatten-dict~=0.4 in /home/paul/git/datatrails-python/datatrails-venv/lib/python3.10/site-packages (from datatrails-archivist) (0.4.2)\n",
      "Requirement already satisfied: rfc3339~=6.2 in /home/paul/git/datatrails-python/datatrails-venv/lib/python3.10/site-packages (from datatrails-archivist) (6.2)\n",
      "Requirement already satisfied: requests~=2.32 in /home/paul/git/datatrails-python/datatrails-venv/lib/python3.10/site-packages (from datatrails-archivist) (2.32.3)\n",
      "Requirement already satisfied: iso8601~=2.1 in /home/paul/git/datatrails-python/datatrails-venv/lib/python3.10/site-packages (from datatrails-archivist) (2.1.0)\n",
      "Requirement already satisfied: xmltodict~=0.14 in /home/paul/git/datatrails-python/datatrails-venv/lib/python3.10/site-packages (from datatrails-archivist) (0.14.2)\n",
      "Requirement already satisfied: six<2.0,>=1.12 in /home/paul/git/datatrails-python/datatrails-venv/lib/python3.10/site-packages (from flatten-dict~=0.4->datatrails-archivist) (1.16.0)\n",
      "Requirement already satisfied: MarkupSafe>=2.0 in /home/paul/git/datatrails-python/datatrails-venv/lib/python3.10/site-packages (from Jinja2~=3.1->datatrails-archivist) (3.0.2)\n",
      "Requirement already satisfied: PyYAML<=7.0,>=5.0 in /home/paul/git/datatrails-python/datatrails-venv/lib/python3.10/site-packages (from pyaml-env~=1.2->datatrails-archivist) (6.0.2)\n",
      "Requirement already satisfied: idna<4,>=2.5 in /home/paul/git/datatrails-python/datatrails-venv/lib/python3.10/site-packages (from requests~=2.32->datatrails-archivist) (3.10)\n",
      "Requirement already satisfied: urllib3<3,>=1.21.1 in /home/paul/git/datatrails-python/datatrails-venv/lib/python3.10/site-packages (from requests~=2.32->datatrails-archivist) (2.2.3)\n",
      "Requirement already satisfied: charset-normalizer<4,>=2 in /home/paul/git/datatrails-python/datatrails-venv/lib/python3.10/site-packages (from requests~=2.32->datatrails-archivist) (3.4.0)\n",
      "/bin/bash: -c: line 1: syntax error near unexpected token `-m'\n",
      "/bin/bash: -c: line 1: `(sys.executable) -m pip install --upgrade python-dotenv'\n"
     ]
    }
   ],
   "source": [
    "# Install the datatrails-python package\n",
    "!{sys.executable} -m pip install --upgrade datatrails-archivist\n",
    "!(sys.executable) -m pip install --upgrade python-dotenv"
   ]
  },
  {
   "cell_type": "code",
   "execution_count": 7,
   "id": "5bb82001-bcab-497e-85dc-5809621169be",
   "metadata": {},
   "outputs": [
    {
     "name": "stdout",
     "output_type": "stream",
     "text": [
      "DATATRAILS_URL=\"https://app.dev-paul-0.dev.datatrails.ai\"\n",
      "DATATRAILS_APPREG_CLIENT=\"c0232b72-aa68-4596-a9a4-b3f5d3e55255\"\n",
      "DATATRAILS_APPREG_SECRET=\"5854b9f1b0559db5daf6f57a53e80ac31ac4b14f88dfa679be59d1569acade20\"\n",
      "DATATRAILS_ARTIST_ATTACHMENT=\"test_files/pexels-andrea-turner-707697.jpeg\"\n",
      "DATATRAILS_UNIQUE_ID=\"558232363\"\n",
      "\n"
     ]
    }
   ],
   "source": [
    "from os import environ\n",
    "from random import randint\n",
    "\n",
    "unique_id = randint(1, 1_000_000_000)\n",
    "\n",
    "datatrails_url = environ.get(\"DATATRAILS_URL\", \"https//app.datatrails.ai\")\n",
    "datatrails_appreg_client = environ[\"DATATRAILS_APPREG_CLIENT\"]\n",
    "datatrails_appreg_secret = environ[\"DATATRAILS_APPREG_SECRET\"]\n",
    "datatrails_artist_attachment = environ[\"DATATRAILS_ARTIST_ATTACHMENT\"]\n",
    "\n",
    "with open(\"notebooks.env\", \"w\", encoding=\"utf-8\") as fd:\n",
    "    fd.write(f'DATATRAILS_URL=\"{datatrails_url}\"\\n')\n",
    "    fd.write(f'DATATRAILS_APPREG_CLIENT=\"{datatrails_appreg_client}\"\\n')\n",
    "    fd.write(f'DATATRAILS_APPREG_SECRET=\"{datatrails_appreg_secret}\"\\n')\n",
    "    fd.write(f'DATATRAILS_ARTIST_ATTACHMENT=\"{datatrails_artist_attachment}\"\\n')\n",
    "    fd.write(f'DATATRAILS_UNIQUE_ID=\"{unique_id}\"\\n')\n",
    "\n",
    "with open(\"notebooks.env\", \"r\") as fd:\n",
    "    print(fd.read())"
   ]
  },
  {
   "cell_type": "code",
   "execution_count": null,
   "id": "59ead5ce-7e06-41fe-aa75-f49f15259571",
   "metadata": {},
   "outputs": [],
   "source": []
  }
 ],
 "metadata": {
  "kernelspec": {
   "display_name": "Python 3 (ipykernel)",
   "language": "python",
   "name": "python3"
  },
  "language_info": {
   "codemirror_mode": {
    "name": "ipython",
    "version": 3
   },
   "file_extension": ".py",
   "mimetype": "text/x-python",
   "name": "python",
   "nbconvert_exporter": "python",
   "pygments_lexer": "ipython3",
   "version": "3.10.12"
  }
 },
 "nbformat": 4,
 "nbformat_minor": 5
}
