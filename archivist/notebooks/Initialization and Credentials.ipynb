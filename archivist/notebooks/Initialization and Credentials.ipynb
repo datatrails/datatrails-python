{
 "cells": [
  {
   "cell_type": "markdown",
   "id": "98edb92d-b177-4dec-b047-1c2cfae82752",
   "metadata": {},
   "source": [
    "# Initialization and Credentials\n"
   ]
  },
  {
   "cell_type": "code",
   "execution_count": 1,
   "id": "956bfa08-d9cf-4e0a-9221-05a8b03da7c8",
   "metadata": {},
   "outputs": [
    {
     "name": "stdout",
     "output_type": "stream",
     "text": [
      "Requirement already satisfied: rkvst-archivist in /home/paul/.config/jupyterlab-desktop/jlab_server/lib/python3.8/site-packages (0.18.1)\n",
      "Requirement already satisfied: requests~=2.28 in /home/paul/.config/jupyterlab-desktop/jlab_server/lib/python3.8/site-packages (from rkvst-archivist) (2.28.1)\n",
      "Requirement already satisfied: pyaml-env~=1.1 in /home/paul/.config/jupyterlab-desktop/jlab_server/lib/python3.8/site-packages (from rkvst-archivist) (1.2.1)\n",
      "Requirement already satisfied: requests-toolbelt~=0.9 in /home/paul/.config/jupyterlab-desktop/jlab_server/lib/python3.8/site-packages (from rkvst-archivist) (0.10.1)\n",
      "Requirement already satisfied: backoff~=1.11 in /home/paul/.config/jupyterlab-desktop/jlab_server/lib/python3.8/site-packages (from rkvst-archivist) (1.11.1)\n",
      "Requirement already satisfied: certifi in /home/paul/.config/jupyterlab-desktop/jlab_server/lib/python3.8/site-packages (from rkvst-archivist) (2022.12.7)\n",
      "Requirement already satisfied: rfc3339~=6.2 in /home/paul/.config/jupyterlab-desktop/jlab_server/lib/python3.8/site-packages (from rkvst-archivist) (6.2)\n",
      "Requirement already satisfied: xmltodict~=0.13 in /home/paul/.config/jupyterlab-desktop/jlab_server/lib/python3.8/site-packages (from rkvst-archivist) (0.13.0)\n",
      "Requirement already satisfied: iso8601~=1.0 in /home/paul/.config/jupyterlab-desktop/jlab_server/lib/python3.8/site-packages (from rkvst-archivist) (1.1.0)\n",
      "Requirement already satisfied: flatten-dict~=0.4 in /home/paul/.config/jupyterlab-desktop/jlab_server/lib/python3.8/site-packages (from rkvst-archivist) (0.4.2)\n",
      "Requirement already satisfied: Jinja2~=3.0 in /home/paul/.config/jupyterlab-desktop/jlab_server/lib/python3.8/site-packages (from rkvst-archivist) (3.1.2)\n",
      "Requirement already satisfied: six<2.0,>=1.12 in /home/paul/.config/jupyterlab-desktop/jlab_server/lib/python3.8/site-packages (from flatten-dict~=0.4->rkvst-archivist) (1.16.0)\n",
      "Requirement already satisfied: MarkupSafe>=2.0 in /home/paul/.config/jupyterlab-desktop/jlab_server/lib/python3.8/site-packages (from Jinja2~=3.0->rkvst-archivist) (2.1.1)\n",
      "Requirement already satisfied: PyYAML<=7.0,>=5.0 in /home/paul/.config/jupyterlab-desktop/jlab_server/lib/python3.8/site-packages (from pyaml-env~=1.1->rkvst-archivist) (6.0)\n",
      "Requirement already satisfied: charset-normalizer<3,>=2 in /home/paul/.config/jupyterlab-desktop/jlab_server/lib/python3.8/site-packages (from requests~=2.28->rkvst-archivist) (2.1.1)\n",
      "Requirement already satisfied: idna<4,>=2.5 in /home/paul/.config/jupyterlab-desktop/jlab_server/lib/python3.8/site-packages (from requests~=2.28->rkvst-archivist) (3.4)\n",
      "Requirement already satisfied: urllib3<1.27,>=1.21.1 in /home/paul/.config/jupyterlab-desktop/jlab_server/lib/python3.8/site-packages (from requests~=2.28->rkvst-archivist) (1.26.13)\n",
      "Note: you may need to restart the kernel to use updated packages.\n",
      "Requirement already satisfied: python-dotenv in /home/paul/.config/jupyterlab-desktop/jlab_server/lib/python3.8/site-packages (0.21.0)\n",
      "Note: you may need to restart the kernel to use updated packages.\n"
     ]
    }
   ],
   "source": [
    "# Install the rkvst-python package\n",
    "%pip install --upgrade rkvst-archivist\n",
    "%pip install --upgrade python-dotenv"
   ]
  },
  {
   "cell_type": "code",
   "execution_count": 2,
   "id": "5bb82001-bcab-497e-85dc-5809621169be",
   "metadata": {},
   "outputs": [
    {
     "name": "stdout",
     "output_type": "stream",
     "text": [
      "RKVST_URL=\"https://app.rkvst.io\"\n",
      "RKVST_APPREG_CLIENT=\"437bd138-dade-4346-aadd-dfdfee51ddf4\"\n",
      "RKVST_APPREG_SECRET=\"d26a00cafd9c550228ab3dc9c2303f4c0f79fe9fd00d80fdc92ff2844cdc283e\"\n",
      "RKVST_ARTIST_ATTACHMENT=\"test_files/pexels-andrea-turner-707697.jpeg\"\n",
      "RKVST_UNIQUE_ID=\"666769323\"\n",
      "\n"
     ]
    }
   ],
   "source": [
    "from random import randint\n",
    "\n",
    "unique_id = randint(1, 1_000_000_000)\n",
    "\n",
    "with open(\"notebooks.env\", \"w\", encoding=\"utf-8\") as fd:\n",
    "    fd.write('RKVST_URL=\"https://app.rkvst.io\"\\n')\n",
    "    fd.write('RKVST_APPREG_CLIENT=\"437bd138-dade-4346-aadd-dfdfee51ddf4\"\\n')\n",
    "    fd.write(\n",
    "        'RKVST_APPREG_SECRET=\"d26a00cafd9c550228ab3dc9c2303f4c0f79fe9fd00d80fdc92ff2844cdc283e\"\\n'\n",
    "    )\n",
    "    fd.write('RKVST_ARTIST_ATTACHMENT=\"test_files/pexels-andrea-turner-707697.jpeg\"\\n')\n",
    "    fd.write(f'RKVST_UNIQUE_ID=\"{unique_id}\"\\n')\n",
    "\n",
    "with open(\"notebooks.env\", \"r\") as fd:\n",
    "    print(fd.read())"
   ]
  },
  {
   "cell_type": "code",
   "execution_count": null,
   "id": "59ead5ce-7e06-41fe-aa75-f49f15259571",
   "metadata": {},
   "outputs": [],
   "source": []
  }
 ],
 "metadata": {
  "kernelspec": {
   "display_name": "Python 3 (ipykernel)",
   "language": "python",
   "name": "python3"
  },
  "language_info": {
   "codemirror_mode": {
    "name": "ipython",
    "version": 3
   },
   "file_extension": ".py",
   "mimetype": "text/x-python",
   "name": "python",
   "nbconvert_exporter": "python",
   "pygments_lexer": "ipython3",
   "version": "3.8.15"
  }
 },
 "nbformat": 4,
 "nbformat_minor": 5
}
