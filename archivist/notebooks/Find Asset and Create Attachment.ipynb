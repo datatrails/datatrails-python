{
 "cells": [
  {
   "cell_type": "markdown",
   "id": "a93631ae",
   "metadata": {},
   "source": [
    "## Find Asset and Create Attachment"
   ]
  },
  {
   "cell_type": "code",
   "execution_count": 1,
   "id": "0b61044f",
   "metadata": {},
   "outputs": [],
   "source": [
    "# Find existing Asset and create an attachment\n",
    "#\n",
    "# Main function, establishes a connection to RKVST using an App Registration then uses that\n",
    "# to find existing Asset and create an attachment.\n",
    "#\n",
    "# The attachment is an image located in a folder named \"test_files\"\n",
    "#\n",
    "# Note: The purpose of RKVST Jupyter Notebooks is to provide simplified examples that one can easily execute and digest.\n",
    "# The RKVST Python SDK is authored to work cleanly with more advanced coding techniques.\n",
    "#\n",
    "# RKVST Python SDK: https://github.com/rkvst/rkvst-python\n",
    "#"
   ]
  },
  {
   "cell_type": "code",
   "execution_count": 2,
   "id": "f9e2c868",
   "metadata": {},
   "outputs": [],
   "source": [
    "from json import dumps as json_dumps\n",
    "from os import getenv\n",
    "from warnings import filterwarnings\n",
    "\n",
    "from archivist.archivist import Archivist\n",
    "from archivist.proof_mechanism import ProofMechanism\n",
    "from archivist.logger import set_logger\n",
    "\n",
    "filterwarnings(\"ignore\", message=\"Unverified HTTPS request\")\n",
    "\n",
    "try:\n",
    "    import importlib.resources as pkg_resources\n",
    "except ImportError:\n",
    "    import importlib_resources as pkg_resources\n",
    "\n",
    "import test_files"
   ]
  },
  {
   "cell_type": "code",
   "execution_count": 3,
   "id": "da890fb1",
   "metadata": {},
   "outputs": [],
   "source": [
    "# URL, CLIENT, SECRET are environment variables that represent connection parameters.  \n",
    "#\n",
    "# URL = represents the url to the RKVST application\n",
    "# CLIENT = represents the client ID from an Application Registration\n",
    "# SECRET = represents the client secret from an Application Registration\n",
    "RKVST_URL = getenv(\"URL\")\n",
    "APPREG_CLIENT = getenv(\"CLIENT\")\n",
    "APPREG_SECRET = getenv(\"SECRET\")"
   ]
  },
  {
   "cell_type": "code",
   "execution_count": 4,
   "id": "671c824f",
   "metadata": {},
   "outputs": [],
   "source": [
    "def upload_attachment(arch, path, name):\n",
    "    \"\"\"\n",
    "    Obtains attachments from \"test_files\" folder and creates json payload\n",
    "    for upload\n",
    "    \"\"\"\n",
    "    with pkg_resources.open_binary(test_files, path) as fd:\n",
    "        blob = arch.attachments.upload(fd)\n",
    "        attachment = {\n",
    "            \"arc_display_name\": name,\n",
    "            \"arc_attachment_identity\": blob[\"identity\"],\n",
    "            \"arc_hash_value\": blob[\"hash\"][\"value\"],\n",
    "            \"arc_hash_alg\": blob[\"hash\"][\"alg\"],\n",
    "        }\n",
    "        return attachment"
   ]
  },
  {
   "cell_type": "code",
   "execution_count": 5,
   "id": "3e2d7571",
   "metadata": {},
   "outputs": [],
   "source": [
    "def get_artist(arch, name, artistid):\n",
    "    \"\"\"\n",
    "    Finds existing Artist asset by name and unique id\n",
    "    \"\"\"\n",
    "    attrs = {\n",
    "        \"arc_display_type\": \"Artists\",\n",
    "        \"arc_display_name\": name,\n",
    "        \"artistid\": artistid,\n",
    "    }\n",
    "\n",
    "    return arch.assets.read_by_signature(attrs=attrs)"
   ]
  },
  {
   "cell_type": "code",
   "execution_count": 6,
   "id": "a33b9635",
   "metadata": {},
   "outputs": [],
   "source": [
    "def create_image(arch, asset):\n",
    "    \"\"\"\n",
    "    Creates an event that uploads a primary image for an Artist asset\n",
    "    \"\"\"\n",
    "    attachments = upload_attachment(\n",
    "        arch, \"pexels-andrea-turner-707697.jpeg\", \"arc_primary_image\"\n",
    "    )\n",
    "    attachment_list = [attachments]\n",
    "\n",
    "    props = {\"operation\": \"Record\", \"behaviour\": \"RecordEvidence\"}\n",
    "    attrs = {\n",
    "        \"arc_description\": \"Attaching an image\",\n",
    "        \"arc_display_type\": \"Primary image\",\n",
    "    }\n",
    "\n",
    "    asset_attrs = {\"arc_attachments\": attachment_list}\n",
    "\n",
    "    return arch.events.create(\n",
    "        asset[\"identity\"], props=props, attrs=attrs, asset_attrs=asset_attrs\n",
    "    )"
   ]
  },
  {
   "cell_type": "code",
   "execution_count": 7,
   "id": "fbad039b",
   "metadata": {},
   "outputs": [
    {
     "name": "stdout",
     "output_type": "stream",
     "text": [
      "Connecting to RKVST\n",
      "URL https://app.rkvst.io\n"
     ]
    }
   ],
   "source": [
    "\"\"\"\n",
    "Main function of asset and event creation.\n",
    "\n",
    "* Connect to RKVST with client ID and client secret\n",
    "* Finds existing asset\n",
    "* Creates additional event for attachment upload\n",
    "* Prints response of asset and event creation\n",
    "\"\"\"\n",
    "# Optional call to set the logger level.  The argument can be either\n",
    "# \"INFO\" or \"DEBUG\".  For more sophisticated logging control see our\n",
    "# documentation.\n",
    "set_logger(\"INFO\")\n",
    "\n",
    "# Initialize connection to RKVST\n",
    "print(\"Connecting to RKVST\")\n",
    "print(\"URL\", RKVST_URL)\n",
    "arch = Archivist(RKVST_URL, (APPREG_CLIENT, APPREG_SECRET), max_time=300)"
   ]
  },
  {
   "cell_type": "code",
   "execution_count": 8,
   "id": "acb00047",
   "metadata": {},
   "outputs": [
    {
     "name": "stdout",
     "output_type": "stream",
     "text": [
      "Finding Asset\n"
     ]
    },
    {
     "name": "stderr",
     "output_type": "stream",
     "text": [
      "Refresh token\n"
     ]
    },
    {
     "name": "stdout",
     "output_type": "stream",
     "text": [
      "Asset {\n",
      "    \"identity\": \"assets/afb30753-89ef-4c2c-a0e8-3ebabd52a5b8\",\n",
      "    \"behaviours\": [\n",
      "        \"Attachments\",\n",
      "        \"RecordEvidence\",\n",
      "        \"Builtin\",\n",
      "        \"AssetCreator\"\n",
      "    ],\n",
      "    \"attributes\": {\n",
      "        \"genre\": \"Soul\",\n",
      "        \"stage_name\": \"Adele\",\n",
      "        \"arc_description\": \"British Soul Singer\",\n",
      "        \"arc_display_name\": \"Adele Laurie Blue Adkins\",\n",
      "        \"arc_display_type\": \"Artists\",\n",
      "        \"artistid\": \"7lamw1s0xxl9\"\n",
      "    },\n",
      "    \"confirmation_status\": \"CONFIRMED\",\n",
      "    \"tracked\": \"TRACKED\",\n",
      "    \"owner\": \"0x5284e740A744F075E402f7fB0c4485532ddf4Af8\",\n",
      "    \"at_time\": \"2022-12-21T21:29:37Z\",\n",
      "    \"storage_integrity\": \"TENANT_STORAGE\",\n",
      "    \"proof_mechanism\": \"SIMPLE_HASH\",\n",
      "    \"chain_id\": \"8275868384\",\n",
      "    \"public\": false,\n",
      "    \"tenant_identity\": \"tenant/0a62f7c9-fd7b-4791-8041-01218d839ec1\"\n",
      "}\n"
     ]
    }
   ],
   "source": [
    "# Finding existing artist by name and artist id\n",
    "# Fill in the artistid from Create Asset and Events notebook\n",
    "print(\"Finding Asset\")\n",
    "asset = get_artist(arch, \"Adele Laurie Blue Adkins\", \"7lamw1s0xxl9\")\n",
    "print(\"Asset\", json_dumps(asset, indent=4))"
   ]
  },
  {
   "cell_type": "code",
   "execution_count": 9,
   "id": "948c277b",
   "metadata": {},
   "outputs": [
    {
     "name": "stdout",
     "output_type": "stream",
     "text": [
      "Creating Events for existing Asset\n",
      "Event for Image {\n",
      "    \"identity\": \"assets/afb30753-89ef-4c2c-a0e8-3ebabd52a5b8/events/11f775e5-1fde-42d7-a8c5-af9477c50ffa\",\n",
      "    \"asset_identity\": \"assets/afb30753-89ef-4c2c-a0e8-3ebabd52a5b8\",\n",
      "    \"event_attributes\": {\n",
      "        \"arc_description\": \"Attaching an image\",\n",
      "        \"arc_display_type\": \"Primary image\"\n",
      "    },\n",
      "    \"asset_attributes\": {\n",
      "        \"arc_attachments\": [\n",
      "            {\n",
      "                \"arc_hash_alg\": \"SHA256\",\n",
      "                \"arc_hash_value\": \"cf0dd630dcfb6e2eac65c362bf7d5ff382a4241ebf45a69a2541ee43320d4af6\",\n",
      "                \"arc_attachment_identity\": \"blobs/6d1fd3ee-bf63-49a8-8960-61d7a6ea1605\",\n",
      "                \"arc_display_name\": \"arc_primary_image\"\n",
      "            }\n",
      "        ]\n",
      "    },\n",
      "    \"operation\": \"Record\",\n",
      "    \"behaviour\": \"RecordEvidence\",\n",
      "    \"timestamp_declared\": \"2022-12-21T21:29:45Z\",\n",
      "    \"timestamp_accepted\": \"2022-12-21T21:29:45Z\",\n",
      "    \"timestamp_committed\": \"2022-12-21T21:29:46.040010324Z\",\n",
      "    \"principal_declared\": {\n",
      "        \"issuer\": \"https://app.rkvst.io/appidpv1\",\n",
      "        \"subject\": \"43a271b9-5b25-4740-aa9f-1cbd51ed3625\",\n",
      "        \"display_name\": \"mwilder26\",\n",
      "        \"email\": \"\"\n",
      "    },\n",
      "    \"principal_accepted\": {\n",
      "        \"issuer\": \"https://app.rkvst.io/appidpv1\",\n",
      "        \"subject\": \"43a271b9-5b25-4740-aa9f-1cbd51ed3625\",\n",
      "        \"display_name\": \"mwilder26\",\n",
      "        \"email\": \"\"\n",
      "    },\n",
      "    \"confirmation_status\": \"CONFIRMED\",\n",
      "    \"transaction_id\": \"\",\n",
      "    \"block_number\": 0,\n",
      "    \"transaction_index\": 0,\n",
      "    \"from\": \"0x5284e740A744F075E402f7fB0c4485532ddf4Af8\",\n",
      "    \"tenant_identity\": \"tenant/0a62f7c9-fd7b-4791-8041-01218d839ec1\"\n",
      "}\n"
     ]
    }
   ],
   "source": [
    "# Create an event for attachment upload\n",
    "print(\"Creating Events for existing Asset\")\n",
    "image_event = create_image(arch, asset)\n",
    "print(\"Event for Image\", json_dumps(image_event, indent=4))"
   ]
  }
 ],
 "metadata": {
  "kernelspec": {
   "display_name": "Python 3 (ipykernel)",
   "language": "python",
   "name": "python3"
  },
  "language_info": {
   "codemirror_mode": {
    "name": "ipython",
    "version": 3
   },
   "file_extension": ".py",
   "mimetype": "text/x-python",
   "name": "python",
   "nbconvert_exporter": "python",
   "pygments_lexer": "ipython3",
   "version": "3.9.5 (v3.9.5:0a7dcbdb13, May  3 2021, 13:17:02) \n[Clang 6.0 (clang-600.0.57)]"
  },
  "vscode": {
   "interpreter": {
    "hash": "aee8b7b246df8f9039afb4144a1f6fd8d2ca17a180786b69acc140d282b71a49"
   }
  }
 },
 "nbformat": 4,
 "nbformat_minor": 5
}
