{
 "cells": [
  {
   "cell_type": "markdown",
   "id": "fb467649",
   "metadata": {},
   "source": [
    "## Find Asset and Event Creation"
   ]
  },
  {
   "cell_type": "code",
   "execution_count": 1,
   "id": "43758e9b",
   "metadata": {},
   "outputs": [],
   "source": [
    "# Find an Asset and create events\n",
    "#\n",
    "# Main function, establishes a connection to RKVST using an App Registration then uses that\n",
    "# to find an Asset and create events.\n",
    "#\n",
    "# Note: The purpose of RKVST Jupyter Notebooks is to provide simplified examples that one can easily execute and digest.\n",
    "# The RKVST Python SDK is authored to work cleanly with more advanced coding techniques.\n",
    "#\n",
    "# RKVST Python SDK: https://github.com/rkvst/rkvst-python\n",
    "#"
   ]
  },
  {
   "cell_type": "code",
   "execution_count": 2,
   "id": "40624149",
   "metadata": {},
   "outputs": [],
   "source": [
    "from json import dumps as json_dumps\n",
    "from os import getenv\n",
    "from warnings import filterwarnings\n",
    "\n",
    "from archivist.archivist import Archivist\n",
    "from archivist.proof_mechanism import ProofMechanism\n",
    "from archivist.logger import set_logger\n",
    "\n",
    "filterwarnings(\"ignore\", message=\"Unverified HTTPS request\")"
   ]
  },
  {
   "cell_type": "code",
   "execution_count": 3,
   "id": "1f799f2a",
   "metadata": {},
   "outputs": [],
   "source": [
    "# URL, CLIENT, SECRET are environment variables that represent connection parameters.\n",
    "#\n",
    "# URL = represents the url to the RKVST application\n",
    "# CLIENT = represents the client ID from an Application Registration\n",
    "# SECRET = represents the client secret from an Application Registration\n",
    "RKVST_URL = getenv(\"URL\")\n",
    "APPREG_CLIENT = getenv(\"CLIENT\")\n",
    "APPREG_SECRET = getenv(\"SECRET\")"
   ]
  },
  {
   "cell_type": "code",
   "execution_count": 4,
   "id": "aa63d95a",
   "metadata": {},
   "outputs": [],
   "source": [
    "def get_artist(arch, name, artistid):\n",
    "    \"\"\"\n",
    "    Finds existing Artist asset by name and unique id\n",
    "    \"\"\"\n",
    "    attrs = {\n",
    "        \"arc_display_type\": \"Artists\",\n",
    "        \"arc_display_name\": name,\n",
    "        \"artistid\": artistid,\n",
    "    }\n",
    "\n",
    "    return arch.assets.read_by_signature(attrs=attrs)"
   ]
  },
  {
   "cell_type": "code",
   "execution_count": 5,
   "id": "66df6ebc",
   "metadata": {},
   "outputs": [],
   "source": [
    "def create_release(arch, asset, album_name, release):\n",
    "    \"\"\"\n",
    "    Creates an Event for existing Artist asset\n",
    "    \"\"\"\n",
    "    props = {\"operation\": \"Record\", \"behaviour\": \"RecordEvidence\"}\n",
    "    attrs = {\n",
    "        \"arc_description\": \"Artist Information for existing Artist\",\n",
    "        \"arc_display_type\": \"Album Release for existing Artist\",\n",
    "        \"album_name\": album_name,\n",
    "        \"relase_year\": release,\n",
    "    }\n",
    "\n",
    "    return arch.events.create(asset[\"identity\"], props=props, attrs=attrs)"
   ]
  },
  {
   "cell_type": "code",
   "execution_count": 6,
   "id": "6f5b4221",
   "metadata": {},
   "outputs": [
    {
     "name": "stdout",
     "output_type": "stream",
     "text": [
      "Connecting to RKVST\n",
      "URL https://app.rkvst.io\n"
     ]
    }
   ],
   "source": [
    "\"\"\"\n",
    "Main function of asset and event creation.\n",
    "\n",
    "* Connect to RKVST with client ID and client secret\n",
    "* Finds existing Asset \n",
    "* Creates additional Events for existing Asset\n",
    "* Prints response of existing asset and event creation\n",
    "\"\"\"\n",
    "# Optional call to set the logger level.  The argument can be either\n",
    "# \"INFO\" or \"DEBUG\".  For more sophisticated logging control see our\n",
    "# documentation.\n",
    "set_logger(\"INFO\")\n",
    "\n",
    "# Initialize connection to RKVST\n",
    "print(\"Connecting to RKVST\")\n",
    "print(\"URL\", RKVST_URL)\n",
    "arch = Archivist(RKVST_URL, (APPREG_CLIENT, APPREG_SECRET), max_time=300)"
   ]
  },
  {
   "cell_type": "code",
   "execution_count": 8,
   "id": "0055fe00",
   "metadata": {},
   "outputs": [
    {
     "name": "stdout",
     "output_type": "stream",
     "text": [
      "Finding Asset\n"
     ]
    },
    {
     "name": "stderr",
     "output_type": "stream",
     "text": [
      "Refresh token\n"
     ]
    },
    {
     "name": "stdout",
     "output_type": "stream",
     "text": [
      "Asset {\n",
      "    \"identity\": \"assets/afb30753-89ef-4c2c-a0e8-3ebabd52a5b8\",\n",
      "    \"behaviours\": [\n",
      "        \"Attachments\",\n",
      "        \"RecordEvidence\",\n",
      "        \"Builtin\",\n",
      "        \"AssetCreator\"\n",
      "    ],\n",
      "    \"attributes\": {\n",
      "        \"arc_attachments\": [\n",
      "            {\n",
      "                \"arc_display_name\": \"arc_primary_image\",\n",
      "                \"arc_hash_alg\": \"SHA256\",\n",
      "                \"arc_hash_value\": \"cf0dd630dcfb6e2eac65c362bf7d5ff382a4241ebf45a69a2541ee43320d4af6\",\n",
      "                \"arc_attachment_identity\": \"blobs/6d1fd3ee-bf63-49a8-8960-61d7a6ea1605\"\n",
      "            }\n",
      "        ],\n",
      "        \"arc_description\": \"British Soul Singer\",\n",
      "        \"arc_display_name\": \"Adele Laurie Blue Adkins\",\n",
      "        \"arc_display_type\": \"Artists\",\n",
      "        \"artistid\": \"7lamw1s0xxl9\",\n",
      "        \"genre\": \"Soul\",\n",
      "        \"stage_name\": \"Adele\"\n",
      "    },\n",
      "    \"confirmation_status\": \"CONFIRMED\",\n",
      "    \"tracked\": \"TRACKED\",\n",
      "    \"owner\": \"0x5284e740A744F075E402f7fB0c4485532ddf4Af8\",\n",
      "    \"at_time\": \"2022-12-21T21:32:23Z\",\n",
      "    \"storage_integrity\": \"TENANT_STORAGE\",\n",
      "    \"proof_mechanism\": \"SIMPLE_HASH\",\n",
      "    \"chain_id\": \"8275868384\",\n",
      "    \"public\": false,\n",
      "    \"tenant_identity\": \"tenant/0a62f7c9-fd7b-4791-8041-01218d839ec1\"\n",
      "}\n"
     ]
    }
   ],
   "source": [
    "# Finding existing artist by name and artist id\n",
    "# Fill in the artistid from Create Asset and Events notebook\n",
    "print(\"Finding Asset\")\n",
    "asset = get_artist(arch, \"Adele Laurie Blue Adkins\", \"7lamw1s0xxl9\")\n",
    "print(\"Asset\", json_dumps(asset, indent=4))"
   ]
  },
  {
   "cell_type": "code",
   "execution_count": 9,
   "id": "8ac5add2",
   "metadata": {},
   "outputs": [
    {
     "name": "stdout",
     "output_type": "stream",
     "text": [
      "Creating Events for existing Asset\n",
      "Event for Album 25 {\n",
      "    \"identity\": \"assets/afb30753-89ef-4c2c-a0e8-3ebabd52a5b8/events/3eb57c4d-619d-4885-aa98-6e914a389d05\",\n",
      "    \"asset_identity\": \"assets/afb30753-89ef-4c2c-a0e8-3ebabd52a5b8\",\n",
      "    \"event_attributes\": {\n",
      "        \"album_name\": \"25\",\n",
      "        \"arc_description\": \"Artist Information for existing Artist\",\n",
      "        \"arc_display_type\": \"Album Release for existing Artist\",\n",
      "        \"relase_year\": \"2015\"\n",
      "    },\n",
      "    \"asset_attributes\": {},\n",
      "    \"operation\": \"Record\",\n",
      "    \"behaviour\": \"RecordEvidence\",\n",
      "    \"timestamp_declared\": \"2022-12-21T21:32:32Z\",\n",
      "    \"timestamp_accepted\": \"2022-12-21T21:32:32Z\",\n",
      "    \"timestamp_committed\": \"2022-12-21T21:32:32.499075280Z\",\n",
      "    \"principal_declared\": {\n",
      "        \"issuer\": \"https://app.rkvst.io/appidpv1\",\n",
      "        \"subject\": \"43a271b9-5b25-4740-aa9f-1cbd51ed3625\",\n",
      "        \"display_name\": \"mwilder26\",\n",
      "        \"email\": \"\"\n",
      "    },\n",
      "    \"principal_accepted\": {\n",
      "        \"issuer\": \"https://app.rkvst.io/appidpv1\",\n",
      "        \"subject\": \"43a271b9-5b25-4740-aa9f-1cbd51ed3625\",\n",
      "        \"display_name\": \"mwilder26\",\n",
      "        \"email\": \"\"\n",
      "    },\n",
      "    \"confirmation_status\": \"CONFIRMED\",\n",
      "    \"transaction_id\": \"\",\n",
      "    \"block_number\": 0,\n",
      "    \"transaction_index\": 0,\n",
      "    \"from\": \"0x5284e740A744F075E402f7fB0c4485532ddf4Af8\",\n",
      "    \"tenant_identity\": \"tenant/0a62f7c9-fd7b-4791-8041-01218d839ec1\"\n",
      "}\n",
      "Event for Album 30 {\n",
      "    \"identity\": \"assets/afb30753-89ef-4c2c-a0e8-3ebabd52a5b8/events/b672f810-9466-43b4-b414-dcdc5e755083\",\n",
      "    \"asset_identity\": \"assets/afb30753-89ef-4c2c-a0e8-3ebabd52a5b8\",\n",
      "    \"event_attributes\": {\n",
      "        \"arc_description\": \"Artist Information for existing Artist\",\n",
      "        \"arc_display_type\": \"Album Release for existing Artist\",\n",
      "        \"relase_year\": \"2021\",\n",
      "        \"album_name\": \"30\"\n",
      "    },\n",
      "    \"asset_attributes\": {},\n",
      "    \"operation\": \"Record\",\n",
      "    \"behaviour\": \"RecordEvidence\",\n",
      "    \"timestamp_declared\": \"2022-12-21T21:32:34Z\",\n",
      "    \"timestamp_accepted\": \"2022-12-21T21:32:34Z\",\n",
      "    \"timestamp_committed\": \"2022-12-21T21:32:34.493558241Z\",\n",
      "    \"principal_declared\": {\n",
      "        \"issuer\": \"https://app.rkvst.io/appidpv1\",\n",
      "        \"subject\": \"43a271b9-5b25-4740-aa9f-1cbd51ed3625\",\n",
      "        \"display_name\": \"mwilder26\",\n",
      "        \"email\": \"\"\n",
      "    },\n",
      "    \"principal_accepted\": {\n",
      "        \"issuer\": \"https://app.rkvst.io/appidpv1\",\n",
      "        \"subject\": \"43a271b9-5b25-4740-aa9f-1cbd51ed3625\",\n",
      "        \"display_name\": \"mwilder26\",\n",
      "        \"email\": \"\"\n",
      "    },\n",
      "    \"confirmation_status\": \"CONFIRMED\",\n",
      "    \"transaction_id\": \"\",\n",
      "    \"block_number\": 0,\n",
      "    \"transaction_index\": 0,\n",
      "    \"from\": \"0x5284e740A744F075E402f7fB0c4485532ddf4Af8\",\n",
      "    \"tenant_identity\": \"tenant/0a62f7c9-fd7b-4791-8041-01218d839ec1\"\n",
      "}\n"
     ]
    }
   ],
   "source": [
    "# Create two events that contain album release information for existing Artist\n",
    "print(\"Creating Events for existing Asset\")\n",
    "event_one = create_release(arch, asset, album_name=\"25\", release=\"2015\")\n",
    "print(\"Event for Album 25\", json_dumps(event_one, indent=4))\n",
    "event_two = create_release(arch, asset, album_name=\"30\", release=\"2021\")\n",
    "print(\"Event for Album 30\", json_dumps(event_two, indent=4))"
   ]
  }
 ],
 "metadata": {
  "kernelspec": {
   "display_name": "Python 3 (ipykernel)",
   "language": "python",
   "name": "python3"
  },
  "language_info": {
   "codemirror_mode": {
    "name": "ipython",
    "version": 3
   },
   "file_extension": ".py",
   "mimetype": "text/x-python",
   "name": "python",
   "nbconvert_exporter": "python",
   "pygments_lexer": "ipython3",
   "version": "3.9.5 (v3.9.5:0a7dcbdb13, May  3 2021, 13:17:02) \n[Clang 6.0 (clang-600.0.57)]"
  },
  "vscode": {
   "interpreter": {
    "hash": "aee8b7b246df8f9039afb4144a1f6fd8d2ca17a180786b69acc140d282b71a49"
   }
  }
 },
 "nbformat": 4,
 "nbformat_minor": 5
}
