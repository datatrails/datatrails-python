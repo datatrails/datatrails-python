{
 "cells": [
  {
   "cell_type": "markdown",
   "id": "f1578ab4-c4c4-4811-8315-fe4bda4aed0b",
   "metadata": {},
   "source": [
    "## Sharing Album Release Info with User"
   ]
  },
  {
   "cell_type": "code",
   "execution_count": 1,
   "id": "fa53b861-8b8a-42a8-9654-b7d6ccf4c71a",
   "metadata": {},
   "outputs": [],
   "source": [
    "# Creates an Access Policy that shares event-level \"read-only\" permission with user (within a single tenancy).\n",
    "#\n",
    "# Main function, establishes a connection to DATATRAILS using an App Registration then uses that\n",
    "# to create an Access Policy.\n",
    "#\n",
    "# Note: The purpose of DATATRAILS Jupyter Notebooks is to provide simplified examples that one can easily execute and digest.\n",
    "# The DATATRAILS Python SDK is authored to work cleanly with more advanced coding techniques.\n",
    "#\n",
    "# DATATRAILS Python SDK: https://github.com/datatrails/datatrails-python\n",
    "#"
   ]
  },
  {
   "cell_type": "code",
   "execution_count": 2,
   "id": "38b7b338-33d9-410c-8775-6668160f6b6d",
   "metadata": {},
   "outputs": [],
   "source": [
    "import random\n",
    "import string\n",
    "\n",
    "from json import dumps as json_dumps\n",
    "from os import getenv\n",
    "from warnings import filterwarnings\n",
    "\n",
    "from dotenv import load_dotenv\n",
    "\n",
    "from archivist.archivist import Archivist\n",
    "from archivist.proof_mechanism import ProofMechanism\n",
    "from archivist.logger import set_logger\n",
    "from archivist.constants import ASSET_BEHAVIOURS"
   ]
  },
  {
   "cell_type": "code",
   "execution_count": 3,
   "id": "0a42d850-572b-4fc0-bb39-9c84e527a59c",
   "metadata": {},
   "outputs": [],
   "source": [
    "%reload_ext dotenv\n",
    "%dotenv -o notebooks.env"
   ]
  },
  {
   "cell_type": "code",
   "execution_count": 4,
   "id": "bf389f55-d494-4d0e-a6bd-29b8b7423be4",
   "metadata": {},
   "outputs": [],
   "source": [
    "# DATATRAILS_URL, DATATRAILS_APPREG_CLIENT, DATATRAILS_APPREG_SECRET are environment variables that represent connection parameters.\n",
    "#\n",
    "# DATATRAILS_URL = represents the url to the DATATRAILS application\n",
    "# DATATRAILS_APPREG_CLIENT = represents the client ID from an Application Registration\n",
    "# DATATRAILS_APPREG_SECRET = represents the client secret from an Application Registration\n",
    "DATATRAILS_URL = getenv(\"DATATRAILS_URL\")\n",
    "DATATRAILS_APPREG_CLIENT = getenv(\"DATATRAILS_APPREG_CLIENT\")\n",
    "DATATRAILS_APPREG_SECRET = getenv(\"DATATRAILS_APPREG_SECRET\")"
   ]
  },
  {
   "cell_type": "code",
   "execution_count": 5,
   "id": "39ae54a5-4a9e-4710-8342-a98ea7c60c6a",
   "metadata": {},
   "outputs": [
    {
     "name": "stdout",
     "output_type": "stream",
     "text": [
      "Connecting to DATATRAILS\n",
      "DATATRAILS_URL https://app.datatrails.ai\n"
     ]
    }
   ],
   "source": [
    "\"\"\"\n",
    "Main function of Access Policy creation.\n",
    "\n",
    "* Connect to DATATRAILS with client ID and client secret\n",
    "* Creates an Access Policy\n",
    "* Prints response of Access Policy creation\n",
    "\"\"\"\n",
    "\n",
    "# Optional call to set the logger level.  The argument can be either\n",
    "# \"INFO\" or \"DEBUG\".  For more sophisticated logging control see our\n",
    "# documentation.\n",
    "set_logger(\"INFO\")\n",
    "\n",
    "# Initialize connection to DATATRAILS\n",
    "print(\"Connecting to DATATRAILS\")\n",
    "print(\"DATATRAILS_URL\", DATATRAILS_URL)\n",
    "arch = Archivist(\n",
    "    DATATRAILS_URL, (DATATRAILS_APPREG_CLIENT, DATATRAILS_APPREG_SECRET), max_time=300\n",
    ")"
   ]
  },
  {
   "cell_type": "code",
   "execution_count": 6,
   "id": "4d6728f5-eef5-4956-b60c-c66f2fdd0b28",
   "metadata": {},
   "outputs": [],
   "source": [
    "def create_event_access(arch):\n",
    "    \"\"\"\n",
    "    Creates an Access Policy that shares Album Release data for Artists with another user within a single tenancy\n",
    "    \"\"\"\n",
    "    props = {\n",
    "        \"display_name\": \"Sharing Album Release\",\n",
    "        \"description\": \"Sharing Album Release Information\",\n",
    "    }\n",
    "    filters = [{\"or\": [\"attributes.arc_display_type=Artists\"]}]\n",
    "    access_permissions = [\n",
    "        {\n",
    "            \"asset_attributes_read\": [\n",
    "                \"arc_display_name\",\n",
    "                \"arc_display_type\",\n",
    "                \"arc_description\",\n",
    "            ],\n",
    "            \"asset_attributes_write\": [],\n",
    "            \"behaviours\": ASSET_BEHAVIOURS,\n",
    "            \"event_arc_display_type_read\": [\"Album Release\"],\n",
    "            \"event_arc_display_type_write\": [],\n",
    "            \"include_attributes\": [],\n",
    "            \"subjects\": [],\n",
    "            \"user_attributes\": [{\"or\": [\"email=datatrails.test@gmail.com\"]}],\n",
    "        }\n",
    "    ]\n",
    "\n",
    "    return arch.access_policies.create(props, filters, access_permissions)"
   ]
  },
  {
   "cell_type": "code",
   "execution_count": 7,
   "id": "edbd3d74-895c-4ba5-aa1d-68a675da6cbe",
   "metadata": {},
   "outputs": [
    {
     "name": "stderr",
     "output_type": "stream",
     "text": [
      "Refresh token\n"
     ]
    },
    {
     "name": "stdout",
     "output_type": "stream",
     "text": [
      "ACCESS_POLICY {\n",
      "    \"identity\": \"access_policies/f62f414b-ad42-456e-855a-4820fb34dfb4\",\n",
      "    \"display_name\": \"Sharing Album Release\",\n",
      "    \"filters\": [\n",
      "        {\n",
      "            \"or\": [\n",
      "                \"attributes.arc_display_type=Artists\"\n",
      "            ]\n",
      "        }\n",
      "    ],\n",
      "    \"access_permissions\": [\n",
      "        {\n",
      "            \"subjects\": [],\n",
      "            \"behaviours\": [\n",
      "                \"RecordEvidence\"\n",
      "            ],\n",
      "            \"include_attributes\": [],\n",
      "            \"user_attributes\": [\n",
      "                {\n",
      "                    \"or\": [\n",
      "                        \"email=datatrails.test@gmail.com\"\n",
      "                    ]\n",
      "                }\n",
      "            ],\n",
      "            \"asset_attributes_read\": [\n",
      "                \"arc_display_name\",\n",
      "                \"arc_display_type\",\n",
      "                \"arc_description\"\n",
      "            ],\n",
      "            \"asset_attributes_write\": [],\n",
      "            \"event_arc_display_type_read\": [\n",
      "                \"Album Release\"\n",
      "            ],\n",
      "            \"event_arc_display_type_write\": []\n",
      "        }\n",
      "    ],\n",
      "    \"tenant\": \"tenant/0a62f7c9-fd7b-4791-8041-01218d839ec1\",\n",
      "    \"description\": \"Sharing Album Release Information\"\n",
      "}\n"
     ]
    }
   ],
   "source": [
    "# Creates an Access Policy and prints result\n",
    "access_policy = create_event_access(arch)\n",
    "print(\"ACCESS_POLICY\", json_dumps(access_policy, indent=4))"
   ]
  }
 ],
 "metadata": {
  "kernelspec": {
   "display_name": "Python 3 (ipykernel)",
   "language": "python",
   "name": "python3"
  },
  "language_info": {
   "codemirror_mode": {
    "name": "ipython",
    "version": 3
   },
   "file_extension": ".py",
   "mimetype": "text/x-python",
   "name": "python",
   "nbconvert_exporter": "python",
   "pygments_lexer": "ipython3",
   "version": "3.8.15"
  }
 },
 "nbformat": 4,
 "nbformat_minor": 5
}
