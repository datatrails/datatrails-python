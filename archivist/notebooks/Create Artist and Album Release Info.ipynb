{
 "cells": [
  {
   "cell_type": "markdown",
   "id": "2370bfb7",
   "metadata": {},
   "source": [
    "## Create Artist and Album Release Info"
   ]
  },
  {
   "cell_type": "code",
   "execution_count": 1,
   "id": "d4eb0594",
   "metadata": {},
   "outputs": [],
   "source": [
    "# Create an Asset with corresponding Events\n",
    "#\n",
    "# Main function, establishes a connection to DataTrails using an App Registration then uses that\n",
    "# to create an Asset with Events.\n",
    "#\n",
    "# Note: The purpose of DataTrails Jupyter Notebooks is to provide simplified examples that one can easily execute and digest.\n",
    "# The DataTrails Python SDK is authored to work cleanly with more advanced coding techniques.\n",
    "#\n",
    "# DataTrails Python SDK: https://github.com/datatrails/datatrails-python\n",
    "#"
   ]
  },
  {
   "cell_type": "code",
   "execution_count": 2,
   "id": "402e6085",
   "metadata": {},
   "outputs": [],
   "source": [
    "\n",
    "from json import dumps as json_dumps\n",
    "from os import getenv\n",
    "\n",
    "from archivist.archivist import Archivist\n",
    "from archivist.logger import set_logger"
   ]
  },
  {
   "cell_type": "code",
   "execution_count": 3,
   "id": "d078b551",
   "metadata": {},
   "outputs": [],
   "source": [
    "%reload_ext dotenv\n",
    "%dotenv -o notebooks.env"
   ]
  },
  {
   "cell_type": "code",
   "execution_count": 4,
   "id": "05c9e0bc",
   "metadata": {},
   "outputs": [],
   "source": [
    "# DATATRAILS_URL, DATATRAILS_APPREG_CLIENT, DATATRAILS_APPREG_SECRET are environment variables that represent connection parameters.\n",
    "#\n",
    "# DATATRAILS_URL = represents the url to the DataTrails application\n",
    "# DATATRAILS_APPREG_CLIENT = represents the client ID from an Application Registration\n",
    "# DATATRAILS_APPREG_SECRET = represents the client secret from an Application Registration\n",
    "# DATATRAILS_UNIQUE_ID = is an environment variable that is a unique identifier\n",
    "DATATRAILS_URL = getenv(\"DATATRAILS_URL\")\n",
    "DATATRAILS_APPREG_CLIENT = getenv(\"DATATRAILS_APPREG_CLIENT\")\n",
    "DATATRAILS_APPREG_SECRET = getenv(\"DATATRAILS_APPREG_SECRET\")\n",
    "DATATRAILS_UNIQUE_ID = getenv(\"DATATRAILS_UNIQUE_ID\")\n",
    "if not DATATRAILS_UNIQUE_ID:\n",
    "    raise Exception(\"No value for DATATRAILS_UNIQUE_ID\")"
   ]
  },
  {
   "cell_type": "code",
   "execution_count": 5,
   "id": "c41d7065",
   "metadata": {},
   "outputs": [
    {
     "name": "stdout",
     "output_type": "stream",
     "text": [
      "Connecting to DATATRAILS\n",
      "DATATRAILS_URL https://app.datatrails.ai\n"
     ]
    }
   ],
   "source": [
    "\"\"\"\n",
    "Main function of Asset and Event creation.\n",
    "\n",
    "* Connect to DataTrails with client ID and client secret\n",
    "* Creates an Asset and two Events\n",
    "* Prints response of Asset and Event creation\n",
    "\"\"\"\n",
    "\n",
    "# Optional call to set the logger level.  The argument can be either\n",
    "# \"INFO\" or \"DEBUG\".  For more sophisticated logging control see our\n",
    "# documentation.\n",
    "set_logger(\"INFO\")\n",
    "\n",
    "# Initialize connection to DATATRAILS\n",
    "print(\"Connecting to DATATRAILS\")\n",
    "print(\"DATATRAILS_URL\", DATATRAILS_URL)\n",
    "arch = Archivist(\n",
    "    DATATRAILS_URL, (DATATRAILS_APPREG_CLIENT, DATATRAILS_APPREG_SECRET), max_time=300\n",
    ")"
   ]
  },
  {
   "cell_type": "code",
   "execution_count": 6,
   "id": "b3bff987",
   "metadata": {},
   "outputs": [],
   "source": [
    "def create_artist(arch, name, artist_name, genre, artistid):\n",
    "    \"\"\"\n",
    "    Creates an Asset that passes name, stage name, music genre and unique id\n",
    "    for an Artist\n",
    "    \"\"\"\n",
    "    attrs = {\n",
    "        \"arc_display_name\": name,\n",
    "        \"arc_description\": \"British Soul Singer\",\n",
    "        \"arc_display_type\": \"Artists\",\n",
    "        \"stage_name\": artist_name,\n",
    "        \"genre\": genre,\n",
    "        \"artistid\": artistid,\n",
    "    }\n",
    "\n",
    "    return arch.assets.create(attrs=attrs)"
   ]
  },
  {
   "cell_type": "code",
   "execution_count": 7,
   "id": "5a8456d6",
   "metadata": {},
   "outputs": [],
   "source": [
    "def create_release(arch, asset, album_name, release):\n",
    "    \"\"\"\n",
    "    Creates an Event that passes album name and release year\n",
    "    \"\"\"\n",
    "    props = {\"operation\": \"Record\", \"behaviour\": \"RecordEvidence\"}\n",
    "    attrs = {\n",
    "        \"arc_description\": \"Artist Information\",\n",
    "        \"arc_display_type\": \"Album Release\",\n",
    "        \"album_name\": album_name,\n",
    "        \"relase_year\": release,\n",
    "    }\n",
    "\n",
    "    return arch.events.create(asset[\"identity\"], props=props, attrs=attrs)"
   ]
  },
  {
   "cell_type": "code",
   "execution_count": 8,
   "id": "e9129061",
   "metadata": {},
   "outputs": [
    {
     "name": "stdout",
     "output_type": "stream",
     "text": [
      "Creating Asset\n"
     ]
    },
    {
     "name": "stderr",
     "output_type": "stream",
     "text": [
      "Refresh token\n"
     ]
    },
    {
     "name": "stdout",
     "output_type": "stream",
     "text": [
      "Asset {\n",
      "    \"identity\": \"assets/17a59a16-3d5c-4d58-8ea6-1b86465ff32f\",\n",
      "    \"behaviours\": [\n",
      "        \"RecordEvidence\",\n",
      "        \"Builtin\",\n",
      "        \"AssetCreator\"\n",
      "    ],\n",
      "    \"attributes\": {\n",
      "        \"arc_display_name\": \"Adele Laurie Blue Adkins\",\n",
      "        \"arc_display_type\": \"Artists\",\n",
      "        \"artistid\": \"989130159\",\n",
      "        \"genre\": \"Soul\",\n",
      "        \"stage_name\": \"Adele\",\n",
      "        \"arc_description\": \"British Soul Singer\"\n",
      "    },\n",
      "    \"confirmation_status\": \"CONFIRMED\",\n",
      "    \"tracked\": \"TRACKED\",\n",
      "    \"owner\": \"0x5284e740A744F075E402f7fB0c4485532ddf4Af8\",\n",
      "    \"at_time\": \"2023-06-02T20:57:01Z\",\n",
      "    \"storage_integrity\": \"TENANT_STORAGE\",\n",
      "    \"chain_id\": \"8275868384\",\n",
      "    \"public\": false,\n",
      "    \"tenant_identity\": \"tenant/0a62f7c9-fd7b-4791-8041-01218d839ec1\"\n",
      "}\n"
     ]
    }
   ],
   "source": [
    "# Creating an Asset for musical artist Adele\n",
    "print(\"Creating Asset\")\n",
    "asset = create_artist(\n",
    "    arch,\n",
    "    name=\"Adele Laurie Blue Adkins\",\n",
    "    artist_name=\"Adele\",\n",
    "    genre=\"Soul\",\n",
    "    artistid=DATATRAILS_UNIQUE_ID,\n",
    ")\n",
    "print(\"Asset\", json_dumps(asset, indent=4))"
   ]
  },
  {
   "cell_type": "code",
   "execution_count": 9,
   "id": "4095a75f",
   "metadata": {},
   "outputs": [
    {
     "name": "stdout",
     "output_type": "stream",
     "text": [
      "Creating Events\n",
      "Event for Album 19 {\n",
      "    \"identity\": \"assets/17a59a16-3d5c-4d58-8ea6-1b86465ff32f/events/7dcd25e1-e469-4fe8-9cae-6e467dbc35b9\",\n",
      "    \"asset_identity\": \"assets/17a59a16-3d5c-4d58-8ea6-1b86465ff32f\",\n",
      "    \"event_attributes\": {\n",
      "        \"relase_year\": \"2008\",\n",
      "        \"album_name\": \"19\",\n",
      "        \"arc_description\": \"Artist Information\",\n",
      "        \"arc_display_type\": \"Album Release\"\n",
      "    },\n",
      "    \"asset_attributes\": {},\n",
      "    \"operation\": \"Record\",\n",
      "    \"behaviour\": \"RecordEvidence\",\n",
      "    \"timestamp_declared\": \"2023-06-02T20:57:08Z\",\n",
      "    \"timestamp_accepted\": \"2023-06-02T20:57:08Z\",\n",
      "    \"timestamp_committed\": \"2023-06-02T20:57:08.267262759Z\",\n",
      "    \"principal_declared\": {\n",
      "        \"issuer\": \"https://app.datatrails.ai/appidpv1\",\n",
      "        \"subject\": \"43a271b9-5b25-4740-aa9f-1cbd51ed3625\",\n",
      "        \"display_name\": \"mwilder26\",\n",
      "        \"email\": \"\"\n",
      "    },\n",
      "    \"principal_accepted\": {\n",
      "        \"issuer\": \"https://app.datatrails.ai/appidpv1\",\n",
      "        \"subject\": \"43a271b9-5b25-4740-aa9f-1cbd51ed3625\",\n",
      "        \"display_name\": \"mwilder26\",\n",
      "        \"email\": \"\"\n",
      "    },\n",
      "    \"confirmation_status\": \"CONFIRMED\",\n",
      "    \"transaction_id\": \"\",\n",
      "    \"block_number\": 0,\n",
      "    \"transaction_index\": 0,\n",
      "    \"from\": \"0x5284e740A744F075E402f7fB0c4485532ddf4Af8\",\n",
      "    \"tenant_identity\": \"tenant/0a62f7c9-fd7b-4791-8041-01218d839ec1\"\n",
      "}\n",
      "Event for Album 21 {\n",
      "    \"identity\": \"assets/17a59a16-3d5c-4d58-8ea6-1b86465ff32f/events/5119ae7d-658a-4b6c-98c6-0a3ab99b487b\",\n",
      "    \"asset_identity\": \"assets/17a59a16-3d5c-4d58-8ea6-1b86465ff32f\",\n",
      "    \"event_attributes\": {\n",
      "        \"relase_year\": \"2011\",\n",
      "        \"album_name\": \"21\",\n",
      "        \"arc_description\": \"Artist Information\",\n",
      "        \"arc_display_type\": \"Album Release\"\n",
      "    },\n",
      "    \"asset_attributes\": {},\n",
      "    \"operation\": \"Record\",\n",
      "    \"behaviour\": \"RecordEvidence\",\n",
      "    \"timestamp_declared\": \"2023-06-02T20:57:10Z\",\n",
      "    \"timestamp_accepted\": \"2023-06-02T20:57:10Z\",\n",
      "    \"timestamp_committed\": \"2023-06-02T20:57:10.089205082Z\",\n",
      "    \"principal_declared\": {\n",
      "        \"issuer\": \"https://app.datatrails.ai/appidpv1\",\n",
      "        \"subject\": \"43a271b9-5b25-4740-aa9f-1cbd51ed3625\",\n",
      "        \"display_name\": \"mwilder26\",\n",
      "        \"email\": \"\"\n",
      "    },\n",
      "    \"principal_accepted\": {\n",
      "        \"issuer\": \"https://app.datatrails.ai/appidpv1\",\n",
      "        \"subject\": \"43a271b9-5b25-4740-aa9f-1cbd51ed3625\",\n",
      "        \"display_name\": \"mwilder26\",\n",
      "        \"email\": \"\"\n",
      "    },\n",
      "    \"confirmation_status\": \"CONFIRMED\",\n",
      "    \"transaction_id\": \"\",\n",
      "    \"block_number\": 0,\n",
      "    \"transaction_index\": 0,\n",
      "    \"from\": \"0x5284e740A744F075E402f7fB0c4485532ddf4Af8\",\n",
      "    \"tenant_identity\": \"tenant/0a62f7c9-fd7b-4791-8041-01218d839ec1\"\n",
      "}\n"
     ]
    }
   ],
   "source": [
    "# Create two Events that contain album release information for Adele\n",
    "print(\"Creating Events\")\n",
    "event_one = create_release(arch, asset, album_name=\"19\", release=\"2008\")\n",
    "print(\"Event for Album 19\", json_dumps(event_one, indent=4))\n",
    "event_two = create_release(arch, asset, album_name=\"21\", release=\"2011\")\n",
    "print(\"Event for Album 21\", json_dumps(event_two, indent=4))"
   ]
  }
 ],
 "metadata": {
  "kernelspec": {
   "display_name": "Python 3 (ipykernel)",
   "language": "python",
   "name": "python3"
  },
  "language_info": {
   "codemirror_mode": {
    "name": "ipython",
    "version": 3
   },
   "file_extension": ".py",
   "mimetype": "text/x-python",
   "name": "python",
   "nbconvert_exporter": "python",
   "pygments_lexer": "ipython3",
   "version": "3.8.15"
  },
  "vscode": {
   "interpreter": {
    "hash": "aee8b7b246df8f9039afb4144a1f6fd8d2ca17a180786b69acc140d282b71a49"
   }
  }
 },
 "nbformat": 4,
 "nbformat_minor": 5
}
