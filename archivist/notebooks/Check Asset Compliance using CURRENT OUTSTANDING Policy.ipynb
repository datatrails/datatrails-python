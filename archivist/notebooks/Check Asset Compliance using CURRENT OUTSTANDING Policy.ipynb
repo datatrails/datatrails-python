{
 "cells": [
  {
   "cell_type": "markdown",
   "id": "d89c5225",
   "metadata": {},
   "source": [
    "Create Asset Compliance: CURRENT_OUTSTANDING policy\n",
    "-------------------------------------------------------------------------------------"
   ]
  },
  {
   "cell_type": "code",
   "execution_count": 1,
   "id": "c85b9e96",
   "metadata": {},
   "outputs": [],
   "source": [
    "# Define a compliance policy that alerts when an asset spends too long in a bad state.\n",
    "\n",
    "# Main function establishes a connection to RKVST using an App Registration then uses that\n",
    "# to create an access policy, test it in good and bad states, then cleans up."
   ]
  },
  {
   "cell_type": "code",
   "execution_count": 2,
   "id": "001b25e3",
   "metadata": {},
   "outputs": [],
   "source": [
    "from json import dumps as json_dumps\n",
    "from os import getenv\n",
    "from time import sleep\n",
    "from uuid import uuid4\n",
    "from warnings import filterwarnings\n",
    "\n",
    "from archivist.archivist import Archivist\n",
    "from archivist.compliance_policy_requests import CompliancePolicyCurrentOutstanding\n",
    "from archivist.constants import ASSET_BEHAVIOURS\n",
    "from archivist.proof_mechanism import ProofMechanism\n",
    "from archivist.logger import set_logger\n",
    "\n",
    "filterwarnings(\"ignore\", message=\"Unverified HTTPS request\")"
   ]
  },
  {
   "cell_type": "code",
   "execution_count": 3,
   "id": "92835114",
   "metadata": {},
   "outputs": [],
   "source": [
    "# URL, CLIENT, SECRET are environment variables that represent connection parameters.\n",
    "#\n",
    "# URL = represents the url to the RKVST application\n",
    "# CLIENT = represents the client ID from an Application Registration\n",
    "# SECRET = represents the client secret from an Application Registration\n",
    "RKVST_URL = getenv(\"RKVST_URL\")\n",
    "APPREG_CLIENT = getenv(\"RKVST_APPREG_CLIENT\")\n",
    "APPREG_SECRET = getenv(\"RKVST_APPREG_SECRET\")"
   ]
  },
  {
   "cell_type": "code",
   "execution_count": 4,
   "id": "d85dcf4c",
   "metadata": {},
   "outputs": [
    {
     "name": "stdout",
     "output_type": "stream",
     "text": [
      "Connecting to RKVST\n",
      "URL https://app.dev-paul-0.wild.jitsuin.io\n"
     ]
    }
   ],
   "source": [
    "\"\"\"\n",
    "Main function of Asset and Event creation.\n",
    "\n",
    "* Connect to RKVST with client ID and client secret\n",
    "* Creates an Asset and two Events\n",
    "* Prints response of Asset and Event creation\n",
    "\"\"\"\n",
    "\n",
    "# Optional call to set the logger level.  The argument can be either\n",
    "# \"INFO\" or \"DEBUG\".  For more sophisticated logging control see our\n",
    "# documentation.\n",
    "set_logger(\"INFO\")\n",
    "\n",
    "# Initialize connection to RKVST\n",
    "print(\"Connecting to RKVST\")\n",
    "print(\"URL\", RKVST_URL)\n",
    "arch = Archivist(RKVST_URL, (APPREG_CLIENT, APPREG_SECRET), max_time=300)"
   ]
  },
  {
   "cell_type": "code",
   "execution_count": 5,
   "id": "acdf240c",
   "metadata": {},
   "outputs": [],
   "source": [
    "def create_compliance_policy(arch):\n",
    "    \"\"\"Compliance policy which notices when process steps are\n",
    "    not executed - eg 'you must close the door after you open it'\n",
    "    or 'candidate software build must be approved before release'\n",
    "\n",
    "    This example creates a policy that requires doors to be closed\n",
    "    after they are opened.\n",
    "    \"\"\"\n",
    "    compliance_policy = arch.compliance_policies.create(\n",
    "        CompliancePolicyCurrentOutstanding(\n",
    "            description=\"Vault doors should be closed according to site security policy section Phys.Integ.02\",\n",
    "            display_name=\"Phys.Integ.02\",\n",
    "            asset_filter=[\n",
    "                [\"attributes.arc_display_type=Vault Door\"],\n",
    "            ],\n",
    "            event_display_type=\"Open\",\n",
    "            closing_event_display_type=\"Close\",\n",
    "        )\n",
    "    )\n",
    "    print(\"CURRENT_OUTSTANDING_POLICY:\", json_dumps(compliance_policy, indent=4))\n",
    "    return compliance_policy"
   ]
  },
  {
   "cell_type": "code",
   "execution_count": 6,
   "id": "8889c68d",
   "metadata": {},
   "outputs": [],
   "source": [
    "def create_door(arch):\n",
    "    \"\"\"\n",
    "    Creates an Asset record to track a particular door.\n",
    "    \"\"\"\n",
    "\n",
    "    door, _ = arch.assets.create_if_not_exists(\n",
    "        {\n",
    "            \"selector\": [\n",
    "                {\n",
    "                    \"attributes\": [\n",
    "                        \"arc_display_name\",\n",
    "                        \"arc_display_type\",\n",
    "                    ]\n",
    "                },\n",
    "            ],\n",
    "            \"behaviours\": ASSET_BEHAVIOURS,\n",
    "            \"proof_mechanism\": ProofMechanism.SIMPLE_HASH.name,\n",
    "            \"attributes\": {\n",
    "                \"arc_display_name\": \"Gringott's Vault 2\",\n",
    "                \"arc_description\": \"Main door to the second level security vault in Gringott's Wizarding Bank\",\n",
    "                \"arc_display_type\": \"Vault Door\",\n",
    "            },\n",
    "        },\n",
    "        confirm=True,\n",
    "    )\n",
    "    print(\"DOOR:\", json_dumps(door, indent=4))\n",
    "    return door"
   ]
  },
  {
   "cell_type": "code",
   "execution_count": 7,
   "id": "ba24d143",
   "metadata": {},
   "outputs": [],
   "source": [
    "def open_door(arch, door, tag):\n",
    "    \"\"\"\n",
    "    Open the vault door\n",
    "    \"\"\"\n",
    "    door_opened = arch.events.create(\n",
    "        door[\"identity\"],\n",
    "        {\n",
    "            \"operation\": \"Record\",\n",
    "            \"behaviour\": \"RecordEvidence\",\n",
    "        },\n",
    "        {\n",
    "            \"arc_description\": \"Open the door for Lucius Malfoy\",\n",
    "            \"arc_display_type\": \"Open\",\n",
    "            \"arc_correlation_value\": f\"{tag}\",\n",
    "        },\n",
    "        confirm=True,\n",
    "    )\n",
    "    print(\"DOOR_OPENED:\", json_dumps(door_opened, indent=4))"
   ]
  },
  {
   "cell_type": "code",
   "execution_count": 8,
   "id": "bde8fc72",
   "metadata": {},
   "outputs": [],
   "source": [
    "def close_door(arch, door, tag):\n",
    "    \"\"\"\n",
    "    Close the vault door\n",
    "    \"\"\"\n",
    "    door_closed = arch.events.create(\n",
    "        door[\"identity\"],\n",
    "        {\n",
    "            \"operation\": \"Record\",\n",
    "            \"behaviour\": \"RecordEvidence\",\n",
    "        },\n",
    "        {\n",
    "            \"arc_description\": \"Closed the door after Lucius Malfoy exited the vault\",\n",
    "            \"arc_display_type\": \"Close\",\n",
    "            \"arc_correlation_value\": f\"{tag}\",\n",
    "        },\n",
    "        confirm=True,\n",
    "    )\n",
    "    print(\"DOOR_CLOSED:\", json_dumps(door_closed, indent=4))"
   ]
  },
  {
   "cell_type": "code",
   "execution_count": 9,
   "id": "b7482420",
   "metadata": {
    "scrolled": true
   },
   "outputs": [
    {
     "name": "stdout",
     "output_type": "stream",
     "text": [
      "Tag for this run: 81c94ed1-e310-4743-8e39-9ee0a9170bdf\n"
     ]
    }
   ],
   "source": [
    "# Compliance policies with related events (eg open/close, order/ship/deliver\n",
    "# type situations) require events to be linked through a correlation value.\n",
    "# In many cases this will be obvious (a CVE tag for vulnerability management,\n",
    "# or a works ticket number for maintenance, or even a timestamp) but here\n",
    "# we'll just make a UUID to make sure it's unique and this test is repeatable\n",
    "tag = uuid4()\n",
    "print(f\"Tag for this run: {tag}\")"
   ]
  },
  {
   "cell_type": "code",
   "execution_count": 10,
   "id": "bb5b0651",
   "metadata": {},
   "outputs": [
    {
     "name": "stderr",
     "output_type": "stream",
     "text": [
      "Refresh token\n"
     ]
    },
    {
     "name": "stdout",
     "output_type": "stream",
     "text": [
      "CURRENT_OUTSTANDING_POLICY: {\n",
      "    \"identity\": \"compliance_policies/159b05e9-5d9d-4642-b0ed-db6c1274a979\",\n",
      "    \"compliance_type\": \"COMPLIANCE_CURRENT_OUTSTANDING\",\n",
      "    \"description\": \"Vault doors should be closed according to site security policy section Phys.Integ.02\",\n",
      "    \"display_name\": \"Phys.Integ.02\",\n",
      "    \"asset_filter\": [\n",
      "        {\n",
      "            \"or\": [\n",
      "                \"attributes.arc_display_type=Vault Door\"\n",
      "            ]\n",
      "        }\n",
      "    ],\n",
      "    \"event_display_type\": \"Open\",\n",
      "    \"closing_event_display_type\": \"Close\",\n",
      "    \"time_period_seconds\": \"0\",\n",
      "    \"dynamic_window\": \"0\",\n",
      "    \"dynamic_variability\": 0,\n",
      "    \"richness_assertions\": []\n",
      "}\n",
      "compliance_policy {\n",
      "    \"identity\": \"compliance_policies/159b05e9-5d9d-4642-b0ed-db6c1274a979\",\n",
      "    \"compliance_type\": \"COMPLIANCE_CURRENT_OUTSTANDING\",\n",
      "    \"description\": \"Vault doors should be closed according to site security policy section Phys.Integ.02\",\n",
      "    \"display_name\": \"Phys.Integ.02\",\n",
      "    \"asset_filter\": [\n",
      "        {\n",
      "            \"or\": [\n",
      "                \"attributes.arc_display_type=Vault Door\"\n",
      "            ]\n",
      "        }\n",
      "    ],\n",
      "    \"event_display_type\": \"Open\",\n",
      "    \"closing_event_display_type\": \"Close\",\n",
      "    \"time_period_seconds\": \"0\",\n",
      "    \"dynamic_window\": \"0\",\n",
      "    \"dynamic_variability\": 0,\n",
      "    \"richness_assertions\": []\n",
      "}\n"
     ]
    }
   ],
   "source": [
    "# make a compliance policy that alerts when doors are left open\n",
    "compliance_policy = create_compliance_policy(arch)\n",
    "print(\"compliance_policy\", json_dumps(compliance_policy, indent=4))"
   ]
  },
  {
   "cell_type": "code",
   "execution_count": 11,
   "id": "f8ac6dda",
   "metadata": {},
   "outputs": [
    {
     "name": "stderr",
     "output_type": "stream",
     "text": [
      "asset with selector {},{'arc_display_name': \"Gringott's Vault 2\", 'arc_display_type': 'Vault Door'} already exists\n"
     ]
    },
    {
     "name": "stdout",
     "output_type": "stream",
     "text": [
      "DOOR: {\n",
      "    \"identity\": \"assets/6ef99260-65ae-48b7-9cda-e1c60f3ce79d\",\n",
      "    \"behaviours\": [\n",
      "        \"Builtin\",\n",
      "        \"AssetCreator\",\n",
      "        \"Attachments\",\n",
      "        \"RecordEvidence\"\n",
      "    ],\n",
      "    \"attributes\": {\n",
      "        \"arc_description\": \"Main door to the second level security vault in Gringott's Wizarding Bank\",\n",
      "        \"arc_display_name\": \"Gringott's Vault 2\",\n",
      "        \"arc_display_type\": \"Vault Door\"\n",
      "    },\n",
      "    \"confirmation_status\": \"CONFIRMED\",\n",
      "    \"tracked\": \"TRACKED\",\n",
      "    \"owner\": \"0x3E06AcBf002E8F67bDe832b3f3E7d2aDA2BE3DC8\",\n",
      "    \"at_time\": \"2023-01-10T16:19:32Z\",\n",
      "    \"storage_integrity\": \"TENANT_STORAGE\",\n",
      "    \"proof_mechanism\": \"SIMPLE_HASH\",\n",
      "    \"chain_id\": \"99\",\n",
      "    \"public\": false,\n",
      "    \"tenant_identity\": \"tenant/f9040e8b-2afa-48f1-bb00-f055d55ade01\"\n",
      "}\n",
      "gringotts_vault {\n",
      "    \"identity\": \"assets/6ef99260-65ae-48b7-9cda-e1c60f3ce79d\",\n",
      "    \"behaviours\": [\n",
      "        \"Builtin\",\n",
      "        \"AssetCreator\",\n",
      "        \"Attachments\",\n",
      "        \"RecordEvidence\"\n",
      "    ],\n",
      "    \"attributes\": {\n",
      "        \"arc_description\": \"Main door to the second level security vault in Gringott's Wizarding Bank\",\n",
      "        \"arc_display_name\": \"Gringott's Vault 2\",\n",
      "        \"arc_display_type\": \"Vault Door\"\n",
      "    },\n",
      "    \"confirmation_status\": \"CONFIRMED\",\n",
      "    \"tracked\": \"TRACKED\",\n",
      "    \"owner\": \"0x3E06AcBf002E8F67bDe832b3f3E7d2aDA2BE3DC8\",\n",
      "    \"at_time\": \"2023-01-10T16:19:32Z\",\n",
      "    \"storage_integrity\": \"TENANT_STORAGE\",\n",
      "    \"proof_mechanism\": \"SIMPLE_HASH\",\n",
      "    \"chain_id\": \"99\",\n",
      "    \"public\": false,\n",
      "    \"tenant_identity\": \"tenant/f9040e8b-2afa-48f1-bb00-f055d55ade01\"\n",
      "}\n"
     ]
    }
   ],
   "source": [
    "# create an asset that matches the assets_filter field in the\n",
    "# compliance policy.\n",
    "gringotts_vault = create_door(arch)\n",
    "print(\"gringotts_vault\", json_dumps(gringotts_vault, indent=4))"
   ]
  },
  {
   "cell_type": "code",
   "execution_count": 12,
   "id": "d93be01f",
   "metadata": {},
   "outputs": [
    {
     "name": "stdout",
     "output_type": "stream",
     "text": [
      "DOOR_OPENED: {\n",
      "    \"identity\": \"assets/6ef99260-65ae-48b7-9cda-e1c60f3ce79d/events/2c5dd3b7-67a6-4f4a-bb68-59b9eb2a70cb\",\n",
      "    \"asset_identity\": \"assets/6ef99260-65ae-48b7-9cda-e1c60f3ce79d\",\n",
      "    \"event_attributes\": {\n",
      "        \"arc_display_type\": \"Open\",\n",
      "        \"arc_correlation_value\": \"81c94ed1-e310-4743-8e39-9ee0a9170bdf\",\n",
      "        \"arc_description\": \"Open the door for Lucius Malfoy\"\n",
      "    },\n",
      "    \"asset_attributes\": {},\n",
      "    \"operation\": \"Record\",\n",
      "    \"behaviour\": \"RecordEvidence\",\n",
      "    \"timestamp_declared\": \"2023-01-10T16:19:36Z\",\n",
      "    \"timestamp_accepted\": \"2023-01-10T16:19:36Z\",\n",
      "    \"timestamp_committed\": \"2023-01-10T16:19:36.508165839Z\",\n",
      "    \"principal_declared\": {\n",
      "        \"issuer\": \"https://app.dev-paul-0.wild.jitsuin.io/appidpv1\",\n",
      "        \"subject\": \"bd3f85d2-9b92-4ef0-82c9-2bcb7b5d25c6\",\n",
      "        \"display_name\": \"Application display name 05f19055-d2fd-4076-bd02-46a924cbe984\",\n",
      "        \"email\": \"\"\n",
      "    },\n",
      "    \"principal_accepted\": {\n",
      "        \"issuer\": \"https://app.dev-paul-0.wild.jitsuin.io/appidpv1\",\n",
      "        \"subject\": \"bd3f85d2-9b92-4ef0-82c9-2bcb7b5d25c6\",\n",
      "        \"display_name\": \"Application display name 05f19055-d2fd-4076-bd02-46a924cbe984\",\n",
      "        \"email\": \"\"\n",
      "    },\n",
      "    \"confirmation_status\": \"CONFIRMED\",\n",
      "    \"transaction_id\": \"\",\n",
      "    \"block_number\": 0,\n",
      "    \"transaction_index\": 0,\n",
      "    \"from\": \"0x3E06AcBf002E8F67bDe832b3f3E7d2aDA2BE3DC8\",\n",
      "    \"tenant_identity\": \"tenant/f9040e8b-2afa-48f1-bb00-f055d55ade01\"\n",
      "}\n",
      "COMPLIANCE (should be false): {\n",
      "    \"compliant\": false,\n",
      "    \"compliance\": [\n",
      "        {\n",
      "            \"compliance_policy_identity\": \"compliance_policies/159b05e9-5d9d-4642-b0ed-db6c1274a979\",\n",
      "            \"compliant\": false,\n",
      "            \"reason\": \"No closing event for Open\"\n",
      "        }\n",
      "    ],\n",
      "    \"next_page_token\": \"\",\n",
      "    \"compliant_at\": \"2023-01-10T16:19:42Z\"\n",
      "}\n"
     ]
    }
   ],
   "source": [
    "# Open the door\n",
    "open_door(arch, gringotts_vault, tag)\n",
    "\n",
    "# Check compliance: should fail because the door is open\n",
    "sleep(5)\n",
    "compliance_nok = arch.compliance.compliant_at(\n",
    "    gringotts_vault[\"identity\"],\n",
    ")\n",
    "print(\"COMPLIANCE (should be false):\", json_dumps(compliance_nok, indent=4))"
   ]
  },
  {
   "cell_type": "code",
   "execution_count": 13,
   "id": "6e304daa",
   "metadata": {},
   "outputs": [
    {
     "name": "stdout",
     "output_type": "stream",
     "text": [
      "DOOR_CLOSED: {\n",
      "    \"identity\": \"assets/6ef99260-65ae-48b7-9cda-e1c60f3ce79d/events/1d9cc38b-3c1d-4cb6-aa7f-42d463fe99d1\",\n",
      "    \"asset_identity\": \"assets/6ef99260-65ae-48b7-9cda-e1c60f3ce79d\",\n",
      "    \"event_attributes\": {\n",
      "        \"arc_correlation_value\": \"81c94ed1-e310-4743-8e39-9ee0a9170bdf\",\n",
      "        \"arc_description\": \"Closed the door after Lucius Malfoy exited the vault\",\n",
      "        \"arc_display_type\": \"Close\"\n",
      "    },\n",
      "    \"asset_attributes\": {},\n",
      "    \"operation\": \"Record\",\n",
      "    \"behaviour\": \"RecordEvidence\",\n",
      "    \"timestamp_declared\": \"2023-01-10T16:19:47Z\",\n",
      "    \"timestamp_accepted\": \"2023-01-10T16:19:47Z\",\n",
      "    \"timestamp_committed\": \"2023-01-10T16:19:47.541462429Z\",\n",
      "    \"principal_declared\": {\n",
      "        \"issuer\": \"https://app.dev-paul-0.wild.jitsuin.io/appidpv1\",\n",
      "        \"subject\": \"bd3f85d2-9b92-4ef0-82c9-2bcb7b5d25c6\",\n",
      "        \"display_name\": \"Application display name 05f19055-d2fd-4076-bd02-46a924cbe984\",\n",
      "        \"email\": \"\"\n",
      "    },\n",
      "    \"principal_accepted\": {\n",
      "        \"issuer\": \"https://app.dev-paul-0.wild.jitsuin.io/appidpv1\",\n",
      "        \"subject\": \"bd3f85d2-9b92-4ef0-82c9-2bcb7b5d25c6\",\n",
      "        \"display_name\": \"Application display name 05f19055-d2fd-4076-bd02-46a924cbe984\",\n",
      "        \"email\": \"\"\n",
      "    },\n",
      "    \"confirmation_status\": \"CONFIRMED\",\n",
      "    \"transaction_id\": \"\",\n",
      "    \"block_number\": 0,\n",
      "    \"transaction_index\": 0,\n",
      "    \"from\": \"0x3E06AcBf002E8F67bDe832b3f3E7d2aDA2BE3DC8\",\n",
      "    \"tenant_identity\": \"tenant/f9040e8b-2afa-48f1-bb00-f055d55ade01\"\n",
      "}\n",
      "COMPLIANCE (should be true): {\n",
      "    \"compliant\": true,\n",
      "    \"compliance\": [\n",
      "        {\n",
      "            \"compliance_policy_identity\": \"compliance_policies/159b05e9-5d9d-4642-b0ed-db6c1274a979\",\n",
      "            \"compliant\": true,\n",
      "            \"reason\": \"\"\n",
      "        }\n",
      "    ],\n",
      "    \"next_page_token\": \"\",\n",
      "    \"compliant_at\": \"2023-01-10T16:19:53Z\"\n",
      "}\n"
     ]
    }
   ],
   "source": [
    "# Now close the door\n",
    "close_door(arch, gringotts_vault, tag)\n",
    "\n",
    "# Check compliance - should be OK because the door is now closed\n",
    "sleep(5)\n",
    "compliance_ok = arch.compliance.compliant_at(\n",
    "    gringotts_vault[\"identity\"],\n",
    ")\n",
    "print(\"COMPLIANCE (should be true):\", json_dumps(compliance_ok, indent=4))"
   ]
  },
  {
   "cell_type": "code",
   "execution_count": 14,
   "id": "2edac120",
   "metadata": {},
   "outputs": [
    {
     "name": "stdout",
     "output_type": "stream",
     "text": [
      "HISTORICAL COMPLIANCE (should be false): {\n",
      "    \"compliant\": false,\n",
      "    \"compliance\": [\n",
      "        {\n",
      "            \"compliance_policy_identity\": \"compliance_policies/159b05e9-5d9d-4642-b0ed-db6c1274a979\",\n",
      "            \"compliant\": false,\n",
      "            \"reason\": \"No closing event for Open\"\n",
      "        }\n",
      "    ],\n",
      "    \"next_page_token\": \"\",\n",
      "    \"compliant_at\": \"2023-01-10T16:19:42Z\"\n",
      "}\n"
     ]
    }
   ],
   "source": [
    "# However the fact that it is OK *now* is a bit of a red herring. It\n",
    "# was non-compliant in the past and this may be an issue that needs to\n",
    "# be verified during an investigation, insurance claim, or other dispute.\n",
    "# We can check the audit history for compliance *at a point in time* and\n",
    "# get a verifiable answer to the state of that asset at that time.\n",
    "\n",
    "# To make sure the example works with such short time frames we grab the\n",
    "# time from the previous not OK compliance call, but you can choose any\n",
    "# arbitrary time in a real forensic process\n",
    "time_of_suspicion = compliance_nok[\"compliant_at\"]\n",
    "compliance_nok = arch.compliance.compliant_at(\n",
    "    gringotts_vault[\"identity\"], compliant_at=time_of_suspicion\n",
    ")\n",
    "print(\"HISTORICAL COMPLIANCE (should be false):\", json_dumps(compliance_nok, indent=4))"
   ]
  },
  {
   "cell_type": "code",
   "execution_count": 15,
   "id": "40ffc716",
   "metadata": {},
   "outputs": [],
   "source": [
    "# finally clean up by deleting the compliance_policy\n",
    "_ = arch.compliance_policies.delete(\n",
    "    compliance_policy[\"identity\"],\n",
    ")"
   ]
  }
 ],
 "metadata": {
  "kernelspec": {
   "display_name": "Python 3 (ipykernel)",
   "language": "python",
   "name": "python3"
  },
  "language_info": {
   "codemirror_mode": {
    "name": "ipython",
    "version": 3
   },
   "file_extension": ".py",
   "mimetype": "text/x-python",
   "name": "python",
   "nbconvert_exporter": "python",
   "pygments_lexer": "ipython3",
   "version": "3.10.6"
  }
 },
 "nbformat": 4,
 "nbformat_minor": 5
}
