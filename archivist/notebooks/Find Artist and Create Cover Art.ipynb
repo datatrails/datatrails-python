{
 "cells": [
  {
   "cell_type": "markdown",
   "id": "d7be9500",
   "metadata": {},
   "source": [
    "## Find Artist and Create Cover Art"
   ]
  },
  {
   "cell_type": "code",
   "execution_count": 1,
   "id": "0b61044f",
   "metadata": {},
   "outputs": [],
   "source": [
    "# Find existing Asset and create an Attachment\n",
    "#\n",
    "# Main function, establishes a connection to RKVST using an App Registration then uses that\n",
    "# to find existing Asset and create an attachment.\n",
    "#\n",
    "# Note: The purpose of RKVST Jupyter Notebooks is to provide simplified examples that one can easily execute and digest.\n",
    "# The RKVST Python SDK is authored to work cleanly with more advanced coding techniques.\n",
    "#\n",
    "# RKVST Python SDK: https://github.com/rkvst/rkvst-python\n",
    "#"
   ]
  },
  {
   "cell_type": "code",
   "execution_count": 2,
   "id": "f9e2c868",
   "metadata": {},
   "outputs": [],
   "source": [
    "from json import dumps as json_dumps\n",
    "from os import getenv\n",
    "from warnings import filterwarnings\n",
    "\n",
    "from dotenv import load_dotenv\n",
    "\n",
    "from archivist.archivist import Archivist\n",
    "from archivist.proof_mechanism import ProofMechanism\n",
    "from archivist.logger import set_logger"
   ]
  },
  {
   "cell_type": "code",
   "execution_count": 3,
   "id": "010eed82",
   "metadata": {},
   "outputs": [],
   "source": [
    "%reload_ext dotenv\n",
    "%dotenv -o notebooks.env"
   ]
  },
  {
   "cell_type": "code",
   "execution_count": 4,
   "id": "da890fb1",
   "metadata": {},
   "outputs": [],
   "source": [
    "# RKVST_URL, RKVST_APPREG_CLIENT, RKVST_APPREG_SECRET are environment variables that represent connection parameters.\n",
    "#\n",
    "# RKVST_URL = represents the url to the RKVST application\n",
    "# RKVST_APPREG_CLIENT = represents the client ID from an Application Registration\n",
    "# RKVST_APPREG_SECRET = represents the client secret from an Application Registration\n",
    "# RKVST_UNIQUE_ID = is an environment variable that is a unique identifier\n",
    "# RKVST_ARTIST_ATTACHMENT = represents the location of the attachment\n",
    "RKVST_URL = getenv(\"RKVST_URL\")\n",
    "RKVST_APPREG_CLIENT = getenv(\"RKVST_APPREG_CLIENT\")\n",
    "RKVST_APPREG_SECRET = getenv(\"RKVST_APPREG_SECRET\")\n",
    "RKVST_UNIQUE_ID = getenv(\"RKVST_UNIQUE_ID\")\n",
    "if not RKVST_UNIQUE_ID:\n",
    "    raise Exception(\"RKVST_UNIQUE_ID is undefined\")\n",
    "RKVST_ARTIST_ATTACHMENT = getenv(\"RKVST_ARTIST_ATTACHMENT\")\n",
    "if not RKVST_ARTIST_ATTACHMENT:\n",
    "    raise Exception(\"RKVST_ARTIST_ATTACHMENT is undefined\")"
   ]
  },
  {
   "cell_type": "code",
   "execution_count": 5,
   "id": "f9e54f3e",
   "metadata": {},
   "outputs": [
    {
     "name": "stdout",
     "output_type": "stream",
     "text": [
      "Connecting to RKVST\n",
      "RKVST_URL https://app.rkvst.io\n"
     ]
    }
   ],
   "source": [
    "\"\"\"\n",
    "Main function of Asset and Event creation.\n",
    "\n",
    "* Connect to RKVST with client ID and client secret\n",
    "* Creates an Asset and two Events\n",
    "* Prints response of Asset and Event creation\n",
    "\"\"\"\n",
    "\n",
    "# Optional call to set the logger level.  The argument can be either\n",
    "# \"INFO\" or \"DEBUG\".  For more sophisticated logging control see our\n",
    "# documentation.\n",
    "set_logger(\"INFO\")\n",
    "\n",
    "# Initialize connection to RKVST\n",
    "print(\"Connecting to RKVST\")\n",
    "print(\"RKVST_URL\", RKVST_URL)\n",
    "arch = Archivist(RKVST_URL, (RKVST_APPREG_CLIENT, RKVST_APPREG_SECRET), max_time=300)"
   ]
  },
  {
   "cell_type": "code",
   "execution_count": 6,
   "id": "671c824f",
   "metadata": {},
   "outputs": [],
   "source": [
    "def upload_attachment(arch, path, name):\n",
    "    \"\"\"\n",
    "    Obtains Attachments from \"test_files\" folder and creates json payload\n",
    "    for upload\n",
    "    \"\"\"\n",
    "    with open(RKVST_ARTIST_ATTACHMENT, \"rb\") as fd:\n",
    "        blob = arch.attachments.upload(fd)\n",
    "        attachment = {\n",
    "            \"arc_display_name\": name,\n",
    "            \"arc_attribute_type\": \"arc_attachment\",\n",
    "            \"arc_file_name\": path,\n",
    "            \"arc_blob_identity\": blob[\"identity\"],\n",
    "            \"arc_blob_hash_value\": blob[\"hash\"][\"value\"],\n",
    "            \"arc_blob_hash_alg\": blob[\"hash\"][\"alg\"],\n",
    "        }\n",
    "        return attachment"
   ]
  },
  {
   "cell_type": "code",
   "execution_count": 7,
   "id": "3e2d7571",
   "metadata": {},
   "outputs": [],
   "source": [
    "def get_artist(arch, name, artistid):\n",
    "    \"\"\"\n",
    "    Finds existing Artist asset by name and unique id\n",
    "    \"\"\"\n",
    "    attrs = {\n",
    "        \"arc_display_type\": \"Artists\",\n",
    "        \"arc_display_name\": name,\n",
    "        \"artistid\": artistid,\n",
    "    }\n",
    "\n",
    "    return arch.assets.read_by_signature(attrs=attrs)"
   ]
  },
  {
   "cell_type": "code",
   "execution_count": 8,
   "id": "a33b9635",
   "metadata": {},
   "outputs": [],
   "source": [
    "def create_image(arch, asset):\n",
    "    \"\"\"\n",
    "    Creates an Event that uploads a primary image for an Artist asset\n",
    "    \"\"\"\n",
    "    attachments = upload_attachment(\n",
    "        arch, \"pexels-andrea-turner-707697.jpeg\", \"arc_primary_image\"\n",
    "    )\n",
    "\n",
    "    props = {\"operation\": \"Record\", \"behaviour\": \"RecordEvidence\"}\n",
    "    attrs = {\n",
    "        \"arc_description\": \"Attaching an image\",\n",
    "        \"arc_display_type\": \"Primary image\",\n",
    "    }\n",
    "\n",
    "    asset_attrs = {\"arc_primary_image\": attachments}\n",
    "\n",
    "    return arch.events.create(\n",
    "        asset[\"identity\"], props=props, attrs=attrs, asset_attrs=asset_attrs\n",
    "    )"
   ]
  },
  {
   "cell_type": "code",
   "execution_count": 9,
   "id": "acb00047",
   "metadata": {},
   "outputs": [
    {
     "name": "stdout",
     "output_type": "stream",
     "text": [
      "Finding Asset\n"
     ]
    },
    {
     "name": "stderr",
     "output_type": "stream",
     "text": [
      "Refresh token\n"
     ]
    },
    {
     "name": "stdout",
     "output_type": "stream",
     "text": [
      "Asset {\n",
      "    \"identity\": \"assets/17a59a16-3d5c-4d58-8ea6-1b86465ff32f\",\n",
      "    \"behaviours\": [\n",
      "        \"RecordEvidence\",\n",
      "        \"Builtin\",\n",
      "        \"AssetCreator\",\n",
      "    ],\n",
      "    \"attributes\": {\n",
      "        \"arc_display_name\": \"Adele Laurie Blue Adkins\",\n",
      "        \"arc_display_type\": \"Artists\",\n",
      "        \"artistid\": \"989130159\",\n",
      "        \"genre\": \"Soul\",\n",
      "        \"stage_name\": \"Adele\",\n",
      "        \"arc_description\": \"British Soul Singer\"\n",
      "    },\n",
      "    \"confirmation_status\": \"CONFIRMED\",\n",
      "    \"tracked\": \"TRACKED\",\n",
      "    \"owner\": \"0x5284e740A744F075E402f7fB0c4485532ddf4Af8\",\n",
      "    \"at_time\": \"2023-06-02T21:01:56Z\",\n",
      "    \"storage_integrity\": \"TENANT_STORAGE\",\n",
      "    \"proof_mechanism\": \"SIMPLE_HASH\",\n",
      "    \"chain_id\": \"8275868384\",\n",
      "    \"public\": false,\n",
      "    \"tenant_identity\": \"tenant/0a62f7c9-fd7b-4791-8041-01218d839ec1\"\n",
      "}\n"
     ]
    }
   ],
   "source": [
    "# Finding existing artist by name and artist id\n",
    "print(\"Finding Asset\")\n",
    "asset = get_artist(arch, \"Adele Laurie Blue Adkins\", RKVST_UNIQUE_ID)\n",
    "print(\"Asset\", json_dumps(asset, indent=4))"
   ]
  },
  {
   "cell_type": "code",
   "execution_count": 10,
   "id": "948c277b",
   "metadata": {},
   "outputs": [
    {
     "name": "stdout",
     "output_type": "stream",
     "text": [
      "Creating Events for existing Asset\n",
      "Event for Image {\n",
      "    \"identity\": \"assets/17a59a16-3d5c-4d58-8ea6-1b86465ff32f/events/11065c00-fd3b-4a76-9935-0703bcf30d68\",\n",
      "    \"asset_identity\": \"assets/17a59a16-3d5c-4d58-8ea6-1b86465ff32f\",\n",
      "    \"event_attributes\": {\n",
      "        \"arc_display_type\": \"Primary image\",\n",
      "        \"arc_description\": \"Attaching an image\"\n",
      "    },\n",
      "    \"asset_attributes\": {\n",
      "        \"arc_primary_image\": {\n",
      "            \"arc_blob_hash_value\": \"cf0dd630dcfb6e2eac65c362bf7d5ff382a4241ebf45a69a2541ee43320d4af6\",\n",
      "            \"arc_blob_identity\": \"blobs/a39ed534-d1b3-4b23-84e0-01a2cceea9a2\",\n",
      "            \"arc_display_name\": \"arc_primary_image\",\n",
      "            \"arc_file_name\": \"pexels-andrea-turner-707697.jpeg\",\n",
      "            \"arc_attribute_type\": \"arc_attachment\",\n",
      "            \"arc_blob_hash_alg\": \"SHA256\"\n",
      "        }\n",
      "    },\n",
      "    \"operation\": \"Record\",\n",
      "    \"behaviour\": \"RecordEvidence\",\n",
      "    \"timestamp_declared\": \"2023-06-02T21:02:01Z\",\n",
      "    \"timestamp_accepted\": \"2023-06-02T21:02:01Z\",\n",
      "    \"timestamp_committed\": \"2023-06-02T21:02:01.738900240Z\",\n",
      "    \"principal_declared\": {\n",
      "        \"issuer\": \"https://app.rkvst.io/appidpv1\",\n",
      "        \"subject\": \"43a271b9-5b25-4740-aa9f-1cbd51ed3625\",\n",
      "        \"display_name\": \"mwilder26\",\n",
      "        \"email\": \"\"\n",
      "    },\n",
      "    \"principal_accepted\": {\n",
      "        \"issuer\": \"https://app.rkvst.io/appidpv1\",\n",
      "        \"subject\": \"43a271b9-5b25-4740-aa9f-1cbd51ed3625\",\n",
      "        \"display_name\": \"mwilder26\",\n",
      "        \"email\": \"\"\n",
      "    },\n",
      "    \"confirmation_status\": \"CONFIRMED\",\n",
      "    \"transaction_id\": \"\",\n",
      "    \"block_number\": 0,\n",
      "    \"transaction_index\": 0,\n",
      "    \"from\": \"0x5284e740A744F075E402f7fB0c4485532ddf4Af8\",\n",
      "    \"tenant_identity\": \"tenant/0a62f7c9-fd7b-4791-8041-01218d839ec1\"\n",
      "}\n"
     ]
    }
   ],
   "source": [
    "# Create an Event for Attachment upload\n",
    "print(\"Creating Events for existing Asset\")\n",
    "image_event = create_image(arch, asset)\n",
    "print(\"Event for Image\", json_dumps(image_event, indent=4))"
   ]
  }
 ],
 "metadata": {
  "kernelspec": {
   "display_name": "Python 3 (ipykernel)",
   "language": "python",
   "name": "python3"
  },
  "language_info": {
   "codemirror_mode": {
    "name": "ipython",
    "version": 3
   },
   "file_extension": ".py",
   "mimetype": "text/x-python",
   "name": "python",
   "nbconvert_exporter": "python",
   "pygments_lexer": "ipython3",
   "version": "3.8.15"
  },
  "vscode": {
   "interpreter": {
    "hash": "aee8b7b246df8f9039afb4144a1f6fd8d2ca17a180786b69acc140d282b71a49"
   }
  }
 },
 "nbformat": 4,
 "nbformat_minor": 5
}
