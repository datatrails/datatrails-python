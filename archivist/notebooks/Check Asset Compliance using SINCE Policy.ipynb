{
 "cells": [
  {
   "cell_type": "markdown",
   "id": "8b5e7251",
   "metadata": {},
   "source": [
    "Check Asset Compliance: SINCE policy\n",
    "================================\n"
   ]
  },
  {
   "cell_type": "code",
   "execution_count": null,
   "id": "c85b9e96",
   "metadata": {},
   "outputs": [],
   "source": [
    "# Define a compliance policy that alerts when an asset has expired.\n",
    "\n",
    "# Main function parses in a url to the Archivist and client credentials , which is\n",
    "# a user authorization. The main function would initialize an archivist connection\n",
    "# using the url and the credentials, called \"arch\", then call arch.access_policies.list()\n",
    "# with suitable properties and attributes."
   ]
  },
  {
   "cell_type": "code",
   "execution_count": null,
   "id": "001b25e3",
   "metadata": {},
   "outputs": [],
   "source": [
    "from json import dumps as json_dumps\n",
    "from os import getenv\n",
    "from time import sleep\n",
    "from uuid import uuid4\n",
    "from warnings import filterwarnings\n",
    "\n",
    "from archivist.archivist import Archivist\n",
    "from archivist.compliance_policy_requests import (\n",
    "    CompliancePolicySince,\n",
    ")\n",
    "from archivist.logger import set_logger\n",
    "\n",
    "filterwarnings(\"ignore\", message=\"Unverified HTTPS request\")"
   ]
  },
  {
   "cell_type": "code",
   "execution_count": null,
   "id": "a877ffed",
   "metadata": {},
   "outputs": [],
   "source": [
    "URL = \"https://app.rkvst.io\"\n",
    "URL = \"https://app.dev-paul-0.wild.jitsuin.io\""
   ]
  },
  {
   "cell_type": "code",
   "execution_count": null,
   "id": "acdf240c",
   "metadata": {},
   "outputs": [],
   "source": [
    "def create_compliance_policy(arch, tag):\n",
    "    \"\"\"Compliance policy which expires 10 seconds after a\n",
    "    Maintenance Performed event on a 'Traffic Light' has occurred.\n",
    "\n",
    "    Usually the expiry time is on the order of days or weeks..\n",
    "\n",
    "    Additionally the use of tag is simply to make this example\n",
    "    repeatable.\n",
    "    \"\"\"\n",
    "    compliance_policy = arch.compliance_policies.create(\n",
    "        CompliancePolicySince(\n",
    "            description=\"Maintenance should be performed every 10 seconds\",\n",
    "            display_name=\"Regular Maintenance of Traffic light\",\n",
    "            asset_filter=[\n",
    "                [\"attributes.arc_display_type=Traffic Light\"],\n",
    "            ],\n",
    "            event_display_type=f\"Maintenance Performed {tag}\",\n",
    "            time_period_seconds=10,  # very short so we can test\n",
    "        )\n",
    "    )\n",
    "    print(\"SINCE_POLICY:\", json_dumps(compliance_policy, indent=4))\n",
    "    return compliance_policy"
   ]
  },
  {
   "cell_type": "code",
   "execution_count": null,
   "id": "8889c68d",
   "metadata": {},
   "outputs": [],
   "source": [
    "def create_traffic_light(arch):\n",
    "    \"\"\"\n",
    "    Creates a traffic light.\n",
    "\n",
    "    Note that arc_display_type siginfies a Traffic Light\n",
    "    \"\"\"\n",
    "\n",
    "    traffic_light = arch.assets.create(\n",
    "        attrs={\n",
    "            \"arc_display_name\": \"Traffic light model 54\",\n",
    "            \"arc_description\": \"Traffic flow control light at A603 North East\",\n",
    "            \"arc_display_type\": \"Traffic Light\",\n",
    "        },\n",
    "        confirm=True,\n",
    "    )\n",
    "    print(\"TRAFFIC_LIGHT:\", json_dumps(traffic_light, indent=4))\n",
    "    return traffic_light"
   ]
  },
  {
   "cell_type": "code",
   "execution_count": null,
   "id": "ba24d143",
   "metadata": {},
   "outputs": [],
   "source": [
    "def perform_maintenance(arch, traffic_light, tag):\n",
    "    \"\"\"\n",
    "    Perform maintenance on traffic light\n",
    "    \"\"\"\n",
    "    maintenance_performed = arch.events.create(\n",
    "        traffic_light[\"identity\"],\n",
    "        {\n",
    "            \"operation\": \"Record\",\n",
    "            \"behaviour\": \"RecordEvidence\",\n",
    "        },\n",
    "        {\n",
    "            \"arc_description\": \"Maintenance performed on traffic light\",\n",
    "            \"arc_display_type\": f\"Maintenance Performed {tag}\",\n",
    "        },\n",
    "        confirm=True,\n",
    "    )\n",
    "    print(\"MAINTENANCE_PERFORMED:\", json_dumps(maintenance_performed, indent=4))"
   ]
  },
  {
   "cell_type": "code",
   "execution_count": null,
   "id": "ec1909a6",
   "metadata": {},
   "outputs": [],
   "source": [
    "\"\"\"Main function of create event.\n",
    "\n",
    "Parse in user input of url and auth token and use them to\n",
    "create an example archivist connection and create an asset.\n",
    "\n",
    "\"\"\"\n",
    "# optional call to set the logger level for all subsystems. The argument can\n",
    "# be either \"INFO\" or \"DEBUG\". For more sophisticated logging control see the\n",
    "# documentation.\n",
    "set_logger(\"INFO\")\n",
    "\n",
    "# Get authorization token. The token grants certain rights and access permissions.\n",
    "# The token can represent the root principal or user in an organization. Different tokens\n",
    "# could indicate different users in the same organization or membership of different\n",
    "# organisations.\n",
    "\n",
    "with open(\"/home/builder/credentials/token\", mode=\"r\", encoding=\"utf-8\") as tokenfile:\n",
    "    auth = tokenfile.read().strip()\n",
    "\n",
    "# Initialize connection to Archivist\n",
    "arch = Archivist(\n",
    "    URL,\n",
    "    auth,\n",
    "    max_time=300,\n",
    "    verify=False,\n",
    ")"
   ]
  },
  {
   "cell_type": "code",
   "execution_count": null,
   "id": "b7482420",
   "metadata": {
    "scrolled": true
   },
   "outputs": [],
   "source": [
    "tag = uuid4()  # make this example repeatable"
   ]
  },
  {
   "cell_type": "code",
   "execution_count": null,
   "id": "bb5b0651",
   "metadata": {},
   "outputs": [],
   "source": [
    "# make a SINCE compliance policy that alerts when the\n",
    "# maintenance performed event has expired.\n",
    "compliance_policy = create_compliance_policy(arch, tag)"
   ]
  },
  {
   "cell_type": "code",
   "execution_count": null,
   "id": "f8ac6dda",
   "metadata": {},
   "outputs": [],
   "source": [
    "# create an asset that matches the assets_filter field in the\n",
    "# compliance policy.\n",
    "traffic_light = create_traffic_light(arch)"
   ]
  },
  {
   "cell_type": "code",
   "execution_count": null,
   "id": "d93be01f",
   "metadata": {},
   "outputs": [],
   "source": [
    "# perform maintenance on the asset which is valid for 10 seconds.\n",
    "perform_maintenance(arch, traffic_light, tag)\n",
    "\n",
    "# and check compliance - should be OK.\n",
    "print(\"Sleep 1 second...\")\n",
    "sleep(1)\n",
    "compliance = arch.compliance.compliant_at(\n",
    "    traffic_light[\"identity\"],\n",
    ")\n",
    "print(\"COMPLIANCE (true):\", json_dumps(compliance, indent=4))\n",
    "\n",
    "# however waiting long enough (> 10s) will cause the asset to\n",
    "# become non-compliant...\n",
    "print(\"Sleep 15 seconds...\")\n",
    "sleep(15)\n",
    "compliance = arch.compliance.compliant_at(\n",
    "    traffic_light[\"identity\"],\n",
    ")\n",
    "print(\"COMPLIANCE (false):\", json_dumps(compliance, indent=4))"
   ]
  },
  {
   "cell_type": "code",
   "execution_count": null,
   "id": "40ffc716",
   "metadata": {},
   "outputs": [],
   "source": [
    "# finally delete the compliance_policy\n",
    "_ = arch.compliance_policies.delete(\n",
    "    compliance_policy[\"identity\"],\n",
    ")"
   ]
  }
 ],
 "metadata": {
  "kernelspec": {
   "display_name": "Python 3 (ipykernel)",
   "language": "python",
   "name": "python3"
  },
  "language_info": {
   "codemirror_mode": {
    "name": "ipython",
    "version": 3
   },
   "file_extension": ".py",
   "mimetype": "text/x-python",
   "name": "python",
   "nbconvert_exporter": "python",
   "pygments_lexer": "ipython3",
   "version": "3.7.15"
  }
 },
 "nbformat": 4,
 "nbformat_minor": 5
}
