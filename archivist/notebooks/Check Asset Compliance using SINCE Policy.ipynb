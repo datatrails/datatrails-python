{
 "cells": [
  {
   "cell_type": "markdown",
   "id": "8b5e7251",
   "metadata": {},
   "source": [
    "Check Asset Compliance: SINCE policy\n",
    "================================\n"
   ]
  },
  {
   "cell_type": "code",
   "execution_count": 1,
   "id": "c85b9e96",
   "metadata": {},
   "outputs": [],
   "source": [
    "# Define a compliance policy that alerts when an asset has expired.\n",
    "\n",
    "# Main function parses in a url to the Archivist and client credentials , which is\n",
    "# a user authorization. The main function would initialize an archivist connection\n",
    "# using the url and the credentials, called \"arch\", then call arch.access_policies.list()\n",
    "# with suitable properties and attributes."
   ]
  },
  {
   "cell_type": "code",
   "execution_count": 2,
   "id": "001b25e3",
   "metadata": {},
   "outputs": [],
   "source": [
    "from json import dumps as json_dumps\n",
    "from os import getenv\n",
    "from time import sleep\n",
    "from uuid import uuid4\n",
    "from warnings import filterwarnings\n",
    "\n",
    "from archivist.archivist import Archivist\n",
    "from archivist.compliance_policy_requests import (\n",
    "    CompliancePolicySince,\n",
    ")\n",
    "from archivist.logger import set_logger\n",
    "\n",
    "filterwarnings(\"ignore\", message=\"Unverified HTTPS request\")"
   ]
  },
  {
   "cell_type": "code",
   "execution_count": 3,
   "id": "a877ffed",
   "metadata": {},
   "outputs": [],
   "source": [
    "# URL, CLIENT, SECRET are environment variables that represent connection parameters.\n",
    "#\n",
    "# URL = represents the url to the RKVST application\n",
    "# CLIENT = represents the client ID from an Application Registration\n",
    "# SECRET = represents the client secret from an Application Registration\n",
    "RKVST_URL = getenv(\"RKVST_URL\")\n",
    "APPREG_CLIENT = getenv(\"RKVST_APPREG_CLIENT\")\n",
    "APPREG_SECRET = getenv(\"RKVST_APPREG_SECRET\")"
   ]
  },
  {
   "cell_type": "code",
   "execution_count": 4,
   "id": "3fdc8e16",
   "metadata": {},
   "outputs": [
    {
     "name": "stdout",
     "output_type": "stream",
     "text": [
      "Connecting to RKVST\n",
      "URL https://app.dev-paul-0.wild.jitsuin.io\n"
     ]
    }
   ],
   "source": [
    "\"\"\"\n",
    "Main function of Asset and Event creation.\n",
    "\n",
    "* Connect to RKVST with client ID and client secret\n",
    "* Creates an Asset and two Events\n",
    "* Prints response of Asset and Event creation\n",
    "\"\"\"\n",
    "\n",
    "# Optional call to set the logger level.  The argument can be either\n",
    "# \"INFO\" or \"DEBUG\".  For more sophisticated logging control see our\n",
    "# documentation.\n",
    "set_logger(\"INFO\")\n",
    "\n",
    "# Initialize connection to RKVST\n",
    "print(\"Connecting to RKVST\")\n",
    "print(\"URL\", RKVST_URL)\n",
    "arch = Archivist(RKVST_URL, (APPREG_CLIENT, APPREG_SECRET), max_time=300)"
   ]
  },
  {
   "cell_type": "code",
   "execution_count": 5,
   "id": "acdf240c",
   "metadata": {},
   "outputs": [],
   "source": [
    "def create_compliance_policy(arch, tag):\n",
    "    \"\"\"Compliance policy which expires 10 seconds after a\n",
    "    Maintenance Performed event on a 'Traffic Light' has occurred.\n",
    "\n",
    "    Usually the expiry time is on the order of days or weeks..\n",
    "\n",
    "    Additionally the use of tag is simply to make this example\n",
    "    repeatable.\n",
    "    \"\"\"\n",
    "    compliance_policy = arch.compliance_policies.create(\n",
    "        CompliancePolicySince(\n",
    "            description=\"Maintenance should be performed every 10 seconds\",\n",
    "            display_name=\"Regular Maintenance of Traffic light\",\n",
    "            asset_filter=[\n",
    "                [\"attributes.arc_display_type=Traffic Light\"],\n",
    "            ],\n",
    "            event_display_type=f\"Maintenance Performed {tag}\",\n",
    "            time_period_seconds=10,  # very short so we can test\n",
    "        )\n",
    "    )\n",
    "    print(\"SINCE_POLICY:\", json_dumps(compliance_policy, indent=4))\n",
    "    return compliance_policy"
   ]
  },
  {
   "cell_type": "code",
   "execution_count": 6,
   "id": "8889c68d",
   "metadata": {},
   "outputs": [],
   "source": [
    "def create_traffic_light(arch):\n",
    "    \"\"\"\n",
    "    Creates a traffic light.\n",
    "\n",
    "    Note that arc_display_type siginfies a Traffic Light\n",
    "    \"\"\"\n",
    "\n",
    "    traffic_light = arch.assets.create(\n",
    "        attrs={\n",
    "            \"arc_display_name\": \"Traffic light model 54\",\n",
    "            \"arc_description\": \"Traffic flow control light at A603 North East\",\n",
    "            \"arc_display_type\": \"Traffic Light\",\n",
    "        },\n",
    "        confirm=True,\n",
    "    )\n",
    "    print(\"TRAFFIC_LIGHT:\", json_dumps(traffic_light, indent=4))\n",
    "    return traffic_light"
   ]
  },
  {
   "cell_type": "code",
   "execution_count": 7,
   "id": "ba24d143",
   "metadata": {},
   "outputs": [],
   "source": [
    "def perform_maintenance(arch, traffic_light, tag):\n",
    "    \"\"\"\n",
    "    Perform maintenance on traffic light\n",
    "    \"\"\"\n",
    "    maintenance_performed = arch.events.create(\n",
    "        traffic_light[\"identity\"],\n",
    "        {\n",
    "            \"operation\": \"Record\",\n",
    "            \"behaviour\": \"RecordEvidence\",\n",
    "        },\n",
    "        {\n",
    "            \"arc_description\": \"Maintenance performed on traffic light\",\n",
    "            \"arc_display_type\": f\"Maintenance Performed {tag}\",\n",
    "        },\n",
    "        confirm=True,\n",
    "    )\n",
    "    print(\"MAINTENANCE_PERFORMED:\", json_dumps(maintenance_performed, indent=4))"
   ]
  },
  {
   "cell_type": "code",
   "execution_count": 8,
   "id": "b7482420",
   "metadata": {
    "scrolled": true
   },
   "outputs": [],
   "source": [
    "tag = uuid4()  # make this example repeatable"
   ]
  },
  {
   "cell_type": "code",
   "execution_count": 9,
   "id": "bb5b0651",
   "metadata": {},
   "outputs": [
    {
     "name": "stderr",
     "output_type": "stream",
     "text": [
      "Refresh token\n"
     ]
    },
    {
     "name": "stdout",
     "output_type": "stream",
     "text": [
      "SINCE_POLICY: {\n",
      "    \"identity\": \"compliance_policies/e9b458b7-5e08-41ce-bf4c-ff01b7975148\",\n",
      "    \"compliance_type\": \"COMPLIANCE_SINCE\",\n",
      "    \"description\": \"Maintenance should be performed every 10 seconds\",\n",
      "    \"display_name\": \"Regular Maintenance of Traffic light\",\n",
      "    \"asset_filter\": [\n",
      "        {\n",
      "            \"or\": [\n",
      "                \"attributes.arc_display_type=Traffic Light\"\n",
      "            ]\n",
      "        }\n",
      "    ],\n",
      "    \"event_display_type\": \"Maintenance Performed 281b5ac5-764f-446d-84da-17138e18fde0\",\n",
      "    \"closing_event_display_type\": \"\",\n",
      "    \"time_period_seconds\": \"10\",\n",
      "    \"dynamic_window\": \"0\",\n",
      "    \"dynamic_variability\": 0,\n",
      "    \"richness_assertions\": []\n",
      "}\n",
      "compliance_policy {\n",
      "    \"identity\": \"compliance_policies/e9b458b7-5e08-41ce-bf4c-ff01b7975148\",\n",
      "    \"compliance_type\": \"COMPLIANCE_SINCE\",\n",
      "    \"description\": \"Maintenance should be performed every 10 seconds\",\n",
      "    \"display_name\": \"Regular Maintenance of Traffic light\",\n",
      "    \"asset_filter\": [\n",
      "        {\n",
      "            \"or\": [\n",
      "                \"attributes.arc_display_type=Traffic Light\"\n",
      "            ]\n",
      "        }\n",
      "    ],\n",
      "    \"event_display_type\": \"Maintenance Performed 281b5ac5-764f-446d-84da-17138e18fde0\",\n",
      "    \"closing_event_display_type\": \"\",\n",
      "    \"time_period_seconds\": \"10\",\n",
      "    \"dynamic_window\": \"0\",\n",
      "    \"dynamic_variability\": 0,\n",
      "    \"richness_assertions\": []\n",
      "}\n"
     ]
    }
   ],
   "source": [
    "# make a SINCE compliance policy that alerts when the\n",
    "# maintenance performed event has expired.\n",
    "compliance_policy = create_compliance_policy(arch, tag)\n",
    "print(\"compliance_policy\", json_dumps(compliance_policy, indent=4))"
   ]
  },
  {
   "cell_type": "code",
   "execution_count": 10,
   "id": "f8ac6dda",
   "metadata": {},
   "outputs": [
    {
     "name": "stdout",
     "output_type": "stream",
     "text": [
      "TRAFFIC_LIGHT: {\n",
      "    \"identity\": \"assets/b961c23f-c1db-4bde-9ed3-c997378f2bf2\",\n",
      "    \"behaviours\": [\n",
      "        \"Builtin\",\n",
      "        \"AssetCreator\",\n",
      "        \"Attachments\",\n",
      "        \"RecordEvidence\"\n",
      "    ],\n",
      "    \"attributes\": {\n",
      "        \"arc_description\": \"Traffic flow control light at A603 North East\",\n",
      "        \"arc_display_name\": \"Traffic light model 54\",\n",
      "        \"arc_display_type\": \"Traffic Light\"\n",
      "    },\n",
      "    \"confirmation_status\": \"CONFIRMED\",\n",
      "    \"tracked\": \"TRACKED\",\n",
      "    \"owner\": \"0x3E06AcBf002E8F67bDe832b3f3E7d2aDA2BE3DC8\",\n",
      "    \"at_time\": \"2023-01-10T16:20:33Z\",\n",
      "    \"storage_integrity\": \"TENANT_STORAGE\",\n",
      "    \"proof_mechanism\": \"SIMPLE_HASH\",\n",
      "    \"chain_id\": \"99\",\n",
      "    \"public\": false,\n",
      "    \"tenant_identity\": \"tenant/f9040e8b-2afa-48f1-bb00-f055d55ade01\"\n",
      "}\n",
      "traffic_light {\n",
      "    \"identity\": \"assets/b961c23f-c1db-4bde-9ed3-c997378f2bf2\",\n",
      "    \"behaviours\": [\n",
      "        \"Builtin\",\n",
      "        \"AssetCreator\",\n",
      "        \"Attachments\",\n",
      "        \"RecordEvidence\"\n",
      "    ],\n",
      "    \"attributes\": {\n",
      "        \"arc_description\": \"Traffic flow control light at A603 North East\",\n",
      "        \"arc_display_name\": \"Traffic light model 54\",\n",
      "        \"arc_display_type\": \"Traffic Light\"\n",
      "    },\n",
      "    \"confirmation_status\": \"CONFIRMED\",\n",
      "    \"tracked\": \"TRACKED\",\n",
      "    \"owner\": \"0x3E06AcBf002E8F67bDe832b3f3E7d2aDA2BE3DC8\",\n",
      "    \"at_time\": \"2023-01-10T16:20:33Z\",\n",
      "    \"storage_integrity\": \"TENANT_STORAGE\",\n",
      "    \"proof_mechanism\": \"SIMPLE_HASH\",\n",
      "    \"chain_id\": \"99\",\n",
      "    \"public\": false,\n",
      "    \"tenant_identity\": \"tenant/f9040e8b-2afa-48f1-bb00-f055d55ade01\"\n",
      "}\n"
     ]
    }
   ],
   "source": [
    "# create an asset that matches the assets_filter field in the\n",
    "# compliance policy.\n",
    "traffic_light = create_traffic_light(arch)\n",
    "print(\"traffic_light\", json_dumps(traffic_light, indent=4))"
   ]
  },
  {
   "cell_type": "code",
   "execution_count": 11,
   "id": "d93be01f",
   "metadata": {},
   "outputs": [
    {
     "name": "stdout",
     "output_type": "stream",
     "text": [
      "MAINTENANCE_PERFORMED: {\n",
      "    \"identity\": \"assets/b961c23f-c1db-4bde-9ed3-c997378f2bf2/events/433f4c4e-f6e2-43f6-a48c-0f15152a2734\",\n",
      "    \"asset_identity\": \"assets/b961c23f-c1db-4bde-9ed3-c997378f2bf2\",\n",
      "    \"event_attributes\": {\n",
      "        \"arc_description\": \"Maintenance performed on traffic light\",\n",
      "        \"arc_display_type\": \"Maintenance Performed 281b5ac5-764f-446d-84da-17138e18fde0\"\n",
      "    },\n",
      "    \"asset_attributes\": {},\n",
      "    \"operation\": \"Record\",\n",
      "    \"behaviour\": \"RecordEvidence\",\n",
      "    \"timestamp_declared\": \"2023-01-10T16:20:37Z\",\n",
      "    \"timestamp_accepted\": \"2023-01-10T16:20:37Z\",\n",
      "    \"timestamp_committed\": \"2023-01-10T16:20:37.759462037Z\",\n",
      "    \"principal_declared\": {\n",
      "        \"issuer\": \"https://app.dev-paul-0.wild.jitsuin.io/appidpv1\",\n",
      "        \"subject\": \"bd3f85d2-9b92-4ef0-82c9-2bcb7b5d25c6\",\n",
      "        \"display_name\": \"Application display name 05f19055-d2fd-4076-bd02-46a924cbe984\",\n",
      "        \"email\": \"\"\n",
      "    },\n",
      "    \"principal_accepted\": {\n",
      "        \"issuer\": \"https://app.dev-paul-0.wild.jitsuin.io/appidpv1\",\n",
      "        \"subject\": \"bd3f85d2-9b92-4ef0-82c9-2bcb7b5d25c6\",\n",
      "        \"display_name\": \"Application display name 05f19055-d2fd-4076-bd02-46a924cbe984\",\n",
      "        \"email\": \"\"\n",
      "    },\n",
      "    \"confirmation_status\": \"CONFIRMED\",\n",
      "    \"transaction_id\": \"\",\n",
      "    \"block_number\": 0,\n",
      "    \"transaction_index\": 0,\n",
      "    \"from\": \"0x3E06AcBf002E8F67bDe832b3f3E7d2aDA2BE3DC8\",\n",
      "    \"tenant_identity\": \"tenant/f9040e8b-2afa-48f1-bb00-f055d55ade01\"\n",
      "}\n",
      "Sleep 1 second...\n",
      "COMPLIANCE (true): {\n",
      "    \"compliant\": true,\n",
      "    \"compliance\": [\n",
      "        {\n",
      "            \"compliance_policy_identity\": \"compliance_policies/e9b458b7-5e08-41ce-bf4c-ff01b7975148\",\n",
      "            \"compliant\": true,\n",
      "            \"reason\": \"\"\n",
      "        }\n",
      "    ],\n",
      "    \"next_page_token\": \"\",\n",
      "    \"compliant_at\": \"2023-01-10T16:20:39Z\"\n",
      "}\n"
     ]
    }
   ],
   "source": [
    "# perform maintenance on the asset which is valid for 10 seconds.\n",
    "perform_maintenance(arch, traffic_light, tag)\n",
    "\n",
    "# and check compliance - should be OK.\n",
    "print(\"Sleep 1 second...\")\n",
    "sleep(1)\n",
    "compliance = arch.compliance.compliant_at(\n",
    "    traffic_light[\"identity\"],\n",
    ")\n",
    "print(\"COMPLIANCE (true):\", json_dumps(compliance, indent=4))"
   ]
  },
  {
   "cell_type": "code",
   "execution_count": 12,
   "id": "fe8e2a6e",
   "metadata": {},
   "outputs": [
    {
     "name": "stdout",
     "output_type": "stream",
     "text": [
      "Sleep 15 seconds...\n",
      "COMPLIANCE (false): {\n",
      "    \"compliant\": false,\n",
      "    \"compliance\": [\n",
      "        {\n",
      "            \"compliance_policy_identity\": \"compliance_policies/e9b458b7-5e08-41ce-bf4c-ff01b7975148\",\n",
      "            \"compliant\": false,\n",
      "            \"reason\": \"Duration 20s exceeds limit 10s\"\n",
      "        }\n",
      "    ],\n",
      "    \"next_page_token\": \"\",\n",
      "    \"compliant_at\": \"2023-01-10T16:20:58Z\"\n",
      "}\n"
     ]
    }
   ],
   "source": [
    "# however waiting long enough (> 10s) will cause the asset to\n",
    "# become non-compliant...\n",
    "print(\"Sleep 15 seconds...\")\n",
    "sleep(15)\n",
    "compliance = arch.compliance.compliant_at(\n",
    "    traffic_light[\"identity\"],\n",
    ")\n",
    "print(\"COMPLIANCE (false):\", json_dumps(compliance, indent=4))"
   ]
  },
  {
   "cell_type": "code",
   "execution_count": 13,
   "id": "40ffc716",
   "metadata": {},
   "outputs": [],
   "source": [
    "# finally delete the compliance_policy\n",
    "_ = arch.compliance_policies.delete(\n",
    "    compliance_policy[\"identity\"],\n",
    ")"
   ]
  }
 ],
 "metadata": {
  "kernelspec": {
   "display_name": "Python 3 (ipykernel)",
   "language": "python",
   "name": "python3"
  },
  "language_info": {
   "codemirror_mode": {
    "name": "ipython",
    "version": 3
   },
   "file_extension": ".py",
   "mimetype": "text/x-python",
   "name": "python",
   "nbconvert_exporter": "python",
   "pygments_lexer": "ipython3",
   "version": "3.10.6"
  }
 },
 "nbformat": 4,
 "nbformat_minor": 5
}
