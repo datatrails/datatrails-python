{
 "cells": [
  {
   "cell_type": "markdown",
   "id": "11b1628e-4543-4fd6-a74c-a468d5c27d38",
   "metadata": {},
   "source": [
    "## Create Compliance SINCE Policy"
   ]
  },
  {
   "cell_type": "code",
   "execution_count": 1,
   "id": "3118a079-251e-4e4e-bead-a8849eb684c6",
   "metadata": {},
   "outputs": [],
   "source": [
    "# Create Compliance Since Policy\n",
    "#\n",
    "# Main function, establishes a connection to RKVST using an App Registration then uses that\n",
    "# to create a Compliance Since Policy.\n",
    "#\n",
    "# Note: The purpose of RKVST Jupyter Notebooks is to provide simplified examples that one can easily execute and digest.\n",
    "# The RKVST Python SDK is authored to work cleanly with more advanced coding techniques.\n",
    "#\n",
    "# RKVST Python SDK: https://github.com/rkvst/rkvst-python\n",
    "#"
   ]
  },
  {
   "cell_type": "code",
   "execution_count": 2,
   "id": "36a65c0e-9425-4c9e-848b-6ad6f761ad19",
   "metadata": {},
   "outputs": [],
   "source": [
    "import random\n",
    "import string\n",
    "\n",
    "from json import dumps as json_dumps\n",
    "from os import getenv\n",
    "from warnings import filterwarnings\n",
    "\n",
    "from dotenv import load_dotenv\n",
    "\n",
    "from archivist.archivist import Archivist\n",
    "from archivist.compliance_policy_requests import (\n",
    "    CompliancePolicySince,\n",
    ")\n",
    "from archivist.proof_mechanism import ProofMechanism\n",
    "from archivist.logger import set_logger"
   ]
  },
  {
   "cell_type": "code",
   "execution_count": 3,
   "id": "a49e804f-ddde-4f0b-a20f-85c41a3ea544",
   "metadata": {},
   "outputs": [],
   "source": [
    "%reload_ext dotenv\n",
    "%dotenv -o notebooks.env"
   ]
  },
  {
   "cell_type": "code",
   "execution_count": 4,
   "id": "5826421d-1a9d-4ccf-b820-9055c10c6035",
   "metadata": {},
   "outputs": [],
   "source": [
    "# RKVST_URL, RKVST_APPREG_CLIENT, RKVST_APPREG_SECRET are environment variables that represent connection parameters.\n",
    "#\n",
    "# RKVST_URL = represents the url to the RKVST application\n",
    "# RKVST_APPREG_CLIENT = represents the client ID from an Application Registration\n",
    "# RKVST_APPREG_SECRET = represents the client secret from an Application Registration\n",
    "# RKVST_UNIQUE_ID = is an environment variable that is a unique identifier\n",
    "RKVST_URL = getenv(\"RKVST_URL\")\n",
    "RKVST_APPREG_CLIENT = getenv(\"RKVST_APPREG_CLIENT\")\n",
    "RKVST_APPREG_SECRET = getenv(\"RKVST_APPREG_SECRET\")"
   ]
  },
  {
   "cell_type": "code",
   "execution_count": 5,
   "id": "609cd663-86e8-4bce-8642-6ed6a3afdbfc",
   "metadata": {},
   "outputs": [
    {
     "name": "stdout",
     "output_type": "stream",
     "text": [
      "Connecting to RKVST\n",
      "RKVST_URL https://app.rkvst.io\n"
     ]
    }
   ],
   "source": [
    "\"\"\"\n",
    "Main function of Asset and Event creation.\n",
    "\n",
    "* Connect to RKVST with client ID and client secret\n",
    "* Creates an Compliance Since Policy\n",
    "\"\"\"\n",
    "\n",
    "# Optional call to set the logger level.  The argument can be either\n",
    "# \"INFO\" or \"DEBUG\".  For more sophisticated logging control see our\n",
    "# documentation.\n",
    "set_logger(\"INFO\")\n",
    "\n",
    "# Initialize connection to RKVST\n",
    "print(\"Connecting to RKVST\")\n",
    "print(\"RKVST_URL\", RKVST_URL)\n",
    "arch = Archivist(RKVST_URL, (RKVST_APPREG_CLIENT, RKVST_APPREG_SECRET), max_time=300)"
   ]
  },
  {
   "cell_type": "code",
   "execution_count": 6,
   "id": "dc1adbe6-558c-4ef1-8939-9107ece96f95",
   "metadata": {},
   "outputs": [],
   "source": [
    "def create_compliance_policy(arch):\n",
    "    since_policy = arch.compliance_policies.create(\n",
    "        CompliancePolicySince(\n",
    "            description=\"Playing fetch with my dog every 5 minutes\",\n",
    "            display_name=\"Playing Fetch\",\n",
    "            asset_filter=[\n",
    "                [\"attributes.arc_display_type=Golden Retriever\"],\n",
    "            ],\n",
    "            event_display_type=\"Fetch\",\n",
    "            time_period_seconds=300,\n",
    "        )\n",
    "    )\n",
    "    print(\"SINCE_POLICY:\", json_dumps(since_policy, indent=4))\n",
    "    return since_policy"
   ]
  },
  {
   "cell_type": "code",
   "execution_count": 7,
   "id": "2dfa472a-4e3a-42f2-a273-9bd8d512cf21",
   "metadata": {},
   "outputs": [
    {
     "name": "stderr",
     "output_type": "stream",
     "text": [
      "Refresh token\n"
     ]
    },
    {
     "name": "stdout",
     "output_type": "stream",
     "text": [
      "SINCE_POLICY: {\n",
      "    \"identity\": \"compliance_policies/246d2406-5fea-4869-b4e6-516a5aada609\",\n",
      "    \"compliance_type\": \"COMPLIANCE_SINCE\",\n",
      "    \"description\": \"Playing fetch with my dog every 5 minutes\",\n",
      "    \"display_name\": \"Playing Fetch\",\n",
      "    \"asset_filter\": [\n",
      "        {\n",
      "            \"or\": [\n",
      "                \"attributes.arc_display_type=Golden Retriever\"\n",
      "            ]\n",
      "        }\n",
      "    ],\n",
      "    \"event_display_type\": \"Fetch\",\n",
      "    \"closing_event_display_type\": \"\",\n",
      "    \"time_period_seconds\": \"300\",\n",
      "    \"dynamic_window\": \"0\",\n",
      "    \"dynamic_variability\": 0,\n",
      "    \"richness_assertions\": []\n",
      "}\n",
      "Compliance_Policy {\n",
      "    \"identity\": \"compliance_policies/246d2406-5fea-4869-b4e6-516a5aada609\",\n",
      "    \"compliance_type\": \"COMPLIANCE_SINCE\",\n",
      "    \"description\": \"Playing fetch with my dog every 5 minutes\",\n",
      "    \"display_name\": \"Playing Fetch\",\n",
      "    \"asset_filter\": [\n",
      "        {\n",
      "            \"or\": [\n",
      "                \"attributes.arc_display_type=Golden Retriever\"\n",
      "            ]\n",
      "        }\n",
      "    ],\n",
      "    \"event_display_type\": \"Fetch\",\n",
      "    \"closing_event_display_type\": \"\",\n",
      "    \"time_period_seconds\": \"300\",\n",
      "    \"dynamic_window\": \"0\",\n",
      "    \"dynamic_variability\": 0,\n",
      "    \"richness_assertions\": []\n",
      "}\n"
     ]
    }
   ],
   "source": [
    "compliance_policy = create_compliance_policy(arch)\n",
    "print(\"Compliance_Policy\", json_dumps(compliance_policy, indent=4))"
   ]
  }
 ],
 "metadata": {
  "kernelspec": {
   "display_name": "base",
   "language": "python",
   "name": "python3"
  },
  "language_info": {
   "codemirror_mode": {
    "name": "ipython",
    "version": 3
   },
   "file_extension": ".py",
   "mimetype": "text/x-python",
   "name": "python",
   "nbconvert_exporter": "python",
   "pygments_lexer": "ipython3",
   "version": "3.9.6 | packaged by conda-forge | (default, Jul 11 2021, 03:36:15) \n[Clang 11.1.0 ]"
  },
  "vscode": {
   "interpreter": {
    "hash": "c11202d2846b22eec7deaf37ea813ba92a5f75b5344a4d16688175855af7948e"
   }
  }
 },
 "nbformat": 4,
 "nbformat_minor": 5
}
