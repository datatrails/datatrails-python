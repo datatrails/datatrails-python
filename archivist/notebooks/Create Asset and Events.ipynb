{
 "cells": [
  {
   "cell_type": "markdown",
   "id": "f5c3a1a4",
   "metadata": {},
   "source": [
    "## Create Asset and Events"
   ]
  },
  {
   "cell_type": "code",
   "execution_count": 1,
   "id": "8581a0ba",
   "metadata": {},
   "outputs": [],
   "source": [
    "# Create an Asset with corresponding events\n",
    "#\n",
    "# Main function, establishes a connection to RKVST using an App Registration then uses that\n",
    "# to create an asset with events.\n",
    "#\n",
    "# Note: The purpose of RKVST Jupyter Notebooks is to provide simplified examples that one can easily execute and digest.\n",
    "# The RKVST Python SDK is authored to work cleanly with more advanced coding techniques.\n",
    "#\n",
    "# RKVST Python SDK: https://github.com/rkvst/rkvst-python\n",
    "#"
   ]
  },
  {
   "cell_type": "code",
   "execution_count": 2,
   "id": "402e6085",
   "metadata": {},
   "outputs": [],
   "source": [
    "import random\n",
    "import string\n",
    "\n",
    "from json import dumps as json_dumps\n",
    "from os import getenv\n",
    "from warnings import filterwarnings\n",
    "\n",
    "from archivist.archivist import Archivist\n",
    "from archivist.proof_mechanism import ProofMechanism\n",
    "from archivist.logger import set_logger\n",
    "\n",
    "filterwarnings(\"ignore\", message=\"Unverified HTTPS request\")"
   ]
  },
  {
   "cell_type": "code",
   "execution_count": 3,
   "id": "05c9e0bc",
   "metadata": {},
   "outputs": [],
   "source": [
    "# URL, CLIENT, SECRET are environment variables that represent connection parameters.\n",
    "#\n",
    "# URL = represents the url to the RKVST application\n",
    "# CLIENT = represents the client ID from an Application Registration\n",
    "# SECRET = represents the client secret from an Application Registration\n",
    "RKVST_URL = getenv(\"URL\")\n",
    "APPREG_CLIENT = getenv(\"CLIENT\")\n",
    "APPREG_SECRET = getenv(\"SECRET\")"
   ]
  },
  {
   "cell_type": "code",
   "execution_count": 4,
   "id": "b3bff987",
   "metadata": {},
   "outputs": [],
   "source": [
    "def create_artist(arch, name, artist_name, genre, artistid):\n",
    "    \"\"\"\n",
    "    Creates an asset that passes name, stage name, music genre and unique id\n",
    "    for an Artist\n",
    "    \"\"\"\n",
    "    attrs = {\n",
    "        \"arc_display_name\": name,\n",
    "        \"arc_description\": \"British Soul Singer\",\n",
    "        \"arc_display_type\": \"Artists\",\n",
    "        \"stage_name\": artist_name,\n",
    "        \"genre\": genre,\n",
    "        \"artistid\": artistid,\n",
    "    }\n",
    "\n",
    "    return arch.assets.create(attrs=attrs, confirm=True)"
   ]
  },
  {
   "cell_type": "code",
   "execution_count": 5,
   "id": "5a8456d6",
   "metadata": {},
   "outputs": [],
   "source": [
    "def create_release(arch, asset, album_name, release):\n",
    "    \"\"\"\n",
    "    Creates an event that passes album name and release year\n",
    "    \"\"\"\n",
    "    props = {\"operation\": \"Record\", \"behaviour\": \"RecordEvidence\"}\n",
    "    attrs = {\n",
    "        \"arc_description\": \"Artist Information\",\n",
    "        \"arc_display_type\": \"Album Release\",\n",
    "        \"album_name\": album_name,\n",
    "        \"relase_year\": release,\n",
    "    }\n",
    "\n",
    "    return arch.events.create(asset[\"identity\"], props=props, attrs=attrs)"
   ]
  },
  {
   "cell_type": "code",
   "execution_count": 6,
   "id": "d795048b",
   "metadata": {},
   "outputs": [
    {
     "name": "stdout",
     "output_type": "stream",
     "text": [
      "Connecting to RKVST\n",
      "URL https://app.rkvst.io\n"
     ]
    }
   ],
   "source": [
    "\"\"\"\n",
    "Main function of asset and event creation.\n",
    "\n",
    "* Connect to RKVST with client ID and client secret\n",
    "* Creates an Asset and two events\n",
    "* Prints response of asset and event creation\n",
    "\"\"\"\n",
    "# Optional call to set the logger level.  The argument can be either\n",
    "# \"INFO\" or \"DEBUG\".  For more sophisticated logging control see our\n",
    "# documentation.\n",
    "set_logger(\"INFO\")\n",
    "\n",
    "# Initialize connection to RKVST\n",
    "print(\"Connecting to RKVST\")\n",
    "print(\"URL\", RKVST_URL)\n",
    "arch = Archivist(RKVST_URL, (APPREG_CLIENT, APPREG_SECRET), max_time=300)"
   ]
  },
  {
   "cell_type": "code",
   "execution_count": 7,
   "id": "32cf69a2",
   "metadata": {},
   "outputs": [
    {
     "name": "stdout",
     "output_type": "stream",
     "text": [
      "Artist unique id 7lamw1s0xxl9\n"
     ]
    }
   ],
   "source": [
    "# Create a unique id that can be referenced when searching for this particular asset\n",
    "artistid = \"\".join(\n",
    "    random.choice(string.ascii_lowercase + string.digits) for _ in range(12)\n",
    ")\n",
    "print(\"Artist unique id\", artistid)"
   ]
  },
  {
   "cell_type": "code",
   "execution_count": 8,
   "id": "e9129061",
   "metadata": {},
   "outputs": [
    {
     "name": "stdout",
     "output_type": "stream",
     "text": [
      "Creating Asset\n"
     ]
    },
    {
     "name": "stderr",
     "output_type": "stream",
     "text": [
      "Refresh token\n"
     ]
    },
    {
     "name": "stdout",
     "output_type": "stream",
     "text": [
      "Asset {\n",
      "    \"identity\": \"assets/afb30753-89ef-4c2c-a0e8-3ebabd52a5b8\",\n",
      "    \"behaviours\": [\n",
      "        \"Attachments\",\n",
      "        \"RecordEvidence\",\n",
      "        \"Builtin\",\n",
      "        \"AssetCreator\"\n",
      "    ],\n",
      "    \"attributes\": {\n",
      "        \"genre\": \"Soul\",\n",
      "        \"stage_name\": \"Adele\",\n",
      "        \"arc_description\": \"British Soul Singer\",\n",
      "        \"arc_display_name\": \"Adele Laurie Blue Adkins\",\n",
      "        \"arc_display_type\": \"Artists\",\n",
      "        \"artistid\": \"7lamw1s0xxl9\"\n",
      "    },\n",
      "    \"confirmation_status\": \"CONFIRMED\",\n",
      "    \"tracked\": \"TRACKED\",\n",
      "    \"owner\": \"0x5284e740A744F075E402f7fB0c4485532ddf4Af8\",\n",
      "    \"at_time\": \"2022-12-21T21:22:43Z\",\n",
      "    \"storage_integrity\": \"TENANT_STORAGE\",\n",
      "    \"proof_mechanism\": \"SIMPLE_HASH\",\n",
      "    \"chain_id\": \"8275868384\",\n",
      "    \"public\": false,\n",
      "    \"tenant_identity\": \"tenant/0a62f7c9-fd7b-4791-8041-01218d839ec1\"\n",
      "}\n"
     ]
    }
   ],
   "source": [
    "# Creating an asset for musical artist Adele\n",
    "# Use the above value for artistid\n",
    "print(\"Creating Asset\")\n",
    "asset = create_artist(\n",
    "    arch,\n",
    "    name=\"Adele Laurie Blue Adkins\",\n",
    "    artist_name=\"Adele\",\n",
    "    genre=\"Soul\",\n",
    "    artistid=\"7lamw1s0xxl9\",\n",
    ")\n",
    "print(\"Asset\", json_dumps(asset, indent=4))"
   ]
  },
  {
   "cell_type": "code",
   "execution_count": 9,
   "id": "4095a75f",
   "metadata": {},
   "outputs": [
    {
     "name": "stdout",
     "output_type": "stream",
     "text": [
      "Creating Events\n",
      "Event for Album 19 {\n",
      "    \"identity\": \"assets/afb30753-89ef-4c2c-a0e8-3ebabd52a5b8/events/857ef909-f2a4-4b32-a536-0f18ac997b7b\",\n",
      "    \"asset_identity\": \"assets/afb30753-89ef-4c2c-a0e8-3ebabd52a5b8\",\n",
      "    \"event_attributes\": {\n",
      "        \"album_name\": \"19\",\n",
      "        \"arc_description\": \"Artist Information\",\n",
      "        \"arc_display_type\": \"Album Release\",\n",
      "        \"relase_year\": \"2008\"\n",
      "    },\n",
      "    \"asset_attributes\": {},\n",
      "    \"operation\": \"Record\",\n",
      "    \"behaviour\": \"RecordEvidence\",\n",
      "    \"timestamp_declared\": \"2022-12-21T21:23:00Z\",\n",
      "    \"timestamp_accepted\": \"2022-12-21T21:23:00Z\",\n",
      "    \"timestamp_committed\": \"2022-12-21T21:23:00.048308686Z\",\n",
      "    \"principal_declared\": {\n",
      "        \"issuer\": \"https://app.rkvst.io/appidpv1\",\n",
      "        \"subject\": \"43a271b9-5b25-4740-aa9f-1cbd51ed3625\",\n",
      "        \"display_name\": \"mwilder26\",\n",
      "        \"email\": \"\"\n",
      "    },\n",
      "    \"principal_accepted\": {\n",
      "        \"issuer\": \"https://app.rkvst.io/appidpv1\",\n",
      "        \"subject\": \"43a271b9-5b25-4740-aa9f-1cbd51ed3625\",\n",
      "        \"display_name\": \"mwilder26\",\n",
      "        \"email\": \"\"\n",
      "    },\n",
      "    \"confirmation_status\": \"CONFIRMED\",\n",
      "    \"transaction_id\": \"\",\n",
      "    \"block_number\": 0,\n",
      "    \"transaction_index\": 0,\n",
      "    \"from\": \"0x5284e740A744F075E402f7fB0c4485532ddf4Af8\",\n",
      "    \"tenant_identity\": \"tenant/0a62f7c9-fd7b-4791-8041-01218d839ec1\"\n",
      "}\n",
      "Event for Album 21 {\n",
      "    \"identity\": \"assets/afb30753-89ef-4c2c-a0e8-3ebabd52a5b8/events/03b911a3-3469-4c9f-8337-887683baccc7\",\n",
      "    \"asset_identity\": \"assets/afb30753-89ef-4c2c-a0e8-3ebabd52a5b8\",\n",
      "    \"event_attributes\": {\n",
      "        \"arc_display_type\": \"Album Release\",\n",
      "        \"relase_year\": \"2011\",\n",
      "        \"album_name\": \"21\",\n",
      "        \"arc_description\": \"Artist Information\"\n",
      "    },\n",
      "    \"asset_attributes\": {},\n",
      "    \"operation\": \"Record\",\n",
      "    \"behaviour\": \"RecordEvidence\",\n",
      "    \"timestamp_declared\": \"2022-12-21T21:23:01Z\",\n",
      "    \"timestamp_accepted\": \"2022-12-21T21:23:01Z\",\n",
      "    \"timestamp_committed\": \"2022-12-21T21:23:01.534154958Z\",\n",
      "    \"principal_declared\": {\n",
      "        \"issuer\": \"https://app.rkvst.io/appidpv1\",\n",
      "        \"subject\": \"43a271b9-5b25-4740-aa9f-1cbd51ed3625\",\n",
      "        \"display_name\": \"mwilder26\",\n",
      "        \"email\": \"\"\n",
      "    },\n",
      "    \"principal_accepted\": {\n",
      "        \"issuer\": \"https://app.rkvst.io/appidpv1\",\n",
      "        \"subject\": \"43a271b9-5b25-4740-aa9f-1cbd51ed3625\",\n",
      "        \"display_name\": \"mwilder26\",\n",
      "        \"email\": \"\"\n",
      "    },\n",
      "    \"confirmation_status\": \"CONFIRMED\",\n",
      "    \"transaction_id\": \"\",\n",
      "    \"block_number\": 0,\n",
      "    \"transaction_index\": 0,\n",
      "    \"from\": \"0x5284e740A744F075E402f7fB0c4485532ddf4Af8\",\n",
      "    \"tenant_identity\": \"tenant/0a62f7c9-fd7b-4791-8041-01218d839ec1\"\n",
      "}\n"
     ]
    }
   ],
   "source": [
    "# Create two events that contain album release information for Adele\n",
    "print(\"Creating Events\")\n",
    "event_one = create_release(arch, asset, album_name=\"19\", release=\"2008\")\n",
    "print(\"Event for Album 19\", json_dumps(event_one, indent=4))\n",
    "event_two = create_release(arch, asset, album_name=\"21\", release=\"2011\")\n",
    "print(\"Event for Album 21\", json_dumps(event_two, indent=4))"
   ]
  }
 ],
 "metadata": {
  "kernelspec": {
   "display_name": "Python 3 (ipykernel)",
   "language": "python",
   "name": "python3"
  },
  "language_info": {
   "codemirror_mode": {
    "name": "ipython",
    "version": 3
   },
   "file_extension": ".py",
   "mimetype": "text/x-python",
   "name": "python",
   "nbconvert_exporter": "python",
   "pygments_lexer": "ipython3",
   "version": "3.9.5 (v3.9.5:0a7dcbdb13, May  3 2021, 13:17:02) \n[Clang 6.0 (clang-600.0.57)]"
  },
  "vscode": {
   "interpreter": {
    "hash": "aee8b7b246df8f9039afb4144a1f6fd8d2ca17a180786b69acc140d282b71a49"
   }
  }
 },
 "nbformat": 4,
 "nbformat_minor": 5
}
