{
 "cells": [
  {
   "cell_type": "code",
   "execution_count": null,
   "id": "86095794",
   "metadata": {},
   "outputs": [],
   "source": [
    "\"\"\"Create an asset for Archivist with token.\n",
    "\n",
    "   Create an access_policy that shares an asset when certain criteria are met.\n",
    "\n",
    "   Access the asset from another Archivist connection using a second token with different\n",
    "   access rights.\n",
    "\"\"\"\n",
    "\n",
    "from json import dumps as json_dumps\n",
    "\n",
    "from archivist.archivist import Archivist\n",
    "from archivist.constants import ASSET_BEHAVIOURS, SUBJECTS_SELF_ID\n",
    "from archivist.logger import set_logger\n",
    "from archivist.proof_mechanism import ProofMechanism"
   ]
  },
  {
   "cell_type": "code",
   "execution_count": null,
   "id": "f0dc68f0",
   "metadata": {},
   "outputs": [],
   "source": [
    "URL=\"https://app.rkvst.io\""
   ]
  },
  {
   "cell_type": "code",
   "execution_count": null,
   "id": "9ffed4c1",
   "metadata": {},
   "outputs": [],
   "source": [
    "def create_example_asset(arch, label):\n",
    "    \"\"\"Create an asset using Archivist Connection.\n",
    "\n",
    "    Args:\n",
    "        arch: archivist connection.\n",
    "        label: convenience label to easily distinguish the 2 organizations.\n",
    "\n",
    "    Returns:\n",
    "        Asset: a new asset created.\n",
    "\n",
    "    \"\"\"\n",
    "    attrs = {\n",
    "        \"arc_display_name\": f\"{label}_display_name\",  # Asset's display name\n",
    "        \"arc_description\": f\"{label}_display_description\",  # Asset's description\n",
    "        \"arc_display_type\": f\"{label}_display_type\",  # Arc_display_type is a free text field\n",
    "        \"ext_vendor_name\": label,\n",
    "    }\n",
    "\n",
    "    # Select the mechanism used to prove evidence for the asset.  If the selected proof\n",
    "    # mechanism is not enabled for your tenant then an error will occur.\n",
    "    # If unspecified then SIMPLE_HASH is used.\n",
    "    # proof_mechanism = ProofMechanism.KHIPU.name\n",
    "    #\n",
    "    props = {\n",
    "        \"proof_mechanism\": ProofMechanism.SIMPLE_HASH.name,\n",
    "    }\n",
    "\n",
    "    # The first argument is the properties of the asset\n",
    "    # The second argument is the attributes of the asset\n",
    "    # The third argument is wait for confirmation:\n",
    "    #   If @confirm@ is True then this function will not\n",
    "    #   return until the asset is confirmed on the blockchain and ready\n",
    "    #   to accept events (or an error occurs)\n",
    "    #\n",
    "    return arch.assets.create(props=props, attrs=attrs, confirm=True)"
   ]
  },
  {
   "cell_type": "code",
   "execution_count": null,
   "id": "6369df70",
   "metadata": {},
   "outputs": [],
   "source": [
    "def create_archivist(label):\n",
    "    \"\"\"Create connection to archivist\"\"\"\n",
    "    # Get authorization token. The token grants certain rights and access permissions.\n",
    "    # The token can represent the root principal or user in an organization. Different tokens\n",
    "    # could indicate different users in the same organization or membership of different\n",
    "    # organiastions.\n",
    "    with open(f\"/home/builder/credentials/{label}_token\", mode=\"r\", encoding=\"utf-8\") as tokenfile:\n",
    "        auth_token = tokenfile.read().strip()\n",
    "\n",
    "    # Initialize connection to Archivist. max_time is the time to wait for confirmation\n",
    "    # of an asset or event creation - the default is 1200 seconds but one can optionally\n",
    "    # specify a different value here particularly when creating assets on SIMPLE_HASH\n",
    "    # (rather than KHIPU) as confirmation times are much shorter in this case.\n",
    "    return Archivist(\n",
    "        URL,\n",
    "        auth_token,\n",
    "        max_time=300,\n",
    "    )"
   ]
  },
  {
   "cell_type": "code",
   "execution_count": null,
   "id": "b73faaf2",
   "metadata": {},
   "outputs": [],
   "source": [
    "def import_subject(acme, weyland):\n",
    "    \"\"\"Add subjects record for weyland in acme's environment\"\"\"\n",
    "    subject = acme.subjects.import_subject(\n",
    "        \"weyland\",\n",
    "        weyland.subjects.read(SUBJECTS_SELF_ID),\n",
    "    )\n",
    "\n",
    "    # must wait for confirmation\n",
    "    acme.subjects.wait_for_confirmation(subject[\"identity\"])\n",
    "\n",
    "    return subject\n"
   ]
  },
  {
   "cell_type": "code",
   "execution_count": null,
   "id": "adb659e9",
   "metadata": {},
   "outputs": [],
   "source": [
    "def create_example_access_policy(arch, label, subject):\n",
    "    \"\"\"Create access policy\"\"\"\n",
    "    # consists of a filter selection entry and a selection criteria to restrict/redact\n",
    "    # values of the asset attributes available to the sharee.\n",
    "\n",
    "    # values pertaining to the access polciy itself.\n",
    "    props = {\n",
    "        \"display_name\": f\"{label} access policy\",\n",
    "        \"description\": f\"{label} Policy description\",\n",
    "    }\n",
    "\n",
    "    # Filtering - access will be allowed to any asset that contains both these\n",
    "    # attributes that equal these values. This happens to match the asset created\n",
    "    # previously.\n",
    "    filters = [\n",
    "        {\n",
    "            \"or\": [\n",
    "                f\"attributes.arc_display_type={label}_display_type\",\n",
    "            ]\n",
    "        },\n",
    "        {\n",
    "            \"or\": [\n",
    "                f\"attributes.ext_vendor_name={label}\",\n",
    "            ]\n",
    "        },\n",
    "    ]\n",
    "\n",
    "    # one must be the subject to gain access and only those fields\n",
    "    # specified in include_attributes will be emitted.\n",
    "    access_permissions = [\n",
    "        {\n",
    "            \"subjects\": [\n",
    "                subject[\"identity\"],\n",
    "            ],\n",
    "            \"behaviours\": ASSET_BEHAVIOURS,\n",
    "            \"include_attributes\": [\n",
    "                \"arc_display_name\",\n",
    "            ],\n",
    "        },\n",
    "    ]\n",
    "    \n",
    "    return arch.access_policies.create(\n",
    "        props,\n",
    "        filters,\n",
    "        access_permissions,\n",
    "    )"
   ]
  },
  {
   "cell_type": "code",
   "execution_count": null,
   "id": "ee676092",
   "metadata": {},
   "outputs": [],
   "source": [
    "# optional call to set the logger level for all subsystems. The argument can\n",
    "# be either \"INFO\" or \"DEBUG\". For more sophisticated logging control see the\n",
    "# documentation.\n",
    "set_logger(\"INFO\")"
   ]
  },
  {
   "cell_type": "code",
   "execution_count": null,
   "id": "b05729f6",
   "metadata": {},
   "outputs": [],
   "source": [
    "# For demonstration purposes we are going to assume that 2 organizations are\n",
    "# going to share an asset. The 2 organizations are ACME Corp and Weyland-Yutani\n",
    "# Corporation.\n",
    "acme = create_archivist(\"acme\")\n",
    "weyland = create_archivist(\"weyland\")"
   ]
  },
  {
   "cell_type": "code",
   "execution_count": null,
   "id": "a3930e4e",
   "metadata": {},
   "outputs": [],
   "source": [
    "# acme creates an asset\n",
    "acme_asset = create_example_asset(acme, \"acme\")\n",
    "print(\"asset created in acme\", json_dumps(acme_asset, indent=4))"
   ]
  },
  {
   "cell_type": "code",
   "execution_count": null,
   "id": "57fc4483",
   "metadata": {},
   "outputs": [],
   "source": [
    "# set a subject for weyland in acme's environment. The identity will be used as a\n",
    "# filter in the access permissions of the access_policy.\n",
    "weyland_subject_on_acme = import_subject(acme, weyland)\n",
    "print(\"weyland_subject\", json_dumps(weyland_subject_on_acme, indent=4))"
   ]
  },
  {
   "cell_type": "code",
   "execution_count": null,
   "id": "1a7d7b99",
   "metadata": {},
   "outputs": [],
   "source": [
    "# now we want acme to share this asset to weyland via an access policy.\n",
    "access_policy = create_example_access_policy(acme, \"acme\", weyland_subject_on_acme)\n",
    "print(\"access policy created in acme\", json_dumps(access_policy, indent=4))"
   ]
  },
  {
   "cell_type": "code",
   "execution_count": null,
   "id": "2fb8f137",
   "metadata": {},
   "outputs": [],
   "source": [
    "# display the asset as retrieved by the sharee\n",
    "# NB: the attributes dict is redacted...\n",
    "weyland_asset = weyland.assets.read(acme_asset[\"identity\"])\n",
    "print(\"asset read from weyland\", json_dumps(weyland_asset, indent=4))"
   ]
  },
  {
   "cell_type": "code",
   "execution_count": null,
   "id": "6d3951fb",
   "metadata": {},
   "outputs": [],
   "source": [
    "# list matching access policies\n",
    "access_policies = list(acme.access_policies.list_matching_access_policies(acme_asset[\"identity\"]))\n",
    "print(\"access policies read from acme\", json_dumps(access_policies, indent=4))"
   ]
  },
  {
   "cell_type": "code",
   "execution_count": null,
   "id": "78934995",
   "metadata": {},
   "outputs": [],
   "source": [
    "# delete all the access policies\n",
    "for access_policy in access_policies:\n",
    "    acme.access_policies.delete(access_policy[\"identity\"])"
   ]
  },
  {
   "cell_type": "code",
   "execution_count": null,
   "id": "86dcd3b5",
   "metadata": {
    "scrolled": true
   },
   "outputs": [],
   "source": [
    "# list matching access policies\n",
    "access_policies = list(acme.access_policies.list_matching_access_policies(acme_asset[\"identity\"]))\n",
    "print(\"access policies read from acme\", json_dumps(access_policies, indent=4))"
   ]
  },
  {
   "cell_type": "code",
   "execution_count": null,
   "id": "63aaf7b7",
   "metadata": {},
   "outputs": [],
   "source": [
    "# display the asset as retrieved by the sharee - the asset is still shared even though there are no access policies\n",
    "# NB: the attributes dict is redacted...\n",
    "weyland_asset = weyland.assets.read(acme_asset[\"identity\"])\n",
    "print(\"asset read from weyland\", json_dumps(weyland_asset, indent=4))"
   ]
  },
  {
   "cell_type": "code",
   "execution_count": null,
   "id": "2486fd97",
   "metadata": {},
   "outputs": [],
   "source": []
  }
 ],
 "metadata": {
  "kernelspec": {
   "display_name": "Python 3 (ipykernel)",
   "language": "python",
   "name": "python3"
  },
  "language_info": {
   "codemirror_mode": {
    "name": "ipython",
    "version": 3
   },
   "file_extension": ".py",
   "mimetype": "text/x-python",
   "name": "python",
   "nbconvert_exporter": "python",
   "pygments_lexer": "ipython3",
   "version": "3.7.13"
  }
 },
 "nbformat": 4,
 "nbformat_minor": 5
}
