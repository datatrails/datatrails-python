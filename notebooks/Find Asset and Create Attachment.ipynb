{
 "cells": [
  {
   "cell_type": "code",
   "execution_count": null,
   "id": "0b61044f",
   "metadata": {},
   "outputs": [],
   "source": [
    "# Find existing Asset and create an attachment\n",
    "#\n",
    "# Main function, establishes a connection to RKVST using an App Registration then uses that \n",
    "# to find existing Asset and create an attachment.\n",
    "#\n",
    "# The attachment is an image located in a folder named \"test_files\""
   ]
  },
  {
   "cell_type": "code",
   "execution_count": null,
   "id": "f9e2c868",
   "metadata": {},
   "outputs": [],
   "source": [
    "from json import dumps as json_dumps\n",
    "from os import getenv\n",
    "from warnings import filterwarnings\n",
    "\n",
    "from archivist.archivist import Archivist\n",
    "from archivist.proof_mechanism import ProofMechanism\n",
    "from archivist.logger import set_logger\n",
    "\n",
    "filterwarnings(\"ignore\", message=\"Unverified HTTPS request\")\n",
    "\n",
    "try:\n",
    "    import importlib.resources as pkg_resources\n",
    "except ImportError:\n",
    "    import importlib_resources as pkg_resources\n",
    "    \n",
    "import test_files"
   ]
  },
  {
   "cell_type": "code",
   "execution_count": null,
   "id": "da890fb1",
   "metadata": {},
   "outputs": [],
   "source": [
    "# Connection parameters.  Fill in with client ID and secret from an appropriately \n",
    "# permissioned Application Registration\n",
    "RKVST_URL=\"https://app.rkvst.io\"\n",
    "# APPREG_CLIENT=\"xxxxxxxx-xxxx-xxxx-xxxx-xxxxxxxxxxxx\"\n",
    "# APPREG_SECRET=\"xxxxxxxxxxxxxxxxxxxxxxxxxxxxxxxxxxxxxxxxxxxxxxxxxxxxxxxxxxxxxxxx\""
   ]
  },
  {
   "cell_type": "code",
   "execution_count": null,
   "id": "671c824f",
   "metadata": {},
   "outputs": [],
   "source": [
    "def upload_attachment(arch, path, name):\n",
    "    \"\"\"\n",
    "    Obtains attachments from \"test_files\" folder and creates json payload\n",
    "    for upload\n",
    "    \"\"\"\n",
    "    with pkg_resources.open_binary(test_files, path) as fd:\n",
    "        blob = arch.attachments.upload(fd)\n",
    "        attachment = {\n",
    "            \"arc_display_name\": name,\n",
    "            \"arc_attachment_identity\": blob[\"identity\"],\n",
    "            \"arc_hash_value\": blob[\"hash\"][\"value\"],\n",
    "            \"arc_hash_alg\": blob[\"hash\"][\"alg\"]\n",
    "        }\n",
    "        return attachment"
   ]
  },
  {
   "cell_type": "code",
   "execution_count": null,
   "id": "3e2d7571",
   "metadata": {},
   "outputs": [],
   "source": [
    "def get_artist(arch, name, artistid):\n",
    "    \"\"\"\n",
    "    Finds existing Artist asset by name and unique id\n",
    "    \"\"\"\n",
    "    attrs = {\n",
    "        \"arc_display_type\": \"Artists\",\n",
    "        \"arc_display_name\": name,\n",
    "        \"artistid\": artistid\n",
    "    }\n",
    "    \n",
    "    return arch.assets.read_by_signature(attrs=attrs)"
   ]
  },
  {
   "cell_type": "code",
   "execution_count": null,
   "id": "a33b9635",
   "metadata": {},
   "outputs": [],
   "source": [
    "def create_image(arch, asset):\n",
    "    \"\"\"\n",
    "    Creates an event that uploads a primary image for an Artist asset\n",
    "    \"\"\"\n",
    "    attachments = upload_attachment(arch, \"pexels-andrea-turner-707697.jpeg\", \"arc_primary_image\")\n",
    "    attachment_list = [attachments]\n",
    "    \n",
    "    props = {\n",
    "        \"operation\": \"Record\",\n",
    "        \"behaviour\": \"RecordEvidence\"\n",
    "    }\n",
    "    attrs = {\n",
    "        \"arc_description\": \"Attaching an image\",\n",
    "        \"arc_display_type\": \"Primary image\",\n",
    "    }\n",
    "    \n",
    "    asset_attrs = {\n",
    "        \"arc_attachments\": attachment_list\n",
    "    }\n",
    "    \n",
    "    return arch.events.create(asset[\"identity\"], props=props, attrs=attrs, asset_attrs=asset_attrs)"
   ]
  },
  {
   "cell_type": "code",
   "execution_count": null,
   "id": "fbad039b",
   "metadata": {},
   "outputs": [],
   "source": [
    "\"\"\"\n",
    "Main function of asset and event creation.\n",
    "\n",
    "* Connect to RKVST with client ID and client secret\n",
    "* Finds existing asset\n",
    "* Creates additional event for attachment upload\n",
    "* Prints response of asset and event creation\n",
    "\"\"\"\n",
    "# Optional call to set the logger level.  The argument can be either \n",
    "# \"INFO\" or \"DEBUG\".  For more sophisticated logging control see our \n",
    "# documentation.\n",
    "set_logger(\"INFO\")\n",
    "\n",
    "# Initialize connection to RKVST\n",
    "print(\"Connecting to RKVST\")\n",
    "arch = Archivist(RKVST_URL, (APPREG_CLIENT, APPREG_SECRET), max_time=300)"
   ]
  },
  {
   "cell_type": "code",
   "execution_count": null,
   "id": "acb00047",
   "metadata": {},
   "outputs": [],
   "source": [
    "# Finding existing artist by name and artist id\n",
    "# Fill in the artistid from Create Asset and Events notebook\n",
    "print(\"Finding Asset\")\n",
    "asset = get_artist(arch, \"Adele Laurie Blue Adkins\",\"xxxxxxxxxxxx\")\n",
    "print(\"Asset\", json_dumps(asset, indent=4))"
   ]
  },
  {
   "cell_type": "code",
   "execution_count": null,
   "id": "948c277b",
   "metadata": {},
   "outputs": [],
   "source": [
    "# Create an event for attachment upload\n",
    "print(\"Creating Events for existing Asset\")\n",
    "image_event = create_image(arch, asset)\n",
    "print(\"Event for Image\", json_dumps(image_event, indent=4))"
   ]
  }
 ],
 "metadata": {
  "kernelspec": {
   "display_name": "Python 3 (ipykernel)",
   "language": "python",
   "name": "python3"
  },
  "language_info": {
   "codemirror_mode": {
    "name": "ipython",
    "version": 3
   },
   "file_extension": ".py",
   "mimetype": "text/x-python",
   "name": "python",
   "nbconvert_exporter": "python",
   "pygments_lexer": "ipython3",
   "version": "3.7.15"
  },
  "vscode": {
   "interpreter": {
    "hash": "aee8b7b246df8f9039afb4144a1f6fd8d2ca17a180786b69acc140d282b71a49"
   }
  }
 },
 "nbformat": 4,
 "nbformat_minor": 5
}
