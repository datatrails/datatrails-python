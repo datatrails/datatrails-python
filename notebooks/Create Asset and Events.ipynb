{
 "cells": [
  {
   "cell_type": "code",
   "execution_count": null,
   "id": "d4eb0594",
   "metadata": {},
   "outputs": [],
   "source": [
    "# Create an Asset with corresponding events\n",
    "#\n",
    "# Main function, establishes a connection to RKVST using an App Registration then uses that \n",
    "# to create an asset with events."
   ]
  },
  {
   "cell_type": "code",
   "execution_count": null,
   "id": "402e6085",
   "metadata": {},
   "outputs": [],
   "source": [
    "import random\n",
    "import string\n",
    "\n",
    "from json import dumps as json_dumps\n",
    "from os import getenv\n",
    "from warnings import filterwarnings\n",
    "\n",
    "from archivist.archivist import Archivist\n",
    "from archivist.proof_mechanism import ProofMechanism\n",
    "from archivist.logger import set_logger\n",
    "\n",
    "filterwarnings(\"ignore\", message=\"Unverified HTTPS request\")"
   ]
  },
  {
   "cell_type": "code",
   "execution_count": null,
   "id": "05c9e0bc",
   "metadata": {},
   "outputs": [],
   "source": [
    "# Connection parameters.  Fill in with client ID and secret from an appropriately \n",
    "# permissioned Application Registration\n",
    "RKVST_URL=\"https://app.rkvst-poc.io\"\n",
    "APPREG_CLIENT=\"xxxxxxxx-xxxx-xxxx-xxxx-xxxxxxxxxxxx\"\n",
    "APPREG_SECRET=\"xxxxxxxxxxxxxxxxxxxxxxxxxxxxxxxxxxxxxxxxxxxxxxxxxxxxxxxxxxxxxxxx\""
   ]
  },
  {
   "cell_type": "code",
   "execution_count": null,
   "id": "b3bff987",
   "metadata": {},
   "outputs": [],
   "source": [
    "def create_asset(arch, name, artistname, genre, artistid):\n",
    "    \"\"\"\n",
    "    Creates an asset that passes name, stage name, music genre and unique id\n",
    "    for an Artist\n",
    "    \"\"\"\n",
    "    attrs = {\n",
    "        \"arc_display_name\": name,\n",
    "        \"arc_description\": \"British Soul Singer\",\n",
    "        \"arc_display_type\": \"Artists\",\n",
    "        \"stage_name\": artistname,\n",
    "        \"genre\": genre,\n",
    "        \"artistid\": artistid\n",
    "    }\n",
    "    \n",
    "    return arch.assets.create(attrs=attrs, confirm=True)"
   ]
  },
  {
   "cell_type": "code",
   "execution_count": null,
   "id": "5a8456d6",
   "metadata": {},
   "outputs": [],
   "source": [
    "def create_event(arch, asset, album_name, release):\n",
    "    \"\"\"\n",
    "    Creates an event that passes album name and release year\n",
    "    \"\"\"\n",
    "    props = {\n",
    "        \"operation\": \"Record\",\n",
    "        \"behaviour\": \"RecordEvidence\"\n",
    "    }\n",
    "    attrs = {\n",
    "        \"arc_description\": \"Artist Information\",\n",
    "        \"arc_display_type\": \"Album Release\",\n",
    "        \"album_name\": album_name,\n",
    "        \"relase_year\": release\n",
    "    }\n",
    "    \n",
    "    return arch.events.create(asset[\"identity\"], props=props, attrs=attrs)"
   ]
  },
  {
   "cell_type": "code",
   "execution_count": null,
   "id": "d795048b",
   "metadata": {},
   "outputs": [],
   "source": [
    "\"\"\"\n",
    "Main function of asset and event creation.\n",
    "\n",
    "* Connect to RKVST with client ID and client secret\n",
    "* Creates an Asset and two events\n",
    "* Prints response of asset and event creation\n",
    "\"\"\"\n",
    "# Optional call to set the logger level.  The argument can be either \n",
    "# \"INFO\" or \"DEBUG\".  For more sophisticated logging control see our \n",
    "# documentation.\n",
    "set_logger(\"INFO\")\n",
    "\n",
    "# Initialize connection to RKVST\n",
    "print(\"Connecting to RKVST\")\n",
    "arch = Archivist(RKVST_URL, (APPREG_CLIENT, APPREG_SECRET), max_time=300)"
   ]
  },
  {
   "cell_type": "code",
   "execution_count": null,
   "id": "32cf69a2",
   "metadata": {},
   "outputs": [],
   "source": [
    "# Create a unique id that can be referenced when searching for this particular asset\n",
    "artistid = \"\".join(random.choice(string.ascii_lowercase + string.digits) for _ in range(12))\n",
    "print(\"Artist unique id\", artistid)"
   ]
  },
  {
   "cell_type": "code",
   "execution_count": null,
   "id": "e9129061",
   "metadata": {},
   "outputs": [],
   "source": [
    "# Creating an asset for musical artist Adele\n",
    "print(\"Creating Asset\")\n",
    "asset = create_asset(arch, \"Adele Laurie Blue Adkins\", \"Adele\", \"Soul\", artistid)\n",
    "print(\"Asset\", json_dumps(asset, indent=4))"
   ]
  },
  {
   "cell_type": "code",
   "execution_count": null,
   "id": "4095a75f",
   "metadata": {},
   "outputs": [],
   "source": [
    "# Create two events that contain album release information for Adele\n",
    "print(\"Creating Events\")\n",
    "event_one = create_event(arch, asset, \"19\", \"2008\")\n",
    "print(\"Event for Album 19\", json_dumps(event_one, indent=4))\n",
    "event_two = create_event(arch, asset, \"21\", \"2011\")\n",
    "print(\"Event for Album 21\", json_dumps(event_two, indent=4))"
   ]
  }
 ],
 "metadata": {
  "kernelspec": {
   "display_name": "Python 3 (ipykernel)",
   "language": "python",
   "name": "python3"
  },
  "language_info": {
   "codemirror_mode": {
    "name": "ipython",
    "version": 3
   },
   "file_extension": ".py",
   "mimetype": "text/x-python",
   "name": "python",
   "nbconvert_exporter": "python",
   "pygments_lexer": "ipython3",
   "version": "3.7.15"
  },
  "vscode": {
   "interpreter": {
    "hash": "aee8b7b246df8f9039afb4144a1f6fd8d2ca17a180786b69acc140d282b71a49"
   }
  }
 },
 "nbformat": 4,
 "nbformat_minor": 5
}
