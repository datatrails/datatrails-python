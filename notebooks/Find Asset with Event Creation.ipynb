{
 "cells": [
  {
   "cell_type": "code",
   "execution_count": null,
   "id": "43758e9b",
   "metadata": {},
   "outputs": [],
   "source": [
    "# Find an Asset and create events\n",
    "#\n",
    "# Main function, establishes a connection to RKVST using an App Registration then uses that \n",
    "# to find an Asset and create events."
   ]
  },
  {
   "cell_type": "code",
   "execution_count": null,
   "id": "40624149",
   "metadata": {},
   "outputs": [],
   "source": [
    "from json import dumps as json_dumps\n",
    "from os import getenv\n",
    "from warnings import filterwarnings\n",
    "\n",
    "from archivist.archivist import Archivist\n",
    "from archivist.proof_mechanism import ProofMechanism\n",
    "from archivist.logger import set_logger\n",
    "\n",
    "filterwarnings(\"ignore\", message=\"Unverified HTTPS request\")"
   ]
  },
  {
   "cell_type": "code",
   "execution_count": null,
   "id": "1f799f2a",
   "metadata": {},
   "outputs": [],
   "source": [
    "# Connection parameters.  Fill in with client ID and secret from an appropriately \n",
    "# permissioned Application Registration\n",
    "RKVST_URL=\"https://app.rkvst-poc.io\"\n",
    "APPREG_CLIENT=\"xxxxxxxx-xxxx-xxxx-xxxx-xxxxxxxxxxxx\"\n",
    "APPREG_SECRET=\"xxxxxxxxxxxxxxxxxxxxxxxxxxxxxxxxxxxxxxxxxxxxxxxxxxxxxxxxxxxxxxxx\""
   ]
  },
  {
   "cell_type": "code",
   "execution_count": null,
   "id": "aa63d95a",
   "metadata": {},
   "outputs": [],
   "source": [
    "def get_asset(arch, name, artistid):\n",
    "    \"\"\"\n",
    "    Finds existing Artist asset by name and unique id\n",
    "    \"\"\"\n",
    "    attrs = {\n",
    "        \"arc_display_type\": \"Artists\",\n",
    "        \"arc_display_name\": name,\n",
    "        \"artistid\": artistid\n",
    "    }\n",
    "    \n",
    "    return arch.assets.read_by_signature(attrs=attrs)"
   ]
  },
  {
   "cell_type": "code",
   "execution_count": null,
   "id": "66df6ebc",
   "metadata": {},
   "outputs": [],
   "source": [
    "def create_event(arch, asset, album_name, release):\n",
    "    \"\"\"\n",
    "    Creates an event for existing Artist asset\n",
    "    \"\"\"\n",
    "    props = {\n",
    "        \"operation\": \"Record\",\n",
    "        \"behaviour\": \"RecordEvidence\"\n",
    "    }\n",
    "    attrs = {\n",
    "        \"arc_description\": \"Artist Information for existing Artist\",\n",
    "        \"arc_display_type\": \"Album Release for existing Artist\",\n",
    "        \"album_name\": album_name,\n",
    "        \"relase_year\": release\n",
    "    }\n",
    "    \n",
    "    return arch.events.create(asset[\"identity\"], props=props, attrs=attrs)"
   ]
  },
  {
   "cell_type": "code",
   "execution_count": null,
   "id": "6f5b4221",
   "metadata": {},
   "outputs": [],
   "source": [
    "\"\"\"\n",
    "Main function of asset and event creation.\n",
    "\n",
    "* Connect to RKVST with client ID and client secret\n",
    "* Finds existing asset \n",
    "* Creates additional events for existing asset\n",
    "* Prints response of existing asset and event creation\n",
    "\"\"\"\n",
    "# Optional call to set the logger level.  The argument can be either \n",
    "# \"INFO\" or \"DEBUG\".  For more sophisticated logging control see our \n",
    "# documentation.\n",
    "set_logger(\"INFO\")\n",
    "\n",
    "# Initialize connection to RKVST\n",
    "print(\"Connecting to RKVST\")\n",
    "arch = Archivist(RKVST_URL, (APPREG_CLIENT, APPREG_SECRET), max_time=300)"
   ]
  },
  {
   "cell_type": "code",
   "execution_count": null,
   "id": "0055fe00",
   "metadata": {},
   "outputs": [],
   "source": [
    "# Finding existing artist by name and artist id\n",
    "# Fill in the artistid from Create Asset and Events notebook\n",
    "print(\"Finding Asset\")\n",
    "asset = get_asset(arch, \"Adele Laurie Blue Adkins\",\"xxxxxxxxxxxx\")\n",
    "print(\"Asset\", json_dumps(asset, indent=4))"
   ]
  },
  {
   "cell_type": "code",
   "execution_count": null,
   "id": "8ac5add2",
   "metadata": {},
   "outputs": [],
   "source": [
    "# Create two events that contain album release information for existing Artist\n",
    "print(\"Creating Events for existing Asset\")\n",
    "event_one = create_event(arch, asset, \"25\", \"2015\")\n",
    "print(\"Event for Album 25\", json_dumps(event_one, indent=4))\n",
    "event_two = create_event(arch, asset, \"30\", \"2021\")\n",
    "print(\"Event for Album 30\", json_dumps(event_two, indent=4))"
   ]
  }
 ],
 "metadata": {
  "kernelspec": {
   "display_name": "Python 3 (ipykernel)",
   "language": "python",
   "name": "python3"
  },
  "language_info": {
   "codemirror_mode": {
    "name": "ipython",
    "version": 3
   },
   "file_extension": ".py",
   "mimetype": "text/x-python",
   "name": "python",
   "nbconvert_exporter": "python",
   "pygments_lexer": "ipython3",
   "version": "3.9.5"
  },
  "vscode": {
   "interpreter": {
    "hash": "aee8b7b246df8f9039afb4144a1f6fd8d2ca17a180786b69acc140d282b71a49"
   }
  }
 },
 "nbformat": 4,
 "nbformat_minor": 5
}
